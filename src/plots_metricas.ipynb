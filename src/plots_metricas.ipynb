{
 "cells": [
  {
   "cell_type": "markdown",
   "metadata": {},
   "source": [
    "Función de las curvas ROC"
   ]
  },
  {
   "cell_type": "code",
   "execution_count": null,
   "metadata": {},
   "outputs": [],
   "source": [
    "def grafico_roc(modelo, titulo):\n",
    "    \n",
    "    # Se calcula la predicción en términos de probabilidad\n",
    "    y_probabilidad = modelo.predict_proba(X_test)\n",
    "    \n",
    "    # Se realiza el gráfico \n",
    "    skplt.metrics.plot_roc(y_test, y_probabilidad, figsize=(12,7))\n",
    "    plt.title(titulo);"
   ]
  },
  {
   "cell_type": "markdown",
   "metadata": {},
   "source": [
    "Función del accuracy"
   ]
  },
  {
   "cell_type": "code",
   "execution_count": 1,
   "metadata": {},
   "outputs": [],
   "source": [
    "def accuracy(modelo):\n",
    "    '''\n",
    "    Solo toma como arumento el modelo del que se quiere\n",
    "    calcular el accuracy. Es necesario que los objetos X_test e y_test \n",
    "    estén definidos previamente\n",
    "    \n",
    "    '''\n",
    "    \n",
    "    return modelo.score(X_test, y_test)"
   ]
  },
  {
   "cell_type": "markdown",
   "metadata": {},
   "source": [
    "Función de la matriz de confusión"
   ]
  },
  {
   "cell_type": "code",
   "execution_count": 2,
   "metadata": {},
   "outputs": [],
   "source": [
    "def plot_matriz_confusion(modelo, titulo):\n",
    "    prediccion = modelo.predict(X_test) # la predicción\n",
    "    \n",
    "    confusion = confusion_matrix(y_test, prediccion) # la matriz de confusión\n",
    "    \n",
    "    # Definimos los elementos que van a ir dentro del gráfico: texto y número\n",
    "    etiquetas = ['Verdaderos negativos', 'Falsos positivos', 'Falsos negativos', 'Verdaderos positivos']\n",
    "    \n",
    "    totales = ['{0:0.0f}'.format(value) for value in\n",
    "                confusion.flatten()] # matriz 'plana'\n",
    "    \n",
    "    porcentuales = ['{0:.2%}'.format(value) for value in\n",
    "                     confusion.flatten()/np.sum(confusion)] # calcula el porcentaje \n",
    "    \n",
    "    labels = [f'{v1}\\n{v2}\\n{v3}' for v1, v2, v3 in\n",
    "          zip(etiquetas, totales, porcentuales)]\n",
    "    \n",
    "    labels = np.asarray(labels).reshape(2,2)\n",
    "    \n",
    "    # Y ahora el plot\n",
    "    plt.subplots(figsize=(12, 7))\n",
    "    \n",
    "    sns.heatmap(confusion, annot=labels, fmt='', cmap='Greens')\n",
    "    plt.title(titulo)\n",
    "    plt.xlabel('Valor real')\n",
    "    plt.ylabel('Valor estimado')"
   ]
  },
  {
   "cell_type": "markdown",
   "metadata": {},
   "source": [
    "Grafico de la roc con el punto optimo"
   ]
  },
  {
   "cell_type": "code",
   "execution_count": 6,
   "metadata": {},
   "outputs": [],
   "source": [
    "def roc_punto_optimo (modelo, clase_positiva, nombre_modelo):\n",
    "        '''\n",
    "        Toma como argumentos el modelo que va a usar para los cálculos y el \n",
    "        nombre de la clase positiva. Necesario que los objetos X_test e y_test estén definidos. Hay que especificar el\n",
    "        nombre del modleo, para la etiqueta del plot\n",
    "        '''\n",
    "        \n",
    "        probabilidad_pagador = modelo.predict_proba(X_test)[:, 1] # calcula la prediccion en terminos de probabilidad\n",
    "        \n",
    "        # Valores necesarios para el cálculo\n",
    "        tasa_falsos_positivos, tasa_verdaderos_positivos, umbrales = roc_curve(y_test, \n",
    "                                                                           probabilidad_pagador, \n",
    "                                                                           pos_label=clase_positiva)\n",
    "        \n",
    "        # Media geometrica y extraccion del optimo\n",
    "        media_geometrica = np.sqrt(tasa_verdaderos_positivos * (1-tasa_falsos_positivos))\n",
    "        indice_maxima_gmean = np.argmax(media_geometrica)\n",
    "\n",
    "        # El plot \n",
    "        plt.figure(figsize=(12, 7))\n",
    "\n",
    "\n",
    "\n",
    "        plt.plot([0,1], [0,1], # es simplemente una linea recta en diagonal \n",
    "                 linestyle='--', # linea punteada\n",
    "                 color='red',\n",
    "                 label='Modelo baseline') # etiqueta de la leyenda\n",
    "\n",
    "        # Plot de la roc\n",
    "        plt.plot(tasa_falsos_positivos, # en el eje x, los falsos positivos\n",
    "                 tasa_verdaderos_positivos, # en el eje y, los verdaderos positivos\n",
    "                 marker='.',\n",
    "                 linewidth=0.1,\n",
    "                 color='darkblue',\n",
    "                 label=nombre_modelo)\n",
    "\n",
    "        # Plot del punto óptimo\n",
    "        plt.scatter(tasa_falsos_positivos[indice_maxima_gmean], # coordenada en el eje x\n",
    "                    tasa_verdaderos_positivos[indice_maxima_gmean], # coordenada en el eje y\n",
    "                    s=180, # tamaño\n",
    "                    marker='o', \n",
    "                    color='orange', \n",
    "                    label='Óptimo')\n",
    "\n",
    "        # Etiquetas \n",
    "        plt.title('Curva ROC y punto óptimo')\n",
    "        plt.xlabel('Tasa de falsos positivos')\n",
    "        plt.ylabel('Tasa de verdaderos positivos')\n",
    "        plt.legend();      \n",
    "        \n",
    "        print(f' El umbral óptimo es {round(media_geometrica[indice_maxima_gmean], 2)}')"
   ]
  },
  {
   "cell_type": "markdown",
   "metadata": {},
   "source": [
    "Precision-recall con punto optimo"
   ]
  },
  {
   "cell_type": "code",
   "execution_count": 5,
   "metadata": {},
   "outputs": [],
   "source": [
    "def precision_recall_punto_optimo(modelo, clase_positiva, nombre_modelo): \n",
    "    '''\n",
    "    Devuelve el gráfico de precision-recall con el punto óptimo. Necesario determinar la clase positva y \n",
    "    el nombre del modelo. Neceario que los objetos X_test e y_test estén definidos\n",
    "    \n",
    "    '''\n",
    "    probabilidad_pagador = modelo.predict_proba(X_test)[:, 1] # calcula la prediccion en terminos de probabilida\n",
    "    \n",
    "    # Se obtienen los valores de la curva \n",
    "    precision, recall, umbral = precision_recall_curve(y_test, \n",
    "                                                       probabilidad_pagador, \n",
    "                                                       pos_label=clase_positiva)\n",
    "    \n",
    "    \n",
    "    \n",
    "    # Cálculo de la Fscore\n",
    "    fscore = (2 * precision * recall) / (precision + recall)\n",
    "\n",
    "    indice_fscore = np.argmax(fscore)\n",
    "\n",
    "    plt.figure(figsize=(12, 7))\n",
    "\n",
    "    # Calculamos los valores del modelo base\n",
    "    modelo_base = len(y_test[y_test == clase_positiva].dropna()) / len(y_test)\n",
    "    \n",
    "    # Plot del modelo base\n",
    "    plt.plot([0, 1], \n",
    "             [modelo_base, modelo_base], \n",
    "             linestyle='--',\n",
    "             color='red',\n",
    "             label='Modelo base')\n",
    "    \n",
    "    # Plot de los valores del XGBoost\n",
    "    plt.plot(recall, # en el eje x los valores de recall\n",
    "             precision,  # en el eje y los valores de precisión\n",
    "             marker='.',\n",
    "             color='darkblue',\n",
    "             label=nombre_modelo)\n",
    "    \n",
    "    # Plot del punto óptimo\n",
    "    plt.scatter(recall[indice_fscore], # mismo valor en cada eje\n",
    "                precision[indice_fscore], \n",
    "                s=180, \n",
    "                marker='o', \n",
    "                color='orange', \n",
    "                label='Óptimo')\n",
    "    \n",
    "    # Etiquetas de los ejes\n",
    "    plt.title('Curva Recall-Precisión')\n",
    "    plt.xlabel('Recall')\n",
    "    plt.ylabel('Precision')\n",
    "    plt.legend();\n",
    "    \n",
    "    print(f' El nivel de probabilidad que optimiza la F1  es {round(fscore[indice_fscore], 2)}')"
   ]
  }
 ],
 "metadata": {
  "kernelspec": {
   "display_name": "Python 3",
   "language": "python",
   "name": "python3"
  },
  "language_info": {
   "codemirror_mode": {
    "name": "ipython",
    "version": 3
   },
   "file_extension": ".py",
   "mimetype": "text/x-python",
   "name": "python",
   "nbconvert_exporter": "python",
   "pygments_lexer": "ipython3",
   "version": "3.7.4"
  }
 },
 "nbformat": 4,
 "nbformat_minor": 2
}
