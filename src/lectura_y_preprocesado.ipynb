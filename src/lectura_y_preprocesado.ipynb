{
 "cells": [
  {
   "cell_type": "markdown",
   "metadata": {},
   "source": [
    "Definimos una función genral que leerá los datos en el exámen y efectuará las transformaciones oportunas. \n",
    "Se definen primero las funciones por partes"
   ]
  },
  {
   "cell_type": "code",
   "execution_count": 2,
   "metadata": {},
   "outputs": [],
   "source": [
    "# Función de lectura básica: irá dentro de la grande, al principio\n",
    "def lectura(archivo):\n",
    "    \n",
    "    columnas_para_leer = ['loan_amnt', 'term', 'int_rate', 'grade', 'emp_length',\n",
    "                          'home_ownership', 'annual_inc', 'loan_status', 'purpose', 'dti',\n",
    "                          'pub_rec', 'application_type',\n",
    "                          'annual_inc_joint', 'dti_joint', 'mort_acc', 'pub_rec_bankruptcies',\n",
    "                          'last_fico_range_low', 'last_fico_range_high']\n",
    "    \n",
    "    \n",
    "\n",
    "    data = pd.read_csv(archivo, \n",
    "                       skiprows=1, # saltar primera fila\n",
    "                       skipfooter=2,  # saltar dos ultimas filas \n",
    "                       engine='python',\n",
    "                       usecols=columnas_para_leer)\n",
    "    return data"
   ]
  },
  {
   "cell_type": "markdown",
   "metadata": {},
   "source": [
    "Función para la transformación de la variabe dependiente"
   ]
  },
  {
   "cell_type": "code",
   "execution_count": 4,
   "metadata": {},
   "outputs": [],
   "source": [
    "def transformar_taget(data):\n",
    "    no_current = (data.loan_status != 'Current')\n",
    "    \n",
    "    # Aplicacion del filtro\n",
    "    data = data[no_current] \n",
    "    \n",
    "    # Unificación en paga/no paga\n",
    "    data.loan_status = data.loan_status.map(lambda x: 'Paga' if x == 'Fully Paid' else 'No paga')\n",
    "    \n",
    "    return data"
   ]
  },
  {
   "cell_type": "markdown",
   "metadata": {},
   "source": [
    "Función para transformar la cuolumna del tipo de interés "
   ]
  },
  {
   "cell_type": "code",
   "execution_count": 3,
   "metadata": {},
   "outputs": [],
   "source": [
    "def transformar_tipo (data):\n",
    "    data.int_rate = data.int_rate.str.rstrip('%').astype('float')\n",
    "    return data"
   ]
  },
  {
   "cell_type": "markdown",
   "metadata": {},
   "source": [
    "Funciones para la trasnformación de las columnas FICO"
   ]
  },
  {
   "cell_type": "code",
   "execution_count": 4,
   "metadata": {},
   "outputs": [],
   "source": [
    "def rating_fico (x, y):\n",
    "    if  x >= 800 & y <= 850:\n",
    "        return 'Exceptional'\n",
    "    elif x >= 749 & y <= 799:\n",
    "        return 'Very good'\n",
    "    elif x >= 670 & y <= 739:\n",
    "        return 'Good'\n",
    "    elif x >= 580 & y <= 669:\n",
    "        return 'Fair'\n",
    "    else:\n",
    "        return 'Very poor'"
   ]
  },
  {
   "cell_type": "code",
   "execution_count": 5,
   "metadata": {},
   "outputs": [],
   "source": [
    "def transformar_FICO(data):\n",
    "    data['rating_fico'] = data.apply(lambda row: \n",
    "                                 rating_fico(row['last_fico_range_low'], \n",
    "                                             row['last_fico_range_high']), axis = 1)\n",
    "    \n",
    "    data.drop(['last_fico_range_low', 'last_fico_range_high'], axis=1, inplace=True)\n",
    "    return data"
   ]
  },
  {
   "cell_type": "markdown",
   "metadata": {},
   "source": [
    "Función para la transformación de la columna de bancarrotas"
   ]
  },
  {
   "cell_type": "code",
   "execution_count": 6,
   "metadata": {},
   "outputs": [],
   "source": [
    "def transformar_bancarrotas(data):\n",
    "    data.pub_rec_bankruptcies = data.pub_rec_bankruptcies.map(lambda x: '7 o menos' if x <= 7 else 'Más de 7')\n",
    "    return data"
   ]
  },
  {
   "cell_type": "markdown",
   "metadata": {},
   "source": [
    "Función para la transformación de la columna de registros públicos"
   ]
  },
  {
   "cell_type": "code",
   "execution_count": 7,
   "metadata": {},
   "outputs": [],
   "source": [
    "def transformar_registro_publico(data):\n",
    "    data.pub_rec = data.pub_rec.map(lambda x: '11 o menos' if x <= 11 else 'Más de 11')\n",
    "    return data"
   ]
  },
  {
   "cell_type": "markdown",
   "metadata": {},
   "source": [
    "Finalmente, se define una función general, que tomará como argumento los datos nuevos y aplicará todas estas funciones"
   ]
  },
  {
   "cell_type": "code",
   "execution_count": 5,
   "metadata": {},
   "outputs": [],
   "source": [
    "def lectura_limpia (archivo):\n",
    "    '''\n",
    "    Esta función solo toma como parámetro el archivo csv que queremos leer, que ha de estar en formato\n",
    "    csv. Comienza eliminando los duplicados y va aplicando todas las funciónes de transformación \n",
    "    previamente definidas\n",
    "    \n",
    "    '''\n",
    "    # Lectura\n",
    "    data = lectura(archivo)\n",
    "    \n",
    "    # Eliminar los duplicados \n",
    "    data = data.drop_duplicates()\n",
    "    \n",
    "    # Transformación del target\n",
    "    data = transformar_taget(data)\n",
    "    \n",
    "    # Transformacion de tipo de interes \n",
    "    data = transformar_tipo(data)\n",
    "    \n",
    "    # Transformación columna FICO \n",
    "    data = transformar_FICO(data)\n",
    "   \n",
    "    # Transformación columna bancarrotas \n",
    "    data = transformar_bancarrotas(data)\n",
    "\n",
    "    # Transformación columna registros publicos \n",
    "    data = transformar_registro_publico(data)\n",
    "    \n",
    "    return data"
   ]
  }
 ],
 "metadata": {
  "kernelspec": {
   "display_name": "Python 3",
   "language": "python",
   "name": "python3"
  },
  "language_info": {
   "codemirror_mode": {
    "name": "ipython",
    "version": 3
   },
   "file_extension": ".py",
   "mimetype": "text/x-python",
   "name": "python",
   "nbconvert_exporter": "python",
   "pygments_lexer": "ipython3",
   "version": "3.7.4"
  }
 },
 "nbformat": 4,
 "nbformat_minor": 2
}
