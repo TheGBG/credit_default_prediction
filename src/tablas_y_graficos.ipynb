{
 "cells": [
  {
   "cell_type": "markdown",
   "metadata": {},
   "source": [
    "En este notebook guardamos las dos funciones utilizadas a lo largo del EDA para calcular las tablas de impago y los gráficos de barras porcentuales, para poder utilizar estas funciones de nuevo en la parte de ingeniería de variables"
   ]
  },
  {
   "cell_type": "markdown",
   "metadata": {},
   "source": [
    "Función de la tabla de porcentaje de impago"
   ]
  },
  {
   "cell_type": "code",
   "execution_count": 1,
   "metadata": {},
   "outputs": [],
   "source": [
    "def tabla_impagos (datos, columna):\n",
    "    \"\"\" \n",
    "    La función tomará dos argumentos: el dataframe, y la columna para la que se \n",
    "    desea obtener la tabla. El argumento con la columna ha de estar entre comillas \n",
    "    \n",
    "    \"\"\"\n",
    "    \n",
    "    # Agrupación por la columna deseada\n",
    "    resultado =  datos.loc[:, [columna, 'paga', 'no paga']].groupby([columna]).sum()\n",
    "    \n",
    "    # Cálculo de la columna de total sumando filas\n",
    "    resultado['total'] = resultado.loc[:,['paga', 'no paga']].sum(axis=1)\n",
    "    \n",
    "    # Cáuclulo de la columna del porcentaje \n",
    "    resultado['porcentaje_impago'] = (resultado['no paga'] / resultado.total * 100).round(2)\n",
    "    \n",
    "    # Se reinicia el índice de la tabla\n",
    "    resultado.reset_index(inplace=True) \n",
    "    \n",
    "    return resultado"
   ]
  },
  {
   "cell_type": "markdown",
   "metadata": {},
   "source": [
    "Función del gráfico porcentual "
   ]
  },
  {
   "cell_type": "code",
   "execution_count": 2,
   "metadata": {},
   "outputs": [],
   "source": [
    "def barras_porcentuales(datos, eje_x, titulo, etiqueta_x):\n",
    "    \"\"\"\n",
    "    La función  tomará como argunemtos los datos, la variable del eje x, el título y la etiqueta del eje x.\n",
    "    La variable del eje y, por la forma en que se construyen las tablas, está siempre en el mismo lugar, así que \n",
    "    no hace falta que el usuario la escriba. La etiqueta del eje y es también siempre la misma\n",
    "    \"\"\"\n",
    "    plt.subplots(figsize=(12, 7))\n",
    "    \n",
    "    sns.barplot(x=eje_x, # debe elegirla el usuario\n",
    "                y='porcentaje_impago', # última columna del dataset, siempre se llama así\n",
    "                data=datos) \n",
    "    \n",
    "    plt.title(titulo)\n",
    "    plt.xlabel(etiqueta_x)\n",
    "    plt.ylabel('Porcentaje de impago');"
   ]
  }
 ],
 "metadata": {
  "kernelspec": {
   "display_name": "Python 3",
   "language": "python",
   "name": "python3"
  },
  "language_info": {
   "codemirror_mode": {
    "name": "ipython",
    "version": 3
   },
   "file_extension": ".py",
   "mimetype": "text/x-python",
   "name": "python",
   "nbconvert_exporter": "python",
   "pygments_lexer": "ipython3",
   "version": "3.7.4"
  }
 },
 "nbformat": 4,
 "nbformat_minor": 2
}
