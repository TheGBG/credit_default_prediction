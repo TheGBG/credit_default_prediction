{
 "cells": [
  {
   "cell_type": "markdown",
   "metadata": {},
   "source": [
    "### Autores:  \n",
    "Blanco García, Gabriel: gabriel.blanco@cunef.edu  \n",
    "Ferrín Meilán, Michelle: michelle.ferrin@cunef.edu\n",
    "\n",
    "## Colegio Universitario de Estudios Financieros\n",
    "### Máster en Data Science para Finanzas\n",
    "Madrid, diciembre de 2020"
   ]
  },
  {
   "cell_type": "markdown",
   "metadata": {},
   "source": [
    "# Ingeniería de variables "
   ]
  },
  {
   "cell_type": "markdown",
   "metadata": {},
   "source": [
    "<img src='https://miro.medium.com/max/1454/1*IIzkoFmfkonD50BTQZNU-g.png'>"
   ]
  },
  {
   "cell_type": "markdown",
   "metadata": {},
   "source": [
    "Se conoce como ingeniería de variables al proceso de generación de nuevas variables en el dataset con el objetivo de mejorar el rendimiento de los modelos. Ese es el motivo de esta sección, aplicar el conocimiento del EDA para la creación de nuevas variables"
   ]
  },
  {
   "cell_type": "markdown",
   "metadata": {},
   "source": [
    "Importamos las librerías y cargamos los datos resultantes del análisis exploratorio"
   ]
  },
  {
   "cell_type": "code",
   "execution_count": 1,
   "metadata": {},
   "outputs": [],
   "source": [
    "import pandas as pd\n",
    "import numpy as np \n",
    "import matplotlib.pyplot as plt\n",
    "import seaborn as sns\n",
    "\n",
    "# Este notebook contiene nuestras funciones para generar las tablas y gráficos porcentuales\n",
    "%run ../src/tablas_y_graficos.ipynb"
   ]
  },
  {
   "cell_type": "code",
   "execution_count": 2,
   "metadata": {},
   "outputs": [],
   "source": [
    "datos = pd.read_csv('../data/intermediate/pre_clean_data.csv', engine='python')"
   ]
  },
  {
   "cell_type": "markdown",
   "metadata": {},
   "source": [
    "###  FICO "
   ]
  },
  {
   "cell_type": "markdown",
   "metadata": {},
   "source": [
    "Las variables fico hacen referencia a un rating externo a lending club, que viene dado en intervalos. La variable low  indica el limite inferior, y la variable high indica el limite superior. Las equivalencias son las siguientes: \n",
    "<img src='../images/Captura.jpg'>"
   ]
  },
  {
   "cell_type": "markdown",
   "metadata": {},
   "source": [
    "Utilizando estas métricas, definimos una función para codificar las columnas, y pasar de dos columnas a una única "
   ]
  },
  {
   "cell_type": "code",
   "execution_count": 3,
   "metadata": {},
   "outputs": [],
   "source": [
    "# Definimos la función de transformación de la nota FICO\n",
    "def rating_fico (x, y):\n",
    "    if  x >= 800 & y <= 850:\n",
    "        return 'Exceptional'\n",
    "    elif x >= 749 & y <= 799:\n",
    "        return 'Very good'\n",
    "    elif x >= 670 & y <= 739:\n",
    "        return 'Good'\n",
    "    elif x >= 580 & y <= 669:\n",
    "        return 'Fair'\n",
    "    else:\n",
    "        return 'Very poor'"
   ]
  },
  {
   "cell_type": "code",
   "execution_count": 4,
   "metadata": {},
   "outputs": [
    {
     "data": {
      "text/plain": [
       "462188    Exceptional\n",
       "462189      Very poor\n",
       "462190    Exceptional\n",
       "Name: rating_fico, dtype: object"
      ]
     },
     "execution_count": 4,
     "metadata": {},
     "output_type": "execute_result"
    }
   ],
   "source": [
    "# Aplicamos la función para crear la nueva columna\n",
    "datos['rating_fico'] = datos.apply(lambda row: \n",
    "                                   rating_fico(row['last_fico_range_low'], \n",
    "                                               row['last_fico_range_high']), axis = 1)\n",
    "\n",
    "\n",
    "datos.rating_fico.tail(3) # resultado"
   ]
  },
  {
   "cell_type": "code",
   "execution_count": 5,
   "metadata": {},
   "outputs": [],
   "source": [
    "# Eliminamos las columnas originales \n",
    "datos.drop(['last_fico_range_low', 'last_fico_range_high'], axis=1, inplace=True)"
   ]
  },
  {
   "cell_type": "markdown",
   "metadata": {},
   "source": [
    "Ahora podemos analizar el porcentaje de impago de las categorías de esta variable"
   ]
  },
  {
   "cell_type": "code",
   "execution_count": 28,
   "metadata": {},
   "outputs": [
    {
     "data": {
      "text/html": [
       "<div>\n",
       "<style scoped>\n",
       "    .dataframe tbody tr th:only-of-type {\n",
       "        vertical-align: middle;\n",
       "    }\n",
       "\n",
       "    .dataframe tbody tr th {\n",
       "        vertical-align: top;\n",
       "    }\n",
       "\n",
       "    .dataframe thead th {\n",
       "        text-align: right;\n",
       "    }\n",
       "</style>\n",
       "<table border=\"1\" class=\"dataframe\">\n",
       "  <thead>\n",
       "    <tr style=\"text-align: right;\">\n",
       "      <th></th>\n",
       "      <th>rating_fico</th>\n",
       "      <th>paga</th>\n",
       "      <th>no paga</th>\n",
       "      <th>total</th>\n",
       "      <th>porcentaje_impago</th>\n",
       "    </tr>\n",
       "  </thead>\n",
       "  <tbody>\n",
       "    <tr>\n",
       "      <td>0</td>\n",
       "      <td>Exceptional</td>\n",
       "      <td>337146</td>\n",
       "      <td>98040</td>\n",
       "      <td>435186</td>\n",
       "      <td>22.53</td>\n",
       "    </tr>\n",
       "    <tr>\n",
       "      <td>1</td>\n",
       "      <td>Good</td>\n",
       "      <td>900</td>\n",
       "      <td>4327</td>\n",
       "      <td>5227</td>\n",
       "      <td>82.78</td>\n",
       "    </tr>\n",
       "    <tr>\n",
       "      <td>2</td>\n",
       "      <td>Very good</td>\n",
       "      <td>6114</td>\n",
       "      <td>40</td>\n",
       "      <td>6154</td>\n",
       "      <td>0.65</td>\n",
       "    </tr>\n",
       "    <tr>\n",
       "      <td>3</td>\n",
       "      <td>Very poor</td>\n",
       "      <td>1360</td>\n",
       "      <td>14264</td>\n",
       "      <td>15624</td>\n",
       "      <td>91.30</td>\n",
       "    </tr>\n",
       "  </tbody>\n",
       "</table>\n",
       "</div>"
      ],
      "text/plain": [
       "   rating_fico    paga  no paga   total  porcentaje_impago\n",
       "0  Exceptional  337146    98040  435186              22.53\n",
       "1         Good     900     4327    5227              82.78\n",
       "2    Very good    6114       40    6154               0.65\n",
       "3    Very poor    1360    14264   15624              91.30"
      ]
     },
     "execution_count": 28,
     "metadata": {},
     "output_type": "execute_result"
    }
   ],
   "source": [
    "impagos_fico = tabla_impagos(datos, 'rating_fico')\n",
    "impagos_fico"
   ]
  },
  {
   "cell_type": "markdown",
   "metadata": {},
   "source": [
    "Se puede observar como la gran mayoría de los préstamos del dataset fueron concedidos a personas con el mejor rating. Sin embargo, las categorías good y poor tienen un mayor peso, y porcentaje de impago, que la categoría very good. Representamos los resultados "
   ]
  },
  {
   "cell_type": "code",
   "execution_count": 30,
   "metadata": {},
   "outputs": [
    {
     "data": {
      "image/png": "[encoded data removed]",
      "text/plain": [
       "<Figure size 864x504 with 1 Axes>"
      ]
     },
     "metadata": {
      "needs_background": "light"
     },
     "output_type": "display_data"
    }
   ],
   "source": [
    "barras_porcentuales(impagos_fico.sort_values(['porcentaje_impago']), \n",
    "                    eje_x='rating_fico',\n",
    "                    titulo='Porcentaje de impago según la nota FICO',\n",
    "                    etiqueta_x='Nota FICO')"
   ]
  },
  {
   "cell_type": "markdown",
   "metadata": {},
   "source": [
    "Es evidente que esta nota puede servir para predecir el impago. El efecto de que la categoría excepcional tenga mayores impagos\n",
    "que very good puede deberse al mayor número de préstamos a esta categoría"
   ]
  },
  {
   "cell_type": "markdown",
   "metadata": {},
   "source": [
    "### Bancarrotas y registros públicos"
   ]
  },
  {
   "cell_type": "markdown",
   "metadata": {},
   "source": [
    "Como se comentaba en el EDA, se generan nuevas variables a partir de bancarrotas y registros públicos. Para bancarrotas, se codifica si el prestatario tiene más de 3 bancarrotas en el registro público. Para los registros públicos, se codifica si el prestatario tiene más de 5"
   ]
  },
  {
   "cell_type": "code",
   "execution_count": 6,
   "metadata": {},
   "outputs": [],
   "source": [
    "# Bancarrotas \n",
    "datos.pub_rec_bankruptcies = datos.pub_rec_bankruptcies.map(lambda x: '7 o menos' if x <= 7 else 'Más de 7')\n",
    "\n",
    "# Registros públicos \n",
    "datos.pub_rec = datos.pub_rec.map(lambda x: '11 o menos' if x <= 11 else 'Más de 11')"
   ]
  },
  {
   "cell_type": "code",
   "execution_count": 64,
   "metadata": {},
   "outputs": [
    {
     "data": {
      "text/html": [
       "<div>\n",
       "<style scoped>\n",
       "    .dataframe tbody tr th:only-of-type {\n",
       "        vertical-align: middle;\n",
       "    }\n",
       "\n",
       "    .dataframe tbody tr th {\n",
       "        vertical-align: top;\n",
       "    }\n",
       "\n",
       "    .dataframe thead th {\n",
       "        text-align: right;\n",
       "    }\n",
       "</style>\n",
       "<table border=\"1\" class=\"dataframe\">\n",
       "  <thead>\n",
       "    <tr style=\"text-align: right;\">\n",
       "      <th></th>\n",
       "      <th>pub_rec_bankruptcies</th>\n",
       "      <th>pub_rec</th>\n",
       "    </tr>\n",
       "  </thead>\n",
       "  <tbody>\n",
       "    <tr>\n",
       "      <td>0</td>\n",
       "      <td>7 o menos</td>\n",
       "      <td>11 o menos</td>\n",
       "    </tr>\n",
       "    <tr>\n",
       "      <td>1</td>\n",
       "      <td>7 o menos</td>\n",
       "      <td>11 o menos</td>\n",
       "    </tr>\n",
       "    <tr>\n",
       "      <td>2</td>\n",
       "      <td>7 o menos</td>\n",
       "      <td>11 o menos</td>\n",
       "    </tr>\n",
       "    <tr>\n",
       "      <td>3</td>\n",
       "      <td>7 o menos</td>\n",
       "      <td>11 o menos</td>\n",
       "    </tr>\n",
       "    <tr>\n",
       "      <td>4</td>\n",
       "      <td>7 o menos</td>\n",
       "      <td>11 o menos</td>\n",
       "    </tr>\n",
       "  </tbody>\n",
       "</table>\n",
       "</div>"
      ],
      "text/plain": [
       "  pub_rec_bankruptcies     pub_rec\n",
       "0            7 o menos  11 o menos\n",
       "1            7 o menos  11 o menos\n",
       "2            7 o menos  11 o menos\n",
       "3            7 o menos  11 o menos\n",
       "4            7 o menos  11 o menos"
      ]
     },
     "execution_count": 64,
     "metadata": {},
     "output_type": "execute_result"
    }
   ],
   "source": [
    "# Resultado \n",
    "datos[['pub_rec_bankruptcies', 'pub_rec']].head()"
   ]
  },
  {
   "cell_type": "markdown",
   "metadata": {},
   "source": [
    "Podemos volver a calcular los porcentajes y los gráficos"
   ]
  },
  {
   "cell_type": "code",
   "execution_count": 65,
   "metadata": {},
   "outputs": [
    {
     "data": {
      "text/html": [
       "<div>\n",
       "<style scoped>\n",
       "    .dataframe tbody tr th:only-of-type {\n",
       "        vertical-align: middle;\n",
       "    }\n",
       "\n",
       "    .dataframe tbody tr th {\n",
       "        vertical-align: top;\n",
       "    }\n",
       "\n",
       "    .dataframe thead th {\n",
       "        text-align: right;\n",
       "    }\n",
       "</style>\n",
       "<table border=\"1\" class=\"dataframe\">\n",
       "  <thead>\n",
       "    <tr style=\"text-align: right;\">\n",
       "      <th></th>\n",
       "      <th>pub_rec_bankruptcies</th>\n",
       "      <th>paga</th>\n",
       "      <th>no paga</th>\n",
       "      <th>total</th>\n",
       "      <th>porcentaje_impago</th>\n",
       "    </tr>\n",
       "  </thead>\n",
       "  <tbody>\n",
       "    <tr>\n",
       "      <td>0</td>\n",
       "      <td>7 o menos</td>\n",
       "      <td>345518</td>\n",
       "      <td>116668</td>\n",
       "      <td>462186</td>\n",
       "      <td>25.24</td>\n",
       "    </tr>\n",
       "    <tr>\n",
       "      <td>1</td>\n",
       "      <td>Más de 7</td>\n",
       "      <td>2</td>\n",
       "      <td>3</td>\n",
       "      <td>5</td>\n",
       "      <td>60.00</td>\n",
       "    </tr>\n",
       "  </tbody>\n",
       "</table>\n",
       "</div>"
      ],
      "text/plain": [
       "  pub_rec_bankruptcies    paga  no paga   total  porcentaje_impago\n",
       "0            7 o menos  345518   116668  462186              25.24\n",
       "1             Más de 7       2        3       5              60.00"
      ]
     },
     "execution_count": 65,
     "metadata": {},
     "output_type": "execute_result"
    }
   ],
   "source": [
    "bancarrotas = tabla_impagos(datos, 'pub_rec_bankruptcies')\n",
    "bancarrotas"
   ]
  },
  {
   "cell_type": "code",
   "execution_count": 66,
   "metadata": {
    "scrolled": false
   },
   "outputs": [
    {
     "data": {
      "image/png": "[encoded data removed]",
      "text/plain": [
       "<Figure size 864x504 with 1 Axes>"
      ]
     },
     "metadata": {
      "needs_background": "light"
     },
     "output_type": "display_data"
    }
   ],
   "source": [
    "barras_porcentuales(bancarrotas, \n",
    "                    eje_x='pub_rec_bankruptcies',\n",
    "                    titulo='Impago y bancarrotas',\n",
    "                    etiqueta_x='Bancarrotas')"
   ]
  },
  {
   "cell_type": "code",
   "execution_count": 67,
   "metadata": {},
   "outputs": [
    {
     "data": {
      "text/html": [
       "<div>\n",
       "<style scoped>\n",
       "    .dataframe tbody tr th:only-of-type {\n",
       "        vertical-align: middle;\n",
       "    }\n",
       "\n",
       "    .dataframe tbody tr th {\n",
       "        vertical-align: top;\n",
       "    }\n",
       "\n",
       "    .dataframe thead th {\n",
       "        text-align: right;\n",
       "    }\n",
       "</style>\n",
       "<table border=\"1\" class=\"dataframe\">\n",
       "  <thead>\n",
       "    <tr style=\"text-align: right;\">\n",
       "      <th></th>\n",
       "      <th>pub_rec</th>\n",
       "      <th>paga</th>\n",
       "      <th>no paga</th>\n",
       "      <th>total</th>\n",
       "      <th>porcentaje_impago</th>\n",
       "    </tr>\n",
       "  </thead>\n",
       "  <tbody>\n",
       "    <tr>\n",
       "      <td>0</td>\n",
       "      <td>11 o menos</td>\n",
       "      <td>345497</td>\n",
       "      <td>116657</td>\n",
       "      <td>462154</td>\n",
       "      <td>25.24</td>\n",
       "    </tr>\n",
       "    <tr>\n",
       "      <td>1</td>\n",
       "      <td>Más de 11</td>\n",
       "      <td>23</td>\n",
       "      <td>14</td>\n",
       "      <td>37</td>\n",
       "      <td>37.84</td>\n",
       "    </tr>\n",
       "  </tbody>\n",
       "</table>\n",
       "</div>"
      ],
      "text/plain": [
       "      pub_rec    paga  no paga   total  porcentaje_impago\n",
       "0  11 o menos  345497   116657  462154              25.24\n",
       "1   Más de 11      23       14      37              37.84"
      ]
     },
     "execution_count": 67,
     "metadata": {},
     "output_type": "execute_result"
    }
   ],
   "source": [
    "registros = tabla_impagos(datos, 'pub_rec')\n",
    "registros"
   ]
  },
  {
   "cell_type": "code",
   "execution_count": 68,
   "metadata": {
    "scrolled": false
   },
   "outputs": [
    {
     "data": {
      "image/png": "[encoded data removed]",
      "text/plain": [
       "<Figure size 864x504 with 1 Axes>"
      ]
     },
     "metadata": {
      "needs_background": "light"
     },
     "output_type": "display_data"
    }
   ],
   "source": [
    "barras_porcentuales(registros,\n",
    "                    eje_x='pub_rec',\n",
    "                    titulo='Porcentaje de impago y número de registros',\n",
    "                    etiqueta_x='Registros')"
   ]
  },
  {
   "cell_type": "markdown",
   "metadata": {},
   "source": [
    "Vemos como las variables transformadas capturan bien la elevación en la tasa de impago. Será interesante incluirlas en el modelo"
   ]
  },
  {
   "cell_type": "markdown",
   "metadata": {},
   "source": [
    "# Guardado de los datos "
   ]
  },
  {
   "cell_type": "markdown",
   "metadata": {},
   "source": [
    "Finalmente, antes de pasar a la fase de modelado, eliminamos algunas columnas que no utilizaremos para los entrenamientos"
   ]
  },
  {
   "cell_type": "code",
   "execution_count": 7,
   "metadata": {},
   "outputs": [],
   "source": [
    "datos.drop(['paga', 'no paga', # solo las hemos usado para cálculos \n",
    "            'addr_state',  # no la consideramos relevante, y generaría muchísimas columnas al hacer one hot encoding\n",
    "            'installment', # misma información que loan_amnt, muy correlacionadas\n",
    "            \n",
    "            'verification_status_joint', 'verification_status', # no nos interesan estas variables de prestamos conjuntos \n",
    "            'sec_app_fico_range_low', 'sec_app_fico_range_high'], \n",
    "            axis=1, \n",
    "            inplace=True) # para no tener que reasignar "
   ]
  },
  {
   "cell_type": "code",
   "execution_count": 13,
   "metadata": {
    "scrolled": true
   },
   "outputs": [
    {
     "data": {
      "text/html": [
       "<div>\n",
       "<style scoped>\n",
       "    .dataframe tbody tr th:only-of-type {\n",
       "        vertical-align: middle;\n",
       "    }\n",
       "\n",
       "    .dataframe tbody tr th {\n",
       "        vertical-align: top;\n",
       "    }\n",
       "\n",
       "    .dataframe thead th {\n",
       "        text-align: right;\n",
       "    }\n",
       "</style>\n",
       "<table border=\"1\" class=\"dataframe\">\n",
       "  <thead>\n",
       "    <tr style=\"text-align: right;\">\n",
       "      <th></th>\n",
       "      <th>loan_amnt</th>\n",
       "      <th>term</th>\n",
       "      <th>int_rate</th>\n",
       "      <th>grade</th>\n",
       "      <th>emp_length</th>\n",
       "      <th>home_ownership</th>\n",
       "      <th>annual_inc</th>\n",
       "      <th>loan_status</th>\n",
       "      <th>purpose</th>\n",
       "      <th>dti</th>\n",
       "      <th>mths_since_last_record</th>\n",
       "      <th>pub_rec</th>\n",
       "      <th>application_type</th>\n",
       "      <th>annual_inc_joint</th>\n",
       "      <th>dti_joint</th>\n",
       "      <th>mort_acc</th>\n",
       "      <th>pub_rec_bankruptcies</th>\n",
       "      <th>rating_fico</th>\n",
       "    </tr>\n",
       "  </thead>\n",
       "  <tbody>\n",
       "    <tr>\n",
       "      <td>0</td>\n",
       "      <td>11575</td>\n",
       "      <td>36 months</td>\n",
       "      <td>7.35</td>\n",
       "      <td>A</td>\n",
       "      <td>6 years</td>\n",
       "      <td>OWN</td>\n",
       "      <td>153000.0</td>\n",
       "      <td>Paga</td>\n",
       "      <td>credit_card</td>\n",
       "      <td>16.99</td>\n",
       "      <td>84.0</td>\n",
       "      <td>11 o menos</td>\n",
       "      <td>Individual</td>\n",
       "      <td>NaN</td>\n",
       "      <td>NaN</td>\n",
       "      <td>2</td>\n",
       "      <td>7 o menos</td>\n",
       "      <td>Exceptional</td>\n",
       "    </tr>\n",
       "    <tr>\n",
       "      <td>1</td>\n",
       "      <td>7200</td>\n",
       "      <td>36 months</td>\n",
       "      <td>24.85</td>\n",
       "      <td>E</td>\n",
       "      <td>2 years</td>\n",
       "      <td>RENT</td>\n",
       "      <td>50000.0</td>\n",
       "      <td>Paga</td>\n",
       "      <td>debt_consolidation</td>\n",
       "      <td>6.07</td>\n",
       "      <td>NaN</td>\n",
       "      <td>11 o menos</td>\n",
       "      <td>Individual</td>\n",
       "      <td>NaN</td>\n",
       "      <td>NaN</td>\n",
       "      <td>0</td>\n",
       "      <td>7 o menos</td>\n",
       "      <td>Exceptional</td>\n",
       "    </tr>\n",
       "    <tr>\n",
       "      <td>2</td>\n",
       "      <td>7500</td>\n",
       "      <td>36 months</td>\n",
       "      <td>7.35</td>\n",
       "      <td>A</td>\n",
       "      <td>7 years</td>\n",
       "      <td>MORTGAGE</td>\n",
       "      <td>110000.0</td>\n",
       "      <td>Paga</td>\n",
       "      <td>debt_consolidation</td>\n",
       "      <td>13.12</td>\n",
       "      <td>NaN</td>\n",
       "      <td>11 o menos</td>\n",
       "      <td>Individual</td>\n",
       "      <td>NaN</td>\n",
       "      <td>NaN</td>\n",
       "      <td>4</td>\n",
       "      <td>7 o menos</td>\n",
       "      <td>Exceptional</td>\n",
       "    </tr>\n",
       "    <tr>\n",
       "      <td>3</td>\n",
       "      <td>10000</td>\n",
       "      <td>60 months</td>\n",
       "      <td>16.02</td>\n",
       "      <td>C</td>\n",
       "      <td>7 years</td>\n",
       "      <td>RENT</td>\n",
       "      <td>51979.0</td>\n",
       "      <td>Paga</td>\n",
       "      <td>debt_consolidation</td>\n",
       "      <td>10.11</td>\n",
       "      <td>55.0</td>\n",
       "      <td>11 o menos</td>\n",
       "      <td>Individual</td>\n",
       "      <td>NaN</td>\n",
       "      <td>NaN</td>\n",
       "      <td>0</td>\n",
       "      <td>7 o menos</td>\n",
       "      <td>Exceptional</td>\n",
       "    </tr>\n",
       "    <tr>\n",
       "      <td>4</td>\n",
       "      <td>14000</td>\n",
       "      <td>36 months</td>\n",
       "      <td>16.02</td>\n",
       "      <td>C</td>\n",
       "      <td>7 years</td>\n",
       "      <td>MORTGAGE</td>\n",
       "      <td>75000.0</td>\n",
       "      <td>Paga</td>\n",
       "      <td>debt_consolidation</td>\n",
       "      <td>10.86</td>\n",
       "      <td>NaN</td>\n",
       "      <td>11 o menos</td>\n",
       "      <td>Individual</td>\n",
       "      <td>NaN</td>\n",
       "      <td>NaN</td>\n",
       "      <td>1</td>\n",
       "      <td>7 o menos</td>\n",
       "      <td>Exceptional</td>\n",
       "    </tr>\n",
       "  </tbody>\n",
       "</table>\n",
       "</div>"
      ],
      "text/plain": [
       "   loan_amnt        term  int_rate grade emp_length home_ownership  \\\n",
       "0      11575   36 months      7.35     A    6 years            OWN   \n",
       "1       7200   36 months     24.85     E    2 years           RENT   \n",
       "2       7500   36 months      7.35     A    7 years       MORTGAGE   \n",
       "3      10000   60 months     16.02     C    7 years           RENT   \n",
       "4      14000   36 months     16.02     C    7 years       MORTGAGE   \n",
       "\n",
       "   annual_inc loan_status             purpose    dti  mths_since_last_record  \\\n",
       "0    153000.0        Paga         credit_card  16.99                    84.0   \n",
       "1     50000.0        Paga  debt_consolidation   6.07                     NaN   \n",
       "2    110000.0        Paga  debt_consolidation  13.12                     NaN   \n",
       "3     51979.0        Paga  debt_consolidation  10.11                    55.0   \n",
       "4     75000.0        Paga  debt_consolidation  10.86                     NaN   \n",
       "\n",
       "      pub_rec application_type  annual_inc_joint  dti_joint  mort_acc  \\\n",
       "0  11 o menos       Individual               NaN        NaN         2   \n",
       "1  11 o menos       Individual               NaN        NaN         0   \n",
       "2  11 o menos       Individual               NaN        NaN         4   \n",
       "3  11 o menos       Individual               NaN        NaN         0   \n",
       "4  11 o menos       Individual               NaN        NaN         1   \n",
       "\n",
       "  pub_rec_bankruptcies  rating_fico  \n",
       "0            7 o menos  Exceptional  \n",
       "1            7 o menos  Exceptional  \n",
       "2            7 o menos  Exceptional  \n",
       "3            7 o menos  Exceptional  \n",
       "4            7 o menos  Exceptional  "
      ]
     },
     "execution_count": 13,
     "metadata": {},
     "output_type": "execute_result"
    }
   ],
   "source": [
    "datos.head() # Estas son las variables con las que vamos a entrenar los modelos"
   ]
  },
  {
   "cell_type": "markdown",
   "metadata": {},
   "source": [
    "El motivo de hacer esto aquí es no tener que manipular los datos en los notebooks de los modelos, a parte del preprocesado de los pipelines.  \n",
    "Eliminamos las columnas paga y no paga porque son columnas del target, y las hemos utilizado de manera auxiliar para los calculos porcentuales. Installment, addr_state y verification status se eliminan por considerarsre irrelevantes. \n",
    "\n",
    "El resto de columnas hacen referecia a variables de los préstamos conjuntos, y consideramos que son demasiado específicas"
   ]
  },
  {
   "cell_type": "code",
   "execution_count": 8,
   "metadata": {},
   "outputs": [],
   "source": [
    "datos.to_csv('../data/clean/clean_data.csv', index=False)"
   ]
  }
 ],
 "metadata": {
  "kernelspec": {
   "display_name": "Python 3",
   "language": "python",
   "name": "python3"
  },
  "language_info": {
   "codemirror_mode": {
    "name": "ipython",
    "version": 3
   },
   "file_extension": ".py",
   "mimetype": "text/x-python",
   "name": "python",
   "nbconvert_exporter": "python",
   "pygments_lexer": "ipython3",
   "version": "3.7.4"
  }
 },
 "nbformat": 4,
 "nbformat_minor": 2
}
