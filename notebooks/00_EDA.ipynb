{
 "cells": [
  {
   "cell_type": "markdown",
   "metadata": {},
   "source": [
    "### Autores:  \n",
    "Blanco García, Gabriel: gabriel.blanco@cunef.edu  \n",
    "Ferrín Meilán, Michelle: michelle.ferrin@cunef.edu\n",
    "\n",
    "## Colegio Universitario de Estudios Financieros\n",
    "### Máster en Data Science para Finanzas\n",
    "Madrid, diciembre de 2020"
   ]
  },
  {
   "cell_type": "markdown",
   "metadata": {},
   "source": [
    "# Machine Learning para la asignación de crédito"
   ]
  },
  {
   "cell_type": "markdown",
   "metadata": {},
   "source": [
    "<img src='https://www.lendingclub.com/asset/ls/wp-assets/wp-content/uploads/2017/05/LC-Logo-Official-min-1024x418.png?v=2017-05-17T10:05:03' style=height:400px>"
   ]
  },
  {
   "cell_type": "markdown",
   "metadata": {},
   "source": [
    "## Objetivo del trabajo\n",
    "La motivación de esta práctica es desarrollar un proyecto de Machine Learning con todas sus fases y poner en práctica lo aprendido durante las clases. Se parte de una base de datos de clientes del Lending Club, y se busca tratar y analizar los datos, y construir diferentes modelos para ayudar a la decisión de quién es sujeto de crédito. Se busca establecer, a priori, si un nuevo cliente es susceptible de terminar impagando el crédito. Para ello, se plantean y evalúan distintos modelos, teniendo en cuenta en todo momento cuales serán las variables disponibles en el momento en el que un nuevo cliente solicite un crédito.\n",
    "\n",
    "Adiccionalmente, el código del trabajo debe estar lo suficientemente limpio y ordenado como para superar el test de código, que consistirá en recibir un nuevo dataset y disponer de 15 minutos para transformarlo y evaluar el modelo ganador sobre el."
   ]
  },
  {
   "cell_type": "markdown",
   "metadata": {},
   "source": [
    "# Lectura de los datos, preprocesamiento y análisis exploratorio"
   ]
  },
  {
   "cell_type": "code",
   "execution_count": 1,
   "metadata": {},
   "outputs": [],
   "source": [
    "import pandas as pd\n",
    "import numpy as np \n",
    "import matplotlib.pyplot as plt\n",
    "import seaborn as sns\n",
    "\n",
    "import warnings\n",
    "warnings.filterwarnings('ignore')"
   ]
  },
  {
   "cell_type": "markdown",
   "metadata": {},
   "source": [
    "La lecutra se hace en 4 tramos, uno por cada uno de los datset que contienen los datos del caso. En total, las observaciones suman cerca de 890.000, y se disponen de 153 variables. A continuación se muestra una vista reducida del diccionario de datos"
   ]
  },
  {
   "cell_type": "code",
   "execution_count": 3,
   "metadata": {},
   "outputs": [
    {
     "name": "stdout",
     "output_type": "stream",
     "text": [
      "               LoanStatNew                                        Description\n",
      "0           acc_now_delinq  The number of accounts on which the borrower i...\n",
      "1     acc_open_past_24mths         Number of trades opened in past 24 months.\n",
      "2               addr_state  The state provided by the borrower in the loan...\n",
      "3                 all_util              Balance to credit limit on all trades\n",
      "4               annual_inc  The self-reported annual income provided by th...\n",
      "..                     ...                                                ...\n",
      "148      settlement_amount  The loan amount that the borrower has agreed t...\n",
      "149  settlement_percentage  The settlement amount as a percentage of the p...\n",
      "150        settlement_term  The number of months that the borrower will be...\n",
      "151                    NaN                                                NaN\n",
      "152                    NaN  * Employer Title replaces Employer Name for al...\n",
      "\n",
      "[153 rows x 2 columns]\n"
     ]
    }
   ],
   "source": [
    "df = pd.read_excel (r'../data/raw/LCDataDictionary.xlsx') \n",
    "print (df)"
   ]
  },
  {
   "cell_type": "markdown",
   "metadata": {},
   "source": [
    "De todas estas variables, se realiza un cribado previo, puesto que la gran mayoría son varibales de clientes existentes de Lending Club relaccionadas con su actividad actual, y no se dispondrá de ellas en el momento en que el modelo esté en producción"
   ]
  },
  {
   "cell_type": "markdown",
   "metadata": {},
   "source": [
    "A contuniación se seleccionan solo las variables que consideramos de interés. Se declara una función para abreviar el proceso"
   ]
  },
  {
   "cell_type": "code",
   "execution_count": 3,
   "metadata": {},
   "outputs": [],
   "source": [
    "# Columnas que se van a utilizar: lineas por orden alfabetico\n",
    "columnas_para_leer = ['addr_state', 'annual_inc', 'annual_inc_joint', 'application_type', \n",
    "                      'dti', 'dti_joint',\n",
    "                      'emp_length', 'emp_title',\n",
    "                      'grade',\n",
    "                      'home_ownership', \n",
    "                      'installment', 'int_rate', \n",
    "                      'loan_amnt', 'loan_status', 'last_fico_range_high', 'last_fico_range_low',\n",
    "                      'mort_acc',\n",
    "                      'pub_rec', 'pub_rec_bankruptcies', 'purpose', \n",
    "                      'sec_app_fico_range_low', 'sec_app_fico_range_high',\n",
    "                      'term', 'title',\n",
    "                      'verification_status', 'verification_status_joint']"
   ]
  },
  {
   "cell_type": "code",
   "execution_count": 4,
   "metadata": {},
   "outputs": [],
   "source": [
    "# Definición de la función para leer los archivos\n",
    "def lectura (archivo):\n",
    "    \n",
    "    data = pd.read_csv(archivo, \n",
    "                       skiprows=1, # saltar primera fila\n",
    "                       skipfooter=2,  # saltar dos ultimas filas \n",
    "                       engine='python',\n",
    "                       usecols=columnas_para_leer)\n",
    "    return data"
   ]
  },
  {
   "cell_type": "code",
   "execution_count": 5,
   "metadata": {},
   "outputs": [],
   "source": [
    "# Lectura del primer archivo\n",
    "path = '../data/raw/Loan_training_set_1_4.csv'\n",
    "df1 = lectura(path)"
   ]
  },
  {
   "cell_type": "code",
   "execution_count": 6,
   "metadata": {},
   "outputs": [
    {
     "data": {
      "text/html": [
       "<div>\n",
       "<style scoped>\n",
       "    .dataframe tbody tr th:only-of-type {\n",
       "        vertical-align: middle;\n",
       "    }\n",
       "\n",
       "    .dataframe tbody tr th {\n",
       "        vertical-align: top;\n",
       "    }\n",
       "\n",
       "    .dataframe thead th {\n",
       "        text-align: right;\n",
       "    }\n",
       "</style>\n",
       "<table border=\"1\" class=\"dataframe\">\n",
       "  <thead>\n",
       "    <tr style=\"text-align: right;\">\n",
       "      <th></th>\n",
       "      <th>loan_amnt</th>\n",
       "      <th>term</th>\n",
       "      <th>int_rate</th>\n",
       "      <th>installment</th>\n",
       "      <th>grade</th>\n",
       "      <th>emp_title</th>\n",
       "      <th>emp_length</th>\n",
       "      <th>home_ownership</th>\n",
       "      <th>annual_inc</th>\n",
       "      <th>verification_status</th>\n",
       "      <th>...</th>\n",
       "      <th>last_fico_range_high</th>\n",
       "      <th>last_fico_range_low</th>\n",
       "      <th>application_type</th>\n",
       "      <th>annual_inc_joint</th>\n",
       "      <th>dti_joint</th>\n",
       "      <th>verification_status_joint</th>\n",
       "      <th>mort_acc</th>\n",
       "      <th>pub_rec_bankruptcies</th>\n",
       "      <th>sec_app_fico_range_low</th>\n",
       "      <th>sec_app_fico_range_high</th>\n",
       "    </tr>\n",
       "  </thead>\n",
       "  <tbody>\n",
       "    <tr>\n",
       "      <td>0</td>\n",
       "      <td>2300</td>\n",
       "      <td>36 months</td>\n",
       "      <td>12.62%</td>\n",
       "      <td>77.08</td>\n",
       "      <td>C</td>\n",
       "      <td>NaN</td>\n",
       "      <td>NaN</td>\n",
       "      <td>OWN</td>\n",
       "      <td>10000.0</td>\n",
       "      <td>Not Verified</td>\n",
       "      <td>...</td>\n",
       "      <td>704</td>\n",
       "      <td>700</td>\n",
       "      <td>Individual</td>\n",
       "      <td>NaN</td>\n",
       "      <td>NaN</td>\n",
       "      <td>NaN</td>\n",
       "      <td>0</td>\n",
       "      <td>0</td>\n",
       "      <td>NaN</td>\n",
       "      <td>NaN</td>\n",
       "    </tr>\n",
       "    <tr>\n",
       "      <td>1</td>\n",
       "      <td>16000</td>\n",
       "      <td>60 months</td>\n",
       "      <td>12.62%</td>\n",
       "      <td>360.95</td>\n",
       "      <td>C</td>\n",
       "      <td>teacher</td>\n",
       "      <td>10+ years</td>\n",
       "      <td>MORTGAGE</td>\n",
       "      <td>94000.0</td>\n",
       "      <td>Not Verified</td>\n",
       "      <td>...</td>\n",
       "      <td>709</td>\n",
       "      <td>705</td>\n",
       "      <td>Individual</td>\n",
       "      <td>NaN</td>\n",
       "      <td>NaN</td>\n",
       "      <td>NaN</td>\n",
       "      <td>7</td>\n",
       "      <td>0</td>\n",
       "      <td>NaN</td>\n",
       "      <td>NaN</td>\n",
       "    </tr>\n",
       "    <tr>\n",
       "      <td>2</td>\n",
       "      <td>6025</td>\n",
       "      <td>36 months</td>\n",
       "      <td>15.05%</td>\n",
       "      <td>209.01</td>\n",
       "      <td>C</td>\n",
       "      <td>Front Office</td>\n",
       "      <td>7 years</td>\n",
       "      <td>MORTGAGE</td>\n",
       "      <td>46350.0</td>\n",
       "      <td>Not Verified</td>\n",
       "      <td>...</td>\n",
       "      <td>664</td>\n",
       "      <td>660</td>\n",
       "      <td>Individual</td>\n",
       "      <td>NaN</td>\n",
       "      <td>NaN</td>\n",
       "      <td>NaN</td>\n",
       "      <td>2</td>\n",
       "      <td>0</td>\n",
       "      <td>NaN</td>\n",
       "      <td>NaN</td>\n",
       "    </tr>\n",
       "    <tr>\n",
       "      <td>3</td>\n",
       "      <td>20400</td>\n",
       "      <td>36 months</td>\n",
       "      <td>9.44%</td>\n",
       "      <td>652.91</td>\n",
       "      <td>B</td>\n",
       "      <td>Manager</td>\n",
       "      <td>10+ years</td>\n",
       "      <td>RENT</td>\n",
       "      <td>44000.0</td>\n",
       "      <td>Source Verified</td>\n",
       "      <td>...</td>\n",
       "      <td>744</td>\n",
       "      <td>740</td>\n",
       "      <td>Individual</td>\n",
       "      <td>NaN</td>\n",
       "      <td>NaN</td>\n",
       "      <td>NaN</td>\n",
       "      <td>0</td>\n",
       "      <td>0</td>\n",
       "      <td>NaN</td>\n",
       "      <td>NaN</td>\n",
       "    </tr>\n",
       "    <tr>\n",
       "      <td>4</td>\n",
       "      <td>13000</td>\n",
       "      <td>36 months</td>\n",
       "      <td>11.99%</td>\n",
       "      <td>431.73</td>\n",
       "      <td>B</td>\n",
       "      <td>Paramedic</td>\n",
       "      <td>10+ years</td>\n",
       "      <td>MORTGAGE</td>\n",
       "      <td>85000.0</td>\n",
       "      <td>Source Verified</td>\n",
       "      <td>...</td>\n",
       "      <td>669</td>\n",
       "      <td>665</td>\n",
       "      <td>Individual</td>\n",
       "      <td>NaN</td>\n",
       "      <td>NaN</td>\n",
       "      <td>NaN</td>\n",
       "      <td>1</td>\n",
       "      <td>0</td>\n",
       "      <td>NaN</td>\n",
       "      <td>NaN</td>\n",
       "    </tr>\n",
       "  </tbody>\n",
       "</table>\n",
       "<p>5 rows × 26 columns</p>\n",
       "</div>"
      ],
      "text/plain": [
       "   loan_amnt        term int_rate  installment grade     emp_title emp_length  \\\n",
       "0       2300   36 months   12.62%        77.08     C           NaN        NaN   \n",
       "1      16000   60 months   12.62%       360.95     C       teacher  10+ years   \n",
       "2       6025   36 months   15.05%       209.01     C  Front Office    7 years   \n",
       "3      20400   36 months    9.44%       652.91     B       Manager  10+ years   \n",
       "4      13000   36 months   11.99%       431.73     B     Paramedic  10+ years   \n",
       "\n",
       "  home_ownership  annual_inc verification_status  ... last_fico_range_high  \\\n",
       "0            OWN     10000.0        Not Verified  ...                  704   \n",
       "1       MORTGAGE     94000.0        Not Verified  ...                  709   \n",
       "2       MORTGAGE     46350.0        Not Verified  ...                  664   \n",
       "3           RENT     44000.0     Source Verified  ...                  744   \n",
       "4       MORTGAGE     85000.0     Source Verified  ...                  669   \n",
       "\n",
       "  last_fico_range_low application_type annual_inc_joint  dti_joint  \\\n",
       "0                 700       Individual              NaN        NaN   \n",
       "1                 705       Individual              NaN        NaN   \n",
       "2                 660       Individual              NaN        NaN   \n",
       "3                 740       Individual              NaN        NaN   \n",
       "4                 665       Individual              NaN        NaN   \n",
       "\n",
       "   verification_status_joint  mort_acc  pub_rec_bankruptcies  \\\n",
       "0                        NaN         0                     0   \n",
       "1                        NaN         7                     0   \n",
       "2                        NaN         2                     0   \n",
       "3                        NaN         0                     0   \n",
       "4                        NaN         1                     0   \n",
       "\n",
       "  sec_app_fico_range_low  sec_app_fico_range_high  \n",
       "0                    NaN                      NaN  \n",
       "1                    NaN                      NaN  \n",
       "2                    NaN                      NaN  \n",
       "3                    NaN                      NaN  \n",
       "4                    NaN                      NaN  \n",
       "\n",
       "[5 rows x 26 columns]"
      ]
     },
     "execution_count": 6,
     "metadata": {},
     "output_type": "execute_result"
    }
   ],
   "source": [
    "df1.head() # comprobamos que la lectura es correcta, y procedemos a leer el resto de archivos"
   ]
  },
  {
   "cell_type": "code",
   "execution_count": 8,
   "metadata": {
    "scrolled": false
   },
   "outputs": [
    {
     "name": "stdout",
     "output_type": "stream",
     "text": [
      "<class 'pandas.core.frame.DataFrame'>\n",
      "RangeIndex: 105451 entries, 0 to 105450\n",
      "Data columns (total 26 columns):\n",
      "loan_amnt                    105451 non-null int64\n",
      "term                         105451 non-null object\n",
      "int_rate                     105451 non-null object\n",
      "installment                  105451 non-null float64\n",
      "grade                        105451 non-null object\n",
      "emp_title                    98669 non-null object\n",
      "emp_length                   98754 non-null object\n",
      "home_ownership               105451 non-null object\n",
      "annual_inc                   105451 non-null float64\n",
      "verification_status          105451 non-null object\n",
      "loan_status                  105451 non-null object\n",
      "purpose                      105451 non-null object\n",
      "title                        105451 non-null object\n",
      "addr_state                   105451 non-null object\n",
      "dti                          105376 non-null float64\n",
      "pub_rec                      105451 non-null int64\n",
      "last_fico_range_high         105451 non-null int64\n",
      "last_fico_range_low          105451 non-null int64\n",
      "application_type             105451 non-null object\n",
      "annual_inc_joint             6813 non-null float64\n",
      "dti_joint                    6813 non-null float64\n",
      "verification_status_joint    6813 non-null object\n",
      "mort_acc                     105451 non-null int64\n",
      "pub_rec_bankruptcies         105451 non-null int64\n",
      "sec_app_fico_range_low       6806 non-null float64\n",
      "sec_app_fico_range_high      6806 non-null float64\n",
      "dtypes: float64(7), int64(6), object(13)\n",
      "memory usage: 20.9+ MB\n"
     ]
    }
   ],
   "source": [
    "# Comprobamos que hay dentro: 7 columnas de tipo float64, 6 de tipo int64 y 13 object \n",
    "df1.info() # Muchas columnas son de tipo object, esto puede dar problemas "
   ]
  },
  {
   "cell_type": "code",
   "execution_count": 9,
   "metadata": {},
   "outputs": [
    {
     "data": {
      "text/plain": [
       "array(['Current', 'Fully Paid', 'In Grace Period', 'Late (31-120 days)',\n",
       "       'Late (16-30 days)', 'Charged Off', 'Default'], dtype=object)"
      ]
     },
     "execution_count": 9,
     "metadata": {},
     "output_type": "execute_result"
    }
   ],
   "source": [
    "df1.loan_status.unique() # Estado del préstamo, la variable dependiente "
   ]
  },
  {
   "cell_type": "code",
   "execution_count": 10,
   "metadata": {},
   "outputs": [],
   "source": [
    "# Lectura del segundo archivo\n",
    "path = '../data/raw/Loan_training_set_2_4.csv'\n",
    "df2 = lectura(path)"
   ]
  },
  {
   "cell_type": "code",
   "execution_count": 11,
   "metadata": {},
   "outputs": [],
   "source": [
    "# Lectura del tercer archivo \n",
    "path = '../data/raw/Loan_training_set_3_4.csv'\n",
    "df3 = lectura(path)"
   ]
  },
  {
   "cell_type": "code",
   "execution_count": 12,
   "metadata": {},
   "outputs": [],
   "source": [
    "# Lectura del cuarto archivo\n",
    "path = '../data/raw/Loan_training_set_4_4.csv'\n",
    "df4 = lectura(path)"
   ]
  },
  {
   "cell_type": "markdown",
   "metadata": {},
   "source": [
    "Una vez que hemos leído los datos por seprarado, los combinamos en un único dataframe"
   ]
  },
  {
   "cell_type": "code",
   "execution_count": 13,
   "metadata": {},
   "outputs": [],
   "source": [
    "# Union de los datos\n",
    "datos = pd.concat([df1, df2, df3, df4])"
   ]
  },
  {
   "cell_type": "code",
   "execution_count": 14,
   "metadata": {
    "scrolled": false
   },
   "outputs": [
    {
     "data": {
      "text/html": [
       "<div>\n",
       "<style scoped>\n",
       "    .dataframe tbody tr th:only-of-type {\n",
       "        vertical-align: middle;\n",
       "    }\n",
       "\n",
       "    .dataframe tbody tr th {\n",
       "        vertical-align: top;\n",
       "    }\n",
       "\n",
       "    .dataframe thead th {\n",
       "        text-align: right;\n",
       "    }\n",
       "</style>\n",
       "<table border=\"1\" class=\"dataframe\">\n",
       "  <thead>\n",
       "    <tr style=\"text-align: right;\">\n",
       "      <th></th>\n",
       "      <th>loan_amnt</th>\n",
       "      <th>term</th>\n",
       "      <th>int_rate</th>\n",
       "      <th>installment</th>\n",
       "      <th>grade</th>\n",
       "      <th>emp_title</th>\n",
       "      <th>emp_length</th>\n",
       "      <th>home_ownership</th>\n",
       "      <th>annual_inc</th>\n",
       "      <th>verification_status</th>\n",
       "      <th>...</th>\n",
       "      <th>last_fico_range_high</th>\n",
       "      <th>last_fico_range_low</th>\n",
       "      <th>application_type</th>\n",
       "      <th>annual_inc_joint</th>\n",
       "      <th>dti_joint</th>\n",
       "      <th>verification_status_joint</th>\n",
       "      <th>mort_acc</th>\n",
       "      <th>pub_rec_bankruptcies</th>\n",
       "      <th>sec_app_fico_range_low</th>\n",
       "      <th>sec_app_fico_range_high</th>\n",
       "    </tr>\n",
       "  </thead>\n",
       "  <tbody>\n",
       "    <tr>\n",
       "      <td>0</td>\n",
       "      <td>2300</td>\n",
       "      <td>36 months</td>\n",
       "      <td>12.62%</td>\n",
       "      <td>77.08</td>\n",
       "      <td>C</td>\n",
       "      <td>NaN</td>\n",
       "      <td>NaN</td>\n",
       "      <td>OWN</td>\n",
       "      <td>10000.0</td>\n",
       "      <td>Not Verified</td>\n",
       "      <td>...</td>\n",
       "      <td>704</td>\n",
       "      <td>700</td>\n",
       "      <td>Individual</td>\n",
       "      <td>NaN</td>\n",
       "      <td>NaN</td>\n",
       "      <td>NaN</td>\n",
       "      <td>0</td>\n",
       "      <td>0</td>\n",
       "      <td>NaN</td>\n",
       "      <td>NaN</td>\n",
       "    </tr>\n",
       "    <tr>\n",
       "      <td>1</td>\n",
       "      <td>16000</td>\n",
       "      <td>60 months</td>\n",
       "      <td>12.62%</td>\n",
       "      <td>360.95</td>\n",
       "      <td>C</td>\n",
       "      <td>teacher</td>\n",
       "      <td>10+ years</td>\n",
       "      <td>MORTGAGE</td>\n",
       "      <td>94000.0</td>\n",
       "      <td>Not Verified</td>\n",
       "      <td>...</td>\n",
       "      <td>709</td>\n",
       "      <td>705</td>\n",
       "      <td>Individual</td>\n",
       "      <td>NaN</td>\n",
       "      <td>NaN</td>\n",
       "      <td>NaN</td>\n",
       "      <td>7</td>\n",
       "      <td>0</td>\n",
       "      <td>NaN</td>\n",
       "      <td>NaN</td>\n",
       "    </tr>\n",
       "    <tr>\n",
       "      <td>2</td>\n",
       "      <td>6025</td>\n",
       "      <td>36 months</td>\n",
       "      <td>15.05%</td>\n",
       "      <td>209.01</td>\n",
       "      <td>C</td>\n",
       "      <td>Front Office</td>\n",
       "      <td>7 years</td>\n",
       "      <td>MORTGAGE</td>\n",
       "      <td>46350.0</td>\n",
       "      <td>Not Verified</td>\n",
       "      <td>...</td>\n",
       "      <td>664</td>\n",
       "      <td>660</td>\n",
       "      <td>Individual</td>\n",
       "      <td>NaN</td>\n",
       "      <td>NaN</td>\n",
       "      <td>NaN</td>\n",
       "      <td>2</td>\n",
       "      <td>0</td>\n",
       "      <td>NaN</td>\n",
       "      <td>NaN</td>\n",
       "    </tr>\n",
       "    <tr>\n",
       "      <td>3</td>\n",
       "      <td>20400</td>\n",
       "      <td>36 months</td>\n",
       "      <td>9.44%</td>\n",
       "      <td>652.91</td>\n",
       "      <td>B</td>\n",
       "      <td>Manager</td>\n",
       "      <td>10+ years</td>\n",
       "      <td>RENT</td>\n",
       "      <td>44000.0</td>\n",
       "      <td>Source Verified</td>\n",
       "      <td>...</td>\n",
       "      <td>744</td>\n",
       "      <td>740</td>\n",
       "      <td>Individual</td>\n",
       "      <td>NaN</td>\n",
       "      <td>NaN</td>\n",
       "      <td>NaN</td>\n",
       "      <td>0</td>\n",
       "      <td>0</td>\n",
       "      <td>NaN</td>\n",
       "      <td>NaN</td>\n",
       "    </tr>\n",
       "    <tr>\n",
       "      <td>4</td>\n",
       "      <td>13000</td>\n",
       "      <td>36 months</td>\n",
       "      <td>11.99%</td>\n",
       "      <td>431.73</td>\n",
       "      <td>B</td>\n",
       "      <td>Paramedic</td>\n",
       "      <td>10+ years</td>\n",
       "      <td>MORTGAGE</td>\n",
       "      <td>85000.0</td>\n",
       "      <td>Source Verified</td>\n",
       "      <td>...</td>\n",
       "      <td>669</td>\n",
       "      <td>665</td>\n",
       "      <td>Individual</td>\n",
       "      <td>NaN</td>\n",
       "      <td>NaN</td>\n",
       "      <td>NaN</td>\n",
       "      <td>1</td>\n",
       "      <td>0</td>\n",
       "      <td>NaN</td>\n",
       "      <td>NaN</td>\n",
       "    </tr>\n",
       "  </tbody>\n",
       "</table>\n",
       "<p>5 rows × 26 columns</p>\n",
       "</div>"
      ],
      "text/plain": [
       "   loan_amnt        term int_rate  installment grade     emp_title emp_length  \\\n",
       "0       2300   36 months   12.62%        77.08     C           NaN        NaN   \n",
       "1      16000   60 months   12.62%       360.95     C       teacher  10+ years   \n",
       "2       6025   36 months   15.05%       209.01     C  Front Office    7 years   \n",
       "3      20400   36 months    9.44%       652.91     B       Manager  10+ years   \n",
       "4      13000   36 months   11.99%       431.73     B     Paramedic  10+ years   \n",
       "\n",
       "  home_ownership  annual_inc verification_status  ... last_fico_range_high  \\\n",
       "0            OWN     10000.0        Not Verified  ...                  704   \n",
       "1       MORTGAGE     94000.0        Not Verified  ...                  709   \n",
       "2       MORTGAGE     46350.0        Not Verified  ...                  664   \n",
       "3           RENT     44000.0     Source Verified  ...                  744   \n",
       "4       MORTGAGE     85000.0     Source Verified  ...                  669   \n",
       "\n",
       "  last_fico_range_low application_type annual_inc_joint  dti_joint  \\\n",
       "0                 700       Individual              NaN        NaN   \n",
       "1                 705       Individual              NaN        NaN   \n",
       "2                 660       Individual              NaN        NaN   \n",
       "3                 740       Individual              NaN        NaN   \n",
       "4                 665       Individual              NaN        NaN   \n",
       "\n",
       "   verification_status_joint  mort_acc  pub_rec_bankruptcies  \\\n",
       "0                        NaN         0                     0   \n",
       "1                        NaN         7                     0   \n",
       "2                        NaN         2                     0   \n",
       "3                        NaN         0                     0   \n",
       "4                        NaN         1                     0   \n",
       "\n",
       "  sec_app_fico_range_low  sec_app_fico_range_high  \n",
       "0                    NaN                      NaN  \n",
       "1                    NaN                      NaN  \n",
       "2                    NaN                      NaN  \n",
       "3                    NaN                      NaN  \n",
       "4                    NaN                      NaN  \n",
       "\n",
       "[5 rows x 26 columns]"
      ]
     },
     "execution_count": 14,
     "metadata": {},
     "output_type": "execute_result"
    }
   ],
   "source": [
    "datos.head()"
   ]
  },
  {
   "cell_type": "code",
   "execution_count": 15,
   "metadata": {},
   "outputs": [
    {
     "data": {
      "text/plain": [
       "(884876, 26)"
      ]
     },
     "execution_count": 15,
     "metadata": {},
     "output_type": "execute_result"
    }
   ],
   "source": [
    "datos.shape # Concatenación exitosa"
   ]
  },
  {
   "cell_type": "markdown",
   "metadata": {},
   "source": [
    "Verificamos que no existen datos duplicados en el dataset"
   ]
  },
  {
   "cell_type": "code",
   "execution_count": 16,
   "metadata": {},
   "outputs": [
    {
     "data": {
      "text/plain": [
       "0"
      ]
     },
     "execution_count": 16,
     "metadata": {},
     "output_type": "execute_result"
    }
   ],
   "source": [
    "datos.duplicated().sum() "
   ]
  },
  {
   "cell_type": "markdown",
   "metadata": {},
   "source": [
    "Exploramos los formatos del dataset conjunto"
   ]
  },
  {
   "cell_type": "code",
   "execution_count": 17,
   "metadata": {},
   "outputs": [
    {
     "data": {
      "text/plain": [
       "loan_amnt                      int64\n",
       "term                          object\n",
       "int_rate                      object\n",
       "installment                  float64\n",
       "grade                         object\n",
       "emp_title                     object\n",
       "emp_length                    object\n",
       "home_ownership                object\n",
       "annual_inc                   float64\n",
       "verification_status           object\n",
       "loan_status                   object\n",
       "purpose                       object\n",
       "title                         object\n",
       "addr_state                    object\n",
       "dti                          float64\n",
       "pub_rec                        int64\n",
       "last_fico_range_high           int64\n",
       "last_fico_range_low            int64\n",
       "application_type              object\n",
       "annual_inc_joint             float64\n",
       "dti_joint                    float64\n",
       "verification_status_joint     object\n",
       "mort_acc                       int64\n",
       "pub_rec_bankruptcies           int64\n",
       "sec_app_fico_range_low       float64\n",
       "sec_app_fico_range_high      float64\n",
       "dtype: object"
      ]
     },
     "execution_count": 17,
     "metadata": {},
     "output_type": "execute_result"
    }
   ],
   "source": [
    "datos.dtypes"
   ]
  },
  {
   "cell_type": "markdown",
   "metadata": {},
   "source": [
    "Hay variables que deberían tener formato numérico, como la del tipo de interés, y tienen formato object. Habrá que repararlas de cara a poder usarlas correctamente en los modelos. Todas las transformaciones deben englobarse en una función, que las aplique a los datos nuevos de cara a la puesta en prodcucción del modelo. Si los datos nuevos no coinicen con los datos de entrenamiento del modelo, el sistema caerá, algo que provocaría pérdidas indamisibles a cualquier empresa."
   ]
  },
  {
   "cell_type": "markdown",
   "metadata": {},
   "source": [
    "Exploramos la calidad de los datos, cuantas variables contienen NA's"
   ]
  },
  {
   "cell_type": "code",
   "execution_count": 18,
   "metadata": {},
   "outputs": [
    {
     "data": {
      "text/plain": [
       "loan_amnt                     0.00\n",
       "term                          0.00\n",
       "int_rate                      0.00\n",
       "installment                   0.00\n",
       "grade                         0.00\n",
       "emp_title                     5.95\n",
       "emp_length                    5.79\n",
       "home_ownership                0.00\n",
       "annual_inc                    0.00\n",
       "verification_status           0.00\n",
       "loan_status                   0.00\n",
       "purpose                       0.00\n",
       "title                         0.01\n",
       "addr_state                    0.00\n",
       "dti                           0.03\n",
       "pub_rec                       0.00\n",
       "last_fico_range_high          0.00\n",
       "last_fico_range_low           0.00\n",
       "application_type              0.00\n",
       "annual_inc_joint             97.59\n",
       "dti_joint                    97.59\n",
       "verification_status_joint    97.59\n",
       "mort_acc                      0.00\n",
       "pub_rec_bankruptcies          0.00\n",
       "sec_app_fico_range_low       97.65\n",
       "sec_app_fico_range_high      97.65\n",
       "dtype: float64"
      ]
     },
     "execution_count": 18,
     "metadata": {},
     "output_type": "execute_result"
    }
   ],
   "source": [
    "(datos.isna().sum() / len(datos) * 100).round(2)"
   ]
  },
  {
   "cell_type": "markdown",
   "metadata": {},
   "source": [
    "Como se puede observar, existen múltiples variables que contienen un elevado porcentaje de NA's. Tras una investigación acera \n",
    "de dichas variables, decidimos __no eliminarlas__. El motivo es que la mayoría de variables son correspondientes a prestamos \n",
    "conjuntos, y el valor NA se produce cuando el prestamo es individual. Este tipo de conclusiones se tendrá en cuenta \n",
    "a la hora de construir los pipelines para los modelos, a la hora de imputar los valores nulos.  \n",
    "\n",
    "Para el título del prestatario (emp_title) y los años de experiencia laboral, entendemos que los valores nulos hacen referencia \n",
    "a prestatarios sin titulo, y con 0 años de experiencia laboral, respectivamente. "
   ]
  },
  {
   "cell_type": "markdown",
   "metadata": {},
   "source": [
    "## Análisis exploratorio"
   ]
  },
  {
   "cell_type": "markdown",
   "metadata": {},
   "source": [
    "Comenzamos el análisis explorando la variable dependiente"
   ]
  },
  {
   "cell_type": "code",
   "execution_count": 11,
   "metadata": {},
   "outputs": [
    {
     "data": {
      "text/plain": [
       "array(['Current', 'Fully Paid', 'In Grace Period', 'Late (31-120 days)',\n",
       "       'Late (16-30 days)', 'Charged Off', 'Default'], dtype=object)"
      ]
     },
     "execution_count": 11,
     "metadata": {},
     "output_type": "execute_result"
    }
   ],
   "source": [
    "datos.loan_status.unique()"
   ]
  },
  {
   "cell_type": "markdown",
   "metadata": {},
   "source": [
    "Hay categrorías que no tienen sentido. Current, por ejemplo, puesto que no sabemos qué va a pasar con esos prestatarios, si van a terminar pagando o no. Todas las variables cuyo loan status sea current, las eliminamos. \n",
    "\n",
    "Fully paid la vamos a considerar como que sí pagan, puesto que ya han terminado el crédito.  \n",
    "\n",
    "En cuanto al periodo de gracia, se trata de un tiempo a partir del cual se permite pagar tarde, pero sin consecuencias, \n",
    "tipicamente 15 días (por eso late empieza en 16). Todo depende de lo restrictivos que queramos ser. En principio, \n",
    "lo consideramos como que no paga, puesto que nada nos garantiza que vaya a pagar.  \n",
    "\n",
    "Las categorias tarde 16-30 y 31-120 también las consideramos como no pagadores. \n",
    "Charged Off se refiere a créditos que el prestamista cree que no va a poder cobrar, así que lo consideramos como no pagador.  \n",
    "\n",
    "Default, evidentemente, es no pagador.\n",
    "\n",
    "A continuación se transforma la columna "
   ]
  },
  {
   "cell_type": "code",
   "execution_count": 15,
   "metadata": {},
   "outputs": [],
   "source": [
    "# Eliminación de los current\n",
    "\n",
    "# Primero creamos el filtro para todos los que no son current\n",
    "no_current = (datos.loan_status != 'Current')\n",
    "\n",
    "# Comprobamos que sirve para hacer el susbet\n",
    "datos[no_current] \n",
    "\n",
    "# Actualizamos los datos\n",
    "datos = datos[no_current]"
   ]
  },
  {
   "cell_type": "code",
   "execution_count": 16,
   "metadata": {},
   "outputs": [
    {
     "data": {
      "text/plain": [
       "array(['Paga', 'No paga'], dtype=object)"
      ]
     },
     "execution_count": 16,
     "metadata": {},
     "output_type": "execute_result"
    }
   ],
   "source": [
    "# Para los valores de la fila, ahora sin current, se asigna el valor \"Paga\", si es \"Fully paid\", y \"No paga\" en caso\n",
    "# contrario. \n",
    "datos.loan_status = datos.loan_status.map(lambda x: 'Paga' if x == 'Fully Paid' else 'No paga')\n",
    "\n",
    "# Utilizamos función lambda porque la función es temporal y no merece la pena declararla fuera. \n",
    "# Map aplica la función a cada elemento de un objeto iterable, en este \n",
    "# caso una columna, y la expresión ternaria es equivalente a \n",
    "# if x == 'Fully Paid': \n",
    "#     return 'Paga' \n",
    "# else: \n",
    "#     return 'No paga'\n",
    "\n",
    "datos.loan_status.unique() # Cambio realizado con éxito"
   ]
  },
  {
   "cell_type": "markdown",
   "metadata": {},
   "source": [
    "Se evalúa ahora si el problema está o no equilibrado."
   ]
  },
  {
   "cell_type": "code",
   "execution_count": 36,
   "metadata": {
    "scrolled": true
   },
   "outputs": [
    {
     "data": {
      "text/plain": [
       "Paga       74.76\n",
       "No paga    25.24\n",
       "Name: loan_status, dtype: float64"
      ]
     },
     "execution_count": 36,
     "metadata": {},
     "output_type": "execute_result"
    }
   ],
   "source": [
    "calidad_prestamos = datos['loan_status'].value_counts() / len(datos) * 100\n",
    "calidad_prestamos.round(2)"
   ]
  },
  {
   "cell_type": "markdown",
   "metadata": {},
   "source": [
    "El dataset no está totalmente equilibrado, aunque en principio el desequilibrio no parece grave.  Si los modelos presentan \n",
    "resultados pobres, quizá haya que aplicar operaciones de undersampling u oversampling."
   ]
  },
  {
   "cell_type": "code",
   "execution_count": 105,
   "metadata": {
    "scrolled": false
   },
   "outputs": [
    {
     "data": {
      "image/png": "[encoded data removed]",
      "text/plain": [
       "<Figure size 1080x504 with 1 Axes>"
      ]
     },
     "metadata": {},
     "output_type": "display_data"
    }
   ],
   "source": [
    "colores = ['seagreen', 'firebrick']\n",
    "plt.subplots(figsize = (15, 7))\n",
    "\n",
    "calidad_prestamos.plot.pie(shadow=True, \n",
    "                           colors=colores,\n",
    "                          labels=[calidad_prestamos[0].round(2), calidad_prestamos[1].round(2)])\n",
    "plt.title('Distribución de la variable predictora')\n",
    "plt.ylabel(None);"
   ]
  },
  {
   "cell_type": "markdown",
   "metadata": {},
   "source": [
    "## Explorando las variables predictoras "
   ]
  },
  {
   "cell_type": "markdown",
   "metadata": {},
   "source": [
    "### Histogramas del montante prestado y del tipo de interés"
   ]
  },
  {
   "cell_type": "markdown",
   "metadata": {},
   "source": [
    "El tipo de interés viene en formato object, así que es necesario transformarlo a float para poder operar bien con el. eL procedimiento es el siguiente \n",
    "1. Se transforma la columna a formato string \n",
    "2. Se aplica el metodo de strings .rstrip() para extraer el signo del porcentaje \n",
    "3. Se tranforma a float con .astype('float')"
   ]
  },
  {
   "cell_type": "code",
   "execution_count": 17,
   "metadata": {},
   "outputs": [],
   "source": [
    "datos['int_rate'] = datos['int_rate'].str.rstrip('%').astype('float')"
   ]
  },
  {
   "cell_type": "markdown",
   "metadata": {},
   "source": [
    "A continuación los histogramas"
   ]
  },
  {
   "cell_type": "code",
   "execution_count": 64,
   "metadata": {
    "scrolled": false
   },
   "outputs": [
    {
     "data": {
      "image/png": "[encoded data removed]",
      "text/plain": [
       "<Figure size 1008x720 with 2 Axes>"
      ]
     },
     "metadata": {
      "needs_background": "light"
     },
     "output_type": "display_data"
    }
   ],
   "source": [
    "plt.figure(figsize=(14,10)) # dimensiones \n",
    "\n",
    "# Histograma del montante \n",
    "plt.subplot(211) # posición del primer plot \n",
    "\n",
    "g_montante = sns.distplot(datos.loan_amnt, color='green')\n",
    "g_montante.set_xlabel('Montante solicitado', fontsize=15)\n",
    "g_montante.set_ylabel('Frecuencia', fontsize=15)\n",
    "g_montante.set_title('Distribución del montante solicitado', fontsize=20)\n",
    "\n",
    "# Histograma del tipo de interés\n",
    "plt.subplot(212)\n",
    "\n",
    "g_interes = sns.distplot(datos.int_rate, color='firebrick')\n",
    "g_interes.set_xlabel('Tipo de interés', fontsize=15)\n",
    "g_interes.set_ylabel('Frecuencia', fontsize=15)\n",
    "g_interes.set_title('Distribucón del tipo de interés', fontsize=20)\n",
    "\n",
    "plt.subplots_adjust(hspace=0.4, top=0.9) # evitamos que los gráficos se pisenb"
   ]
  },
  {
   "cell_type": "markdown",
   "metadata": {},
   "source": [
    "Respecto a la cantidad solicitada, se puede observar como el préstamo más habitual es el de 10.000 dólares, el grueso de los préstamos está entre 5.000 y 20.000 dólares.\n",
    "\n",
    "En cuanto al tipo de interés, el grueso de los tipos varía entre el 7 y el 20%, llegando a tomar valores superiores al 25% en algunos casos."
   ]
  },
  {
   "cell_type": "markdown",
   "metadata": {},
   "source": [
    "###  Montante prestado en los diferentes estados"
   ]
  },
  {
   "cell_type": "markdown",
   "metadata": {},
   "source": [
    "Primero creamos un dataset con los datos de interés agrupados por estado"
   ]
  },
  {
   "cell_type": "markdown",
   "metadata": {},
   "source": [
    "## Tipo de interés y nota del crédito"
   ]
  },
  {
   "cell_type": "markdown",
   "metadata": {},
   "source": [
    "El tipo de interés no es otra cosa que el coste financiero, el precio del dinero que se presta al prestatario. Para el prestatario es un coste, pero para el prestamista es rentabilidad. Cabría esperar que, ante perfiles con más riesgo de impago, \n",
    "el prestamista decida elevar el tipo del préstamo, para así poder compensar el riesgo extra asumido.   \n",
    "Por este motivo, resulta conveniente explorar esta variable con respecto al impago, ya que representa el coste financiero, y tipos de interés más elevados pueden debilidar la capacidad de pago del prestatario, dificultando que devuelva el préstamo"
   ]
  },
  {
   "cell_type": "code",
   "execution_count": 88,
   "metadata": {
    "scrolled": false
   },
   "outputs": [
    {
     "data": {
      "image/png": "[encoded data removed]",
      "text/plain": [
       "<Figure size 1008x720 with 1 Axes>"
      ]
     },
     "metadata": {
      "needs_background": "light"
     },
     "output_type": "display_data"
    }
   ],
   "source": [
    "plt.figure(figsize=(14,10)) \n",
    "\n",
    "sns.boxplot(x='int_rate',\n",
    "            y='grade', \n",
    "            data=datos);"
   ]
  },
  {
   "cell_type": "code",
   "execution_count": 114,
   "metadata": {
    "scrolled": true
   },
   "outputs": [
    {
     "data": {
      "text/html": [
       "<style  type=\"text/css\" >\n",
       "    #T_b8f3feac_3271_11eb_b5ad_c46516929964row0_col0 {\n",
       "            background-color:  #ff0000;\n",
       "            color:  #f1f1f1;\n",
       "        }    #T_b8f3feac_3271_11eb_b5ad_c46516929964row0_col1 {\n",
       "            background-color:  #ff0000;\n",
       "            color:  #f1f1f1;\n",
       "        }    #T_b8f3feac_3271_11eb_b5ad_c46516929964row0_col2 {\n",
       "            background-color:  #ffe5e5;\n",
       "            color:  #000000;\n",
       "        }    #T_b8f3feac_3271_11eb_b5ad_c46516929964row0_col3 {\n",
       "            background-color:  #ff0000;\n",
       "            color:  #f1f1f1;\n",
       "        }    #T_b8f3feac_3271_11eb_b5ad_c46516929964row0_col4 {\n",
       "            background-color:  #ffe5e5;\n",
       "            color:  #000000;\n",
       "        }    #T_b8f3feac_3271_11eb_b5ad_c46516929964row0_col5 {\n",
       "            background-color:  #ff0000;\n",
       "            color:  #f1f1f1;\n",
       "        }    #T_b8f3feac_3271_11eb_b5ad_c46516929964row0_col6 {\n",
       "            background-color:  #ff0000;\n",
       "            color:  #f1f1f1;\n",
       "        }    #T_b8f3feac_3271_11eb_b5ad_c46516929964row1_col0 {\n",
       "            background-color:  #ffe5e5;\n",
       "            color:  #000000;\n",
       "        }    #T_b8f3feac_3271_11eb_b5ad_c46516929964row1_col1 {\n",
       "            background-color:  #ffe5e5;\n",
       "            color:  #000000;\n",
       "        }    #T_b8f3feac_3271_11eb_b5ad_c46516929964row1_col2 {\n",
       "            background-color:  #ff0000;\n",
       "            color:  #f1f1f1;\n",
       "        }    #T_b8f3feac_3271_11eb_b5ad_c46516929964row1_col3 {\n",
       "            background-color:  #ffe5e5;\n",
       "            color:  #000000;\n",
       "        }    #T_b8f3feac_3271_11eb_b5ad_c46516929964row1_col4 {\n",
       "            background-color:  #ff0000;\n",
       "            color:  #f1f1f1;\n",
       "        }    #T_b8f3feac_3271_11eb_b5ad_c46516929964row1_col5 {\n",
       "            background-color:  #ffe5e5;\n",
       "            color:  #000000;\n",
       "        }    #T_b8f3feac_3271_11eb_b5ad_c46516929964row1_col6 {\n",
       "            background-color:  #ffe5e5;\n",
       "            color:  #000000;\n",
       "        }</style><table id=\"T_b8f3feac_3271_11eb_b5ad_c46516929964\" ><thead>    <tr>        <th class=\"index_name level0\" >grade</th>        <th class=\"col_heading level0 col0\" >A</th>        <th class=\"col_heading level0 col1\" >B</th>        <th class=\"col_heading level0 col2\" >C</th>        <th class=\"col_heading level0 col3\" >D</th>        <th class=\"col_heading level0 col4\" >E</th>        <th class=\"col_heading level0 col5\" >F</th>        <th class=\"col_heading level0 col6\" >G</th>    </tr>    <tr>        <th class=\"index_name level0\" >loan_status</th>        <th class=\"blank\" ></th>        <th class=\"blank\" ></th>        <th class=\"blank\" ></th>        <th class=\"blank\" ></th>        <th class=\"blank\" ></th>        <th class=\"blank\" ></th>        <th class=\"blank\" ></th>    </tr></thead><tbody>\n",
       "                <tr>\n",
       "                        <th id=\"T_b8f3feac_3271_11eb_b5ad_c46516929964level0_row0\" class=\"row_heading level0 row0\" >No paga</th>\n",
       "                        <td id=\"T_b8f3feac_3271_11eb_b5ad_c46516929964row0_col0\" class=\"data row0 col0\" >7.39</td>\n",
       "                        <td id=\"T_b8f3feac_3271_11eb_b5ad_c46516929964row0_col1\" class=\"data row0 col1\" >10.65</td>\n",
       "                        <td id=\"T_b8f3feac_3271_11eb_b5ad_c46516929964row0_col2\" class=\"data row0 col2\" >13.74</td>\n",
       "                        <td id=\"T_b8f3feac_3271_11eb_b5ad_c46516929964row0_col3\" class=\"data row0 col3\" >17.05</td>\n",
       "                        <td id=\"T_b8f3feac_3271_11eb_b5ad_c46516929964row0_col4\" class=\"data row0 col4\" >19.99</td>\n",
       "                        <td id=\"T_b8f3feac_3271_11eb_b5ad_c46516929964row0_col5\" class=\"data row0 col5\" >24.28</td>\n",
       "                        <td id=\"T_b8f3feac_3271_11eb_b5ad_c46516929964row0_col6\" class=\"data row0 col6\" >27.13</td>\n",
       "            </tr>\n",
       "            <tr>\n",
       "                        <th id=\"T_b8f3feac_3271_11eb_b5ad_c46516929964level0_row1\" class=\"row_heading level0 row1\" >Paga</th>\n",
       "                        <td id=\"T_b8f3feac_3271_11eb_b5ad_c46516929964row1_col0\" class=\"data row1 col0\" >7.2</td>\n",
       "                        <td id=\"T_b8f3feac_3271_11eb_b5ad_c46516929964row1_col1\" class=\"data row1 col1\" >10.64</td>\n",
       "                        <td id=\"T_b8f3feac_3271_11eb_b5ad_c46516929964row1_col2\" class=\"data row1 col2\" >13.75</td>\n",
       "                        <td id=\"T_b8f3feac_3271_11eb_b5ad_c46516929964row1_col3\" class=\"data row1 col3\" >17</td>\n",
       "                        <td id=\"T_b8f3feac_3271_11eb_b5ad_c46516929964row1_col4\" class=\"data row1 col4\" >20.03</td>\n",
       "                        <td id=\"T_b8f3feac_3271_11eb_b5ad_c46516929964row1_col5\" class=\"data row1 col5\" >24.26</td>\n",
       "                        <td id=\"T_b8f3feac_3271_11eb_b5ad_c46516929964row1_col6\" class=\"data row1 col6\" >27.08</td>\n",
       "            </tr>\n",
       "    </tbody></table>"
      ],
      "text/plain": [
       "<pandas.io.formats.style.Styler at 0x1bed76ee788>"
      ]
     },
     "execution_count": 114,
     "metadata": {},
     "output_type": "execute_result"
    }
   ],
   "source": [
    "# Tabla resumen\n",
    "\n",
    "# Columnas de interés \n",
    "nota_credito = ['loan_status', 'grade']\n",
    "\n",
    "# Paleta de color\n",
    "color_tabla = sns.light_palette('red', as_cmap=True)\n",
    "\n",
    "# Calculamos los valores con pd.crosstab\n",
    "round(pd.crosstab(datos[nota_credito[0]], datos[nota_credito[1]], # las columnas a cruzar \n",
    "                  \n",
    "                 values=datos['int_rate'], # valor = el tipo de interés\n",
    "                  \n",
    "                 # Usamos la mediana como función de agregación, dos decimales, y color en gradiente \n",
    "                 aggfunc='mean'), 2).style.background_gradient(cmap = color_tabla) "
   ]
  },
  {
   "cell_type": "markdown",
   "metadata": {},
   "source": [
    "Vemos como el tipo de interés aumenta en fucnión del empeoramiento de la nota de crédito, y es algo más elevado, aunque no demasiado, en los no pagadores"
   ]
  },
  {
   "cell_type": "markdown",
   "metadata": {},
   "source": [
    "### Distribución del tipode interés entre pagadores y no pagadores"
   ]
  },
  {
   "cell_type": "markdown",
   "metadata": {},
   "source": [
    "Se emplea la mediana por su robustez ante valores extremos"
   ]
  },
  {
   "cell_type": "code",
   "execution_count": 82,
   "metadata": {},
   "outputs": [
    {
     "data": {
      "text/plain": [
       "loan_status\n",
       "No paga    14.99\n",
       "Paga       12.49\n",
       "Name: int_rate, dtype: float64"
      ]
     },
     "execution_count": 82,
     "metadata": {},
     "output_type": "execute_result"
    }
   ],
   "source": [
    "datos.groupby(['loan_status']).int_rate.median()"
   ]
  },
  {
   "cell_type": "markdown",
   "metadata": {},
   "source": [
    "Vemos como la mediana es algo superior en los casos en los que el crédito termina en default, aproximasamente un 2.5% superior.\n",
    "Las distribuciones se visualizan con diagrama de caja y bigotes"
   ]
  },
  {
   "cell_type": "code",
   "execution_count": 89,
   "metadata": {
    "scrolled": false
   },
   "outputs": [
    {
     "data": {
      "image/png": "[encoded data removed]",
      "text/plain": [
       "<Figure size 1080x504 with 1 Axes>"
      ]
     },
     "metadata": {
      "needs_background": "light"
     },
     "output_type": "display_data"
    }
   ],
   "source": [
    "plt.subplots(figsize = (15, 7))\n",
    "\n",
    "sns.boxplot(x='loan_status',\n",
    "            y='int_rate',\n",
    "            data=datos);"
   ]
  },
  {
   "cell_type": "code",
   "execution_count": 90,
   "metadata": {},
   "outputs": [
    {
     "data": {
      "text/html": [
       "<div>\n",
       "<style scoped>\n",
       "    .dataframe tbody tr th:only-of-type {\n",
       "        vertical-align: middle;\n",
       "    }\n",
       "\n",
       "    .dataframe tbody tr th {\n",
       "        vertical-align: top;\n",
       "    }\n",
       "\n",
       "    .dataframe thead th {\n",
       "        text-align: right;\n",
       "    }\n",
       "</style>\n",
       "<table border=\"1\" class=\"dataframe\">\n",
       "  <thead>\n",
       "    <tr style=\"text-align: right;\">\n",
       "      <th></th>\n",
       "      <th>count</th>\n",
       "      <th>mean</th>\n",
       "      <th>std</th>\n",
       "      <th>min</th>\n",
       "      <th>25%</th>\n",
       "      <th>50%</th>\n",
       "      <th>75%</th>\n",
       "      <th>max</th>\n",
       "    </tr>\n",
       "    <tr>\n",
       "      <th>loan_status</th>\n",
       "      <th></th>\n",
       "      <th></th>\n",
       "      <th></th>\n",
       "      <th></th>\n",
       "      <th></th>\n",
       "      <th></th>\n",
       "      <th></th>\n",
       "      <th></th>\n",
       "    </tr>\n",
       "  </thead>\n",
       "  <tbody>\n",
       "    <tr>\n",
       "      <td>No paga</td>\n",
       "      <td>116671.0</td>\n",
       "      <td>15.443444</td>\n",
       "      <td>4.506846</td>\n",
       "      <td>5.32</td>\n",
       "      <td>12.49</td>\n",
       "      <td>14.99</td>\n",
       "      <td>18.24</td>\n",
       "      <td>30.99</td>\n",
       "    </tr>\n",
       "    <tr>\n",
       "      <td>Paga</td>\n",
       "      <td>345520.0</td>\n",
       "      <td>12.640187</td>\n",
       "      <td>4.299818</td>\n",
       "      <td>5.32</td>\n",
       "      <td>9.17</td>\n",
       "      <td>12.49</td>\n",
       "      <td>14.99</td>\n",
       "      <td>30.99</td>\n",
       "    </tr>\n",
       "  </tbody>\n",
       "</table>\n",
       "</div>"
      ],
      "text/plain": [
       "                count       mean       std   min    25%    50%    75%    max\n",
       "loan_status                                                                 \n",
       "No paga      116671.0  15.443444  4.506846  5.32  12.49  14.99  18.24  30.99\n",
       "Paga         345520.0  12.640187  4.299818  5.32   9.17  12.49  14.99  30.99"
      ]
     },
     "execution_count": 90,
     "metadata": {},
     "output_type": "execute_result"
    }
   ],
   "source": [
    "datos.groupby(['loan_status']).int_rate.describe()"
   ]
  },
  {
   "cell_type": "markdown",
   "metadata": {},
   "source": [
    "La distribución de tipos es superior en el caso de los no pagadores. Tanto la mediana como los cuartiles primero y tercero son superiores. "
   ]
  },
  {
   "cell_type": "markdown",
   "metadata": {},
   "source": [
    "### Correlaciones"
   ]
  },
  {
   "cell_type": "markdown",
   "metadata": {},
   "source": [
    "¿Existe correlación entre las variables predictoras?"
   ]
  },
  {
   "cell_type": "code",
   "execution_count": 18,
   "metadata": {},
   "outputs": [],
   "source": [
    "# Primero subset solo con variables numericas para calcular correlaciones \n",
    "datos_numericos = datos.select_dtypes(exclude=['object'])\n",
    "correlaciones = datos_numericos.corr()"
   ]
  },
  {
   "cell_type": "code",
   "execution_count": 19,
   "metadata": {},
   "outputs": [
    {
     "data": {
      "image/png": "[encoded data removed]",
      "text/plain": [
       "<Figure size 864x504 with 2 Axes>"
      ]
     },
     "metadata": {
      "needs_background": "light"
     },
     "output_type": "display_data"
    }
   ],
   "source": [
    "# Mapa de calor de las correlaciones.                       \n",
    "f, ax = plt.subplots(figsize=(12, 7))\n",
    "\n",
    "ax = sns.heatmap(\n",
    "    correlaciones,  \n",
    "    linewidths=.5, # separación entre cuadros\n",
    "    cmap='YlGnBu') # escala de colores (yellow, green blue)\n",
    "plt.title('Mapa de correlaciones');"
   ]
  },
  {
   "cell_type": "markdown",
   "metadata": {},
   "source": [
    "El heat map de correlaciones muestra que no existen correlaciones llamativas, más que las obvias. No obstante, variables muy correlacionadas entre sí resultan redundantes, y pueden sobrecargar los modelos de manera innecesaria. Se puede observar un elevado nivel de correlación entre:\n",
    "- Installement y loan amount: lógico, cuanto mayor sea el préstamo, mayor será la cuota mensual a pagar. Habrá que decidir entre una de estas dos variables\n",
    "- Variables FICO: están muy correlacionadas entre sí, porque hacen referencia al rating FICO, que se da en forma de intervalo, con un valor superior y otro inferior. Sería interesante estudiar la creación de una variable conjunta, en la fase de ingeniería de varibales"
   ]
  },
  {
   "cell_type": "markdown",
   "metadata": {},
   "source": [
    "###  Porcentaje de impago y propósito del préstamo"
   ]
  },
  {
   "cell_type": "markdown",
   "metadata": {},
   "source": [
    "Otra variable a tener en cuenta es el proposito del préstamo, puesto que según a qué actividad se destine, se puede comprometer su devolución. Ciertos propóstios pueden ser más arriesgados que otros, como puede ser el ejemplo de un préstamo para actividades empresariales y un préstamo para una casa"
   ]
  },
  {
   "cell_type": "code",
   "execution_count": 96,
   "metadata": {},
   "outputs": [
    {
     "data": {
      "image/png": "[encoded data removed]",
      "text/plain": [
       "<Figure size 864x504 with 1 Axes>"
      ]
     },
     "metadata": {},
     "output_type": "display_data"
    }
   ],
   "source": [
    "plt.subplots(figsize=(12, 7))\n",
    "\n",
    "sns.countplot(y='purpose', \n",
    "            data=datos,\n",
    "             hue='loan_status');"
   ]
  },
  {
   "cell_type": "markdown",
   "metadata": {},
   "source": [
    "El gráfico anterior muestra la cantidad de pagos e impagos dentro de cada propósito. Sin embargo, está en valor absoluto, lo que imposibilita un buen estudio del impago. Se calculan los porcentajes a contuniación. Como la tabla se va a cosntruir para otras variables, se define una función. Se incluye el parámetro de los datos porque así existe la posibilidad de usar la \n",
    "función con otros datasets.\n",
    "\n",
    "Primero se codifican las variables en el dataset (paga, no paga), y después se declara y se aplica la función"
   ]
  },
  {
   "cell_type": "code",
   "execution_count": 20,
   "metadata": {},
   "outputs": [],
   "source": [
    "# Hacemos 'one hot encoding' para el loan status, y creamos dos columnas.\n",
    "\n",
    "# Pagadores\n",
    "datos['paga'] = datos.loan_status.map(lambda estado: 1 if estado == 'Paga' else 0) # Si paga, 1, si no, 0\n",
    "\n",
    "# No pagadores\n",
    "datos['no paga'] = datos.loan_status.map(lambda estado: 1 if estado == 'No paga' else 0) # si NO paga 1, si no, 0"
   ]
  },
  {
   "cell_type": "code",
   "execution_count": 21,
   "metadata": {},
   "outputs": [],
   "source": [
    "# Definimos una función para el cálculo de los porcentajes\n",
    "\n",
    "def tabla_impagos (datos, columna):\n",
    "    \"\"\" \n",
    "    La función tomará dos argumentos: el dataframe, y la columna para la que se \n",
    "    desea obtener la tabla. El argumento con la columna ha de estar entre comillas \n",
    "    \n",
    "    \"\"\"\n",
    "    \n",
    "    # Agrupación por la columna deseada\n",
    "    resultado =  datos.loc[:, [columna, 'paga', 'no paga']].groupby([columna]).sum()\n",
    "    \n",
    "    # Cálculo de la columna de total sumando filas\n",
    "    resultado['total'] = resultado.loc[:,['paga', 'no paga']].sum(axis=1)\n",
    "    \n",
    "    # Cáuclulo de la columna del porcentaje \n",
    "    resultado['porcentaje_impago'] = (resultado['no paga'] / resultado.total * 100).round(2)\n",
    "    \n",
    "    # Se reinicia el índice de la tabla\n",
    "    resultado.reset_index(inplace=True) \n",
    "    \n",
    "    return resultado"
   ]
  },
  {
   "cell_type": "code",
   "execution_count": 160,
   "metadata": {},
   "outputs": [
    {
     "data": {
      "text/html": [
       "<div>\n",
       "<style scoped>\n",
       "    .dataframe tbody tr th:only-of-type {\n",
       "        vertical-align: middle;\n",
       "    }\n",
       "\n",
       "    .dataframe tbody tr th {\n",
       "        vertical-align: top;\n",
       "    }\n",
       "\n",
       "    .dataframe thead th {\n",
       "        text-align: right;\n",
       "    }\n",
       "</style>\n",
       "<table border=\"1\" class=\"dataframe\">\n",
       "  <thead>\n",
       "    <tr style=\"text-align: right;\">\n",
       "      <th></th>\n",
       "      <th>purpose</th>\n",
       "      <th>paga</th>\n",
       "      <th>no paga</th>\n",
       "      <th>total</th>\n",
       "      <th>porcentaje_impago</th>\n",
       "    </tr>\n",
       "  </thead>\n",
       "  <tbody>\n",
       "    <tr>\n",
       "      <td>0</td>\n",
       "      <td>car</td>\n",
       "      <td>3116</td>\n",
       "      <td>779</td>\n",
       "      <td>3895</td>\n",
       "      <td>20.00</td>\n",
       "    </tr>\n",
       "    <tr>\n",
       "      <td>1</td>\n",
       "      <td>credit_card</td>\n",
       "      <td>80650</td>\n",
       "      <td>22599</td>\n",
       "      <td>103249</td>\n",
       "      <td>21.89</td>\n",
       "    </tr>\n",
       "    <tr>\n",
       "      <td>2</td>\n",
       "      <td>debt_consolidation</td>\n",
       "      <td>206274</td>\n",
       "      <td>74003</td>\n",
       "      <td>280277</td>\n",
       "      <td>26.40</td>\n",
       "    </tr>\n",
       "    <tr>\n",
       "      <td>3</td>\n",
       "      <td>educational</td>\n",
       "      <td>1</td>\n",
       "      <td>0</td>\n",
       "      <td>1</td>\n",
       "      <td>0.00</td>\n",
       "    </tr>\n",
       "    <tr>\n",
       "      <td>4</td>\n",
       "      <td>home_improvement</td>\n",
       "      <td>21229</td>\n",
       "      <td>6355</td>\n",
       "      <td>27584</td>\n",
       "      <td>23.04</td>\n",
       "    </tr>\n",
       "    <tr>\n",
       "      <td>5</td>\n",
       "      <td>house</td>\n",
       "      <td>1284</td>\n",
       "      <td>514</td>\n",
       "      <td>1798</td>\n",
       "      <td>28.59</td>\n",
       "    </tr>\n",
       "    <tr>\n",
       "      <td>6</td>\n",
       "      <td>major_purchase</td>\n",
       "      <td>6190</td>\n",
       "      <td>2053</td>\n",
       "      <td>8243</td>\n",
       "      <td>24.91</td>\n",
       "    </tr>\n",
       "    <tr>\n",
       "      <td>7</td>\n",
       "      <td>medical</td>\n",
       "      <td>3493</td>\n",
       "      <td>1278</td>\n",
       "      <td>4771</td>\n",
       "      <td>26.79</td>\n",
       "    </tr>\n",
       "    <tr>\n",
       "      <td>8</td>\n",
       "      <td>moving</td>\n",
       "      <td>2056</td>\n",
       "      <td>916</td>\n",
       "      <td>2972</td>\n",
       "      <td>30.82</td>\n",
       "    </tr>\n",
       "    <tr>\n",
       "      <td>9</td>\n",
       "      <td>other</td>\n",
       "      <td>16219</td>\n",
       "      <td>5900</td>\n",
       "      <td>22119</td>\n",
       "      <td>26.67</td>\n",
       "    </tr>\n",
       "    <tr>\n",
       "      <td>10</td>\n",
       "      <td>renewable_energy</td>\n",
       "      <td>187</td>\n",
       "      <td>89</td>\n",
       "      <td>276</td>\n",
       "      <td>32.25</td>\n",
       "    </tr>\n",
       "    <tr>\n",
       "      <td>11</td>\n",
       "      <td>small_business</td>\n",
       "      <td>2741</td>\n",
       "      <td>1538</td>\n",
       "      <td>4279</td>\n",
       "      <td>35.94</td>\n",
       "    </tr>\n",
       "    <tr>\n",
       "      <td>12</td>\n",
       "      <td>vacation</td>\n",
       "      <td>2069</td>\n",
       "      <td>647</td>\n",
       "      <td>2716</td>\n",
       "      <td>23.82</td>\n",
       "    </tr>\n",
       "    <tr>\n",
       "      <td>13</td>\n",
       "      <td>wedding</td>\n",
       "      <td>11</td>\n",
       "      <td>0</td>\n",
       "      <td>11</td>\n",
       "      <td>0.00</td>\n",
       "    </tr>\n",
       "  </tbody>\n",
       "</table>\n",
       "</div>"
      ],
      "text/plain": [
       "               purpose    paga  no paga   total  porcentaje_impago\n",
       "0                  car    3116      779    3895              20.00\n",
       "1          credit_card   80650    22599  103249              21.89\n",
       "2   debt_consolidation  206274    74003  280277              26.40\n",
       "3          educational       1        0       1               0.00\n",
       "4     home_improvement   21229     6355   27584              23.04\n",
       "5                house    1284      514    1798              28.59\n",
       "6       major_purchase    6190     2053    8243              24.91\n",
       "7              medical    3493     1278    4771              26.79\n",
       "8               moving    2056      916    2972              30.82\n",
       "9                other   16219     5900   22119              26.67\n",
       "10    renewable_energy     187       89     276              32.25\n",
       "11      small_business    2741     1538    4279              35.94\n",
       "12            vacation    2069      647    2716              23.82\n",
       "13             wedding      11        0      11               0.00"
      ]
     },
     "execution_count": 160,
     "metadata": {},
     "output_type": "execute_result"
    }
   ],
   "source": [
    "# Aplicamos la función y exploramos el resultado \n",
    "impagos_proposito = tabla_impagos(datos, 'purpose')\n",
    "impagos_proposito"
   ]
  },
  {
   "cell_type": "code",
   "execution_count": 102,
   "metadata": {
    "scrolled": false
   },
   "outputs": [
    {
     "data": {
      "image/png": "[encoded data removed]",
      "text/plain": [
       "<Figure size 864x504 with 1 Axes>"
      ]
     },
     "metadata": {},
     "output_type": "display_data"
    }
   ],
   "source": [
    "# Grafico del resultado \n",
    "plt.subplots(figsize=(12, 7))\n",
    "\n",
    "sns.barplot(x='purpose', \n",
    "            y='porcentaje_impago',\n",
    "           data=impagos_proposito,\n",
    "           order=impagos_proposito.sort_values('porcentaje_impago').purpose) # eje x ordenado de menos a mas impago\n",
    "\n",
    "plt.title('Tasa de impago por propósito del crédito')\n",
    "plt.xlabel('Propósito')\n",
    "plt.ylabel('Porcentaje de impago')\n",
    "plt.xticks(rotation=45); # rotacion de las etiquetas del eje x, hay otro método? "
   ]
  },
  {
   "cell_type": "markdown",
   "metadata": {},
   "source": [
    "Podemos ver que la tasa de impago varía bastante en función del préstamo, llegando a superar el 35% en los préstamos a \n",
    "pequeños negocios. Puede ser interesante codificar esta variable en la fase de pipelines. No obstante, hay que tener en cuenta que hay categorías con impago 0, como el prestamo educacional de la que solo se cuenta con un registro. Las bodas representan 11 registros. Quizá sería conveniente eliminar estos 12 préstamos del dataset"
   ]
  },
  {
   "cell_type": "markdown",
   "metadata": {},
   "source": [
    "También se define una función para los gráficos porcentuales, puesto que se usará en múltiples ocasiones"
   ]
  },
  {
   "cell_type": "code",
   "execution_count": 214,
   "metadata": {},
   "outputs": [],
   "source": [
    "def barras_porcentuales(datos, eje_x, titulo, etiqueta_x):\n",
    "    \"\"\"\n",
    "    La función  tomará como argunemtos los datos, la variable del eje x, el título y la etiqueta del eje x.\n",
    "    La variable del eje y, por la forma en que se construyen las tablas, está siempre en el mismo lugar, así que \n",
    "    no hace falta que el usuario la escriba. La etiqueta del eje y es también siempre la misma\n",
    "    \"\"\"\n",
    "    plt.subplots(figsize=(12, 7))\n",
    "    \n",
    "    sns.barplot(x=eje_x, # debe elegirla el usuario\n",
    "                y='porcentaje_impago', # última columna del dataset, siempre se llama así\n",
    "                data=datos) \n",
    "    \n",
    "    plt.title(titulo)\n",
    "    plt.xlabel(etiqueta_x)\n",
    "    plt.ylabel('Porcentaje de impago');"
   ]
  },
  {
   "cell_type": "markdown",
   "metadata": {},
   "source": [
    "A continuación, calculamos la tasa de impago para cada título profesional"
   ]
  },
  {
   "cell_type": "code",
   "execution_count": 162,
   "metadata": {},
   "outputs": [
    {
     "data": {
      "text/html": [
       "<div>\n",
       "<style scoped>\n",
       "    .dataframe tbody tr th:only-of-type {\n",
       "        vertical-align: middle;\n",
       "    }\n",
       "\n",
       "    .dataframe tbody tr th {\n",
       "        vertical-align: top;\n",
       "    }\n",
       "\n",
       "    .dataframe thead th {\n",
       "        text-align: right;\n",
       "    }\n",
       "</style>\n",
       "<table border=\"1\" class=\"dataframe\">\n",
       "  <thead>\n",
       "    <tr style=\"text-align: right;\">\n",
       "      <th></th>\n",
       "      <th>emp_title</th>\n",
       "      <th>paga</th>\n",
       "      <th>no paga</th>\n",
       "      <th>total</th>\n",
       "      <th>porcentaje_impago</th>\n",
       "    </tr>\n",
       "  </thead>\n",
       "  <tbody>\n",
       "    <tr>\n",
       "      <td>0</td>\n",
       "      <td>\\tAdv Mtr Proj Fld Rep</td>\n",
       "      <td>1</td>\n",
       "      <td>0</td>\n",
       "      <td>1</td>\n",
       "      <td>0.0</td>\n",
       "    </tr>\n",
       "    <tr>\n",
       "      <td>1</td>\n",
       "      <td>\\tEmployee Strategies Manager</td>\n",
       "      <td>1</td>\n",
       "      <td>0</td>\n",
       "      <td>1</td>\n",
       "      <td>0.0</td>\n",
       "    </tr>\n",
       "    <tr>\n",
       "      <td>2</td>\n",
       "      <td>letter carrier</td>\n",
       "      <td>0</td>\n",
       "      <td>1</td>\n",
       "      <td>1</td>\n",
       "      <td>100.0</td>\n",
       "    </tr>\n",
       "    <tr>\n",
       "      <td>3</td>\n",
       "      <td>Carpenter</td>\n",
       "      <td>0</td>\n",
       "      <td>1</td>\n",
       "      <td>1</td>\n",
       "      <td>100.0</td>\n",
       "    </tr>\n",
       "    <tr>\n",
       "      <td>4</td>\n",
       "      <td>Credit rev specialist</td>\n",
       "      <td>0</td>\n",
       "      <td>1</td>\n",
       "      <td>1</td>\n",
       "      <td>100.0</td>\n",
       "    </tr>\n",
       "    <tr>\n",
       "      <td>...</td>\n",
       "      <td>...</td>\n",
       "      <td>...</td>\n",
       "      <td>...</td>\n",
       "      <td>...</td>\n",
       "      <td>...</td>\n",
       "    </tr>\n",
       "    <tr>\n",
       "      <td>129442</td>\n",
       "      <td>zoning inspector</td>\n",
       "      <td>1</td>\n",
       "      <td>0</td>\n",
       "      <td>1</td>\n",
       "      <td>0.0</td>\n",
       "    </tr>\n",
       "    <tr>\n",
       "      <td>129443</td>\n",
       "      <td>zookeeper</td>\n",
       "      <td>1</td>\n",
       "      <td>1</td>\n",
       "      <td>2</td>\n",
       "      <td>50.0</td>\n",
       "    </tr>\n",
       "    <tr>\n",
       "      <td>129444</td>\n",
       "      <td>zs backroom</td>\n",
       "      <td>1</td>\n",
       "      <td>0</td>\n",
       "      <td>1</td>\n",
       "      <td>0.0</td>\n",
       "    </tr>\n",
       "    <tr>\n",
       "      <td>129445</td>\n",
       "      <td>Ã…Âšr.  Technical Illustrator</td>\n",
       "      <td>1</td>\n",
       "      <td>0</td>\n",
       "      <td>1</td>\n",
       "      <td>0.0</td>\n",
       "    </tr>\n",
       "    <tr>\n",
       "      <td>129446</td>\n",
       "      <td>â€‹License Compliance Investigator</td>\n",
       "      <td>1</td>\n",
       "      <td>0</td>\n",
       "      <td>1</td>\n",
       "      <td>0.0</td>\n",
       "    </tr>\n",
       "  </tbody>\n",
       "</table>\n",
       "<p>129447 rows × 5 columns</p>\n",
       "</div>"
      ],
      "text/plain": [
       "                                 emp_title  paga  no paga  total  \\\n",
       "0                   \\tAdv Mtr Proj Fld Rep     1        0      1   \n",
       "1            \\tEmployee Strategies Manager     1        0      1   \n",
       "2                       letter carrier         0        1      1   \n",
       "3                               Carpenter      0        1      1   \n",
       "4                    Credit rev specialist     0        1      1   \n",
       "...                                    ...   ...      ...    ...   \n",
       "129442                    zoning inspector     1        0      1   \n",
       "129443                           zookeeper     1        1      2   \n",
       "129444                         zs backroom     1        0      1   \n",
       "129445       Ã…Âšr.  Technical Illustrator     1        0      1   \n",
       "129446  â€‹License Compliance Investigator     1        0      1   \n",
       "\n",
       "        porcentaje_impago  \n",
       "0                     0.0  \n",
       "1                     0.0  \n",
       "2                   100.0  \n",
       "3                   100.0  \n",
       "4                   100.0  \n",
       "...                   ...  \n",
       "129442                0.0  \n",
       "129443               50.0  \n",
       "129444                0.0  \n",
       "129445                0.0  \n",
       "129446                0.0  \n",
       "\n",
       "[129447 rows x 5 columns]"
      ]
     },
     "execution_count": 162,
     "metadata": {},
     "output_type": "execute_result"
    }
   ],
   "source": [
    "impago_por_titulo = tabla_impagos(datos, 'emp_title')\n",
    "impago_por_titulo"
   ]
  },
  {
   "cell_type": "code",
   "execution_count": 163,
   "metadata": {},
   "outputs": [
    {
     "data": {
      "text/html": [
       "<div>\n",
       "<style scoped>\n",
       "    .dataframe tbody tr th:only-of-type {\n",
       "        vertical-align: middle;\n",
       "    }\n",
       "\n",
       "    .dataframe tbody tr th {\n",
       "        vertical-align: top;\n",
       "    }\n",
       "\n",
       "    .dataframe thead th {\n",
       "        text-align: right;\n",
       "    }\n",
       "</style>\n",
       "<table border=\"1\" class=\"dataframe\">\n",
       "  <thead>\n",
       "    <tr style=\"text-align: right;\">\n",
       "      <th></th>\n",
       "      <th>emp_title</th>\n",
       "      <th>paga</th>\n",
       "      <th>no paga</th>\n",
       "      <th>total</th>\n",
       "      <th>porcentaje_impago</th>\n",
       "    </tr>\n",
       "  </thead>\n",
       "  <tbody>\n",
       "    <tr>\n",
       "      <td>77057</td>\n",
       "      <td>RN, Director of Nursing</td>\n",
       "      <td>0</td>\n",
       "      <td>1</td>\n",
       "      <td>1</td>\n",
       "      <td>100.0</td>\n",
       "    </tr>\n",
       "    <tr>\n",
       "      <td>20997</td>\n",
       "      <td>Computer Information Technologist IV</td>\n",
       "      <td>0</td>\n",
       "      <td>1</td>\n",
       "      <td>1</td>\n",
       "      <td>100.0</td>\n",
       "    </tr>\n",
       "    <tr>\n",
       "      <td>115204</td>\n",
       "      <td>federal air marshal</td>\n",
       "      <td>0</td>\n",
       "      <td>1</td>\n",
       "      <td>1</td>\n",
       "      <td>100.0</td>\n",
       "    </tr>\n",
       "    <tr>\n",
       "      <td>115205</td>\n",
       "      <td>federal contract security officer</td>\n",
       "      <td>0</td>\n",
       "      <td>1</td>\n",
       "      <td>1</td>\n",
       "      <td>100.0</td>\n",
       "    </tr>\n",
       "    <tr>\n",
       "      <td>115206</td>\n",
       "      <td>federal law enforcement officer</td>\n",
       "      <td>0</td>\n",
       "      <td>1</td>\n",
       "      <td>1</td>\n",
       "      <td>100.0</td>\n",
       "    </tr>\n",
       "    <tr>\n",
       "      <td>...</td>\n",
       "      <td>...</td>\n",
       "      <td>...</td>\n",
       "      <td>...</td>\n",
       "      <td>...</td>\n",
       "      <td>...</td>\n",
       "    </tr>\n",
       "    <tr>\n",
       "      <td>51241</td>\n",
       "      <td>LTC Care Coordinator</td>\n",
       "      <td>1</td>\n",
       "      <td>0</td>\n",
       "      <td>1</td>\n",
       "      <td>0.0</td>\n",
       "    </tr>\n",
       "    <tr>\n",
       "      <td>51240</td>\n",
       "      <td>LTC - Personnel Management Officer</td>\n",
       "      <td>1</td>\n",
       "      <td>0</td>\n",
       "      <td>1</td>\n",
       "      <td>0.0</td>\n",
       "    </tr>\n",
       "    <tr>\n",
       "      <td>51239</td>\n",
       "      <td>LTC</td>\n",
       "      <td>1</td>\n",
       "      <td>0</td>\n",
       "      <td>1</td>\n",
       "      <td>0.0</td>\n",
       "    </tr>\n",
       "    <tr>\n",
       "      <td>51238</td>\n",
       "      <td>LT/O3-E</td>\n",
       "      <td>1</td>\n",
       "      <td>0</td>\n",
       "      <td>1</td>\n",
       "      <td>0.0</td>\n",
       "    </tr>\n",
       "    <tr>\n",
       "      <td>129446</td>\n",
       "      <td>â€‹License Compliance Investigator</td>\n",
       "      <td>1</td>\n",
       "      <td>0</td>\n",
       "      <td>1</td>\n",
       "      <td>0.0</td>\n",
       "    </tr>\n",
       "  </tbody>\n",
       "</table>\n",
       "<p>129447 rows × 5 columns</p>\n",
       "</div>"
      ],
      "text/plain": [
       "                                   emp_title  paga  no paga  total  \\\n",
       "77057                RN, Director of Nursing     0        1      1   \n",
       "20997   Computer Information Technologist IV     0        1      1   \n",
       "115204                   federal air marshal     0        1      1   \n",
       "115205    federal contract security officer      0        1      1   \n",
       "115206       federal law enforcement officer     0        1      1   \n",
       "...                                      ...   ...      ...    ...   \n",
       "51241                   LTC Care Coordinator     1        0      1   \n",
       "51240     LTC - Personnel Management Officer     1        0      1   \n",
       "51239                                    LTC     1        0      1   \n",
       "51238                                LT/O3-E     1        0      1   \n",
       "129446    â€‹License Compliance Investigator     1        0      1   \n",
       "\n",
       "        porcentaje_impago  \n",
       "77057               100.0  \n",
       "20997               100.0  \n",
       "115204              100.0  \n",
       "115205              100.0  \n",
       "115206              100.0  \n",
       "...                   ...  \n",
       "51241                 0.0  \n",
       "51240                 0.0  \n",
       "51239                 0.0  \n",
       "51238                 0.0  \n",
       "129446                0.0  \n",
       "\n",
       "[129447 rows x 5 columns]"
      ]
     },
     "execution_count": 163,
     "metadata": {},
     "output_type": "execute_result"
    }
   ],
   "source": [
    "# Ordenamos de mayor a menor % de impago para obtener las profesiones con mayor morosidad\n",
    "impago_por_titulo.sort_values(\"porcentaje_impago\", ascending = False)"
   ]
  },
  {
   "cell_type": "code",
   "execution_count": 164,
   "metadata": {},
   "outputs": [
    {
     "data": {
      "text/html": [
       "<div>\n",
       "<style scoped>\n",
       "    .dataframe tbody tr th:only-of-type {\n",
       "        vertical-align: middle;\n",
       "    }\n",
       "\n",
       "    .dataframe tbody tr th {\n",
       "        vertical-align: top;\n",
       "    }\n",
       "\n",
       "    .dataframe thead th {\n",
       "        text-align: right;\n",
       "    }\n",
       "</style>\n",
       "<table border=\"1\" class=\"dataframe\">\n",
       "  <thead>\n",
       "    <tr style=\"text-align: right;\">\n",
       "      <th></th>\n",
       "      <th>emp_title</th>\n",
       "      <th>paga</th>\n",
       "      <th>no paga</th>\n",
       "      <th>total</th>\n",
       "      <th>porcentaje_impago</th>\n",
       "    </tr>\n",
       "  </thead>\n",
       "  <tbody>\n",
       "    <tr>\n",
       "      <td>2</td>\n",
       "      <td>letter carrier</td>\n",
       "      <td>0</td>\n",
       "      <td>1</td>\n",
       "      <td>1</td>\n",
       "      <td>100.0</td>\n",
       "    </tr>\n",
       "    <tr>\n",
       "      <td>3</td>\n",
       "      <td>Carpenter</td>\n",
       "      <td>0</td>\n",
       "      <td>1</td>\n",
       "      <td>1</td>\n",
       "      <td>100.0</td>\n",
       "    </tr>\n",
       "    <tr>\n",
       "      <td>4</td>\n",
       "      <td>Credit rev specialist</td>\n",
       "      <td>0</td>\n",
       "      <td>1</td>\n",
       "      <td>1</td>\n",
       "      <td>100.0</td>\n",
       "    </tr>\n",
       "    <tr>\n",
       "      <td>5</td>\n",
       "      <td>Director</td>\n",
       "      <td>0</td>\n",
       "      <td>1</td>\n",
       "      <td>1</td>\n",
       "      <td>100.0</td>\n",
       "    </tr>\n",
       "    <tr>\n",
       "      <td>15</td>\n",
       "      <td>Administrator</td>\n",
       "      <td>0</td>\n",
       "      <td>1</td>\n",
       "      <td>1</td>\n",
       "      <td>100.0</td>\n",
       "    </tr>\n",
       "    <tr>\n",
       "      <td>...</td>\n",
       "      <td>...</td>\n",
       "      <td>...</td>\n",
       "      <td>...</td>\n",
       "      <td>...</td>\n",
       "      <td>...</td>\n",
       "    </tr>\n",
       "    <tr>\n",
       "      <td>129426</td>\n",
       "      <td>youth counslor</td>\n",
       "      <td>0</td>\n",
       "      <td>1</td>\n",
       "      <td>1</td>\n",
       "      <td>100.0</td>\n",
       "    </tr>\n",
       "    <tr>\n",
       "      <td>129429</td>\n",
       "      <td>youth security officer</td>\n",
       "      <td>0</td>\n",
       "      <td>1</td>\n",
       "      <td>1</td>\n",
       "      <td>100.0</td>\n",
       "    </tr>\n",
       "    <tr>\n",
       "      <td>129430</td>\n",
       "      <td>youth services worker</td>\n",
       "      <td>0</td>\n",
       "      <td>1</td>\n",
       "      <td>1</td>\n",
       "      <td>100.0</td>\n",
       "    </tr>\n",
       "    <tr>\n",
       "      <td>129434</td>\n",
       "      <td>zms fashion</td>\n",
       "      <td>0</td>\n",
       "      <td>1</td>\n",
       "      <td>1</td>\n",
       "      <td>100.0</td>\n",
       "    </tr>\n",
       "    <tr>\n",
       "      <td>129438</td>\n",
       "      <td>zone merchandise supervisor</td>\n",
       "      <td>0</td>\n",
       "      <td>1</td>\n",
       "      <td>1</td>\n",
       "      <td>100.0</td>\n",
       "    </tr>\n",
       "  </tbody>\n",
       "</table>\n",
       "<p>27060 rows × 5 columns</p>\n",
       "</div>"
      ],
      "text/plain": [
       "                          emp_title  paga  no paga  total  porcentaje_impago\n",
       "2                letter carrier         0        1      1              100.0\n",
       "3                        Carpenter      0        1      1              100.0\n",
       "4             Credit rev specialist     0        1      1              100.0\n",
       "5                          Director     0        1      1              100.0\n",
       "15                   Administrator      0        1      1              100.0\n",
       "...                             ...   ...      ...    ...                ...\n",
       "129426               youth counslor     0        1      1              100.0\n",
       "129429       youth security officer     0        1      1              100.0\n",
       "129430        youth services worker     0        1      1              100.0\n",
       "129434                  zms fashion     0        1      1              100.0\n",
       "129438  zone merchandise supervisor     0        1      1              100.0\n",
       "\n",
       "[27060 rows x 5 columns]"
      ]
     },
     "execution_count": 164,
     "metadata": {},
     "output_type": "execute_result"
    }
   ],
   "source": [
    "# Filtramos la tabla impagos_titulo para obtener aquellas profesiones con un porcentaje de impago del 100%\n",
    "titulo_impago_100 = impago_por_titulo.porcentaje_impago == 100.0\n",
    "impago_por_titulo[titulo_impago_100]"
   ]
  },
  {
   "cell_type": "markdown",
   "metadata": {},
   "source": [
    "De nuevo, el problema reside en que para cada tipo de empleo, se disponen de muy pocos datos. Que un director haya impagado \n",
    "no implica que todos los directores vayan a impagar. Por este motivo, descartamos esta variable.   \n",
    "Además, incluso más importante es tener en cuenta que a la hora de aplicar encoding, una variable categórica generará tantas nuevas columnas como categorías tiene. En este caso, la columna tiene 129.447, y no parece buena idea añadir esa carga a los modelos, disparando el coste computacional. Otra opción sería utilizar un tipo de encoding distinto. Como primera aproximación, se descarta la variable"
   ]
  },
  {
   "cell_type": "markdown",
   "metadata": {},
   "source": [
    "### Datos del registro público: amonestaciones y bancarrotas"
   ]
  },
  {
   "cell_type": "markdown",
   "metadata": {},
   "source": [
    "Esta variable puede ser indicativa de que el prestatario es de riesgo. Analizamos los porcentajes de impago en cada una de las categorias "
   ]
  },
  {
   "cell_type": "code",
   "execution_count": 168,
   "metadata": {},
   "outputs": [
    {
     "data": {
      "text/html": [
       "<div>\n",
       "<style scoped>\n",
       "    .dataframe tbody tr th:only-of-type {\n",
       "        vertical-align: middle;\n",
       "    }\n",
       "\n",
       "    .dataframe tbody tr th {\n",
       "        vertical-align: top;\n",
       "    }\n",
       "\n",
       "    .dataframe thead th {\n",
       "        text-align: right;\n",
       "    }\n",
       "</style>\n",
       "<table border=\"1\" class=\"dataframe\">\n",
       "  <thead>\n",
       "    <tr style=\"text-align: right;\">\n",
       "      <th></th>\n",
       "      <th>pub_rec</th>\n",
       "      <th>paga</th>\n",
       "      <th>no paga</th>\n",
       "      <th>total</th>\n",
       "      <th>porcentaje_impago</th>\n",
       "    </tr>\n",
       "  </thead>\n",
       "  <tbody>\n",
       "    <tr>\n",
       "      <td>0</td>\n",
       "      <td>0</td>\n",
       "      <td>281948</td>\n",
       "      <td>93519</td>\n",
       "      <td>375467</td>\n",
       "      <td>24.91</td>\n",
       "    </tr>\n",
       "    <tr>\n",
       "      <td>1</td>\n",
       "      <td>1</td>\n",
       "      <td>53126</td>\n",
       "      <td>19036</td>\n",
       "      <td>72162</td>\n",
       "      <td>26.38</td>\n",
       "    </tr>\n",
       "    <tr>\n",
       "      <td>2</td>\n",
       "      <td>2</td>\n",
       "      <td>7022</td>\n",
       "      <td>2731</td>\n",
       "      <td>9753</td>\n",
       "      <td>28.00</td>\n",
       "    </tr>\n",
       "    <tr>\n",
       "      <td>3</td>\n",
       "      <td>3</td>\n",
       "      <td>2074</td>\n",
       "      <td>801</td>\n",
       "      <td>2875</td>\n",
       "      <td>27.86</td>\n",
       "    </tr>\n",
       "    <tr>\n",
       "      <td>4</td>\n",
       "      <td>4</td>\n",
       "      <td>657</td>\n",
       "      <td>313</td>\n",
       "      <td>970</td>\n",
       "      <td>32.27</td>\n",
       "    </tr>\n",
       "    <tr>\n",
       "      <td>5</td>\n",
       "      <td>5</td>\n",
       "      <td>325</td>\n",
       "      <td>125</td>\n",
       "      <td>450</td>\n",
       "      <td>27.78</td>\n",
       "    </tr>\n",
       "    <tr>\n",
       "      <td>6</td>\n",
       "      <td>6</td>\n",
       "      <td>163</td>\n",
       "      <td>77</td>\n",
       "      <td>240</td>\n",
       "      <td>32.08</td>\n",
       "    </tr>\n",
       "    <tr>\n",
       "      <td>7</td>\n",
       "      <td>7</td>\n",
       "      <td>80</td>\n",
       "      <td>23</td>\n",
       "      <td>103</td>\n",
       "      <td>22.33</td>\n",
       "    </tr>\n",
       "    <tr>\n",
       "      <td>8</td>\n",
       "      <td>8</td>\n",
       "      <td>52</td>\n",
       "      <td>16</td>\n",
       "      <td>68</td>\n",
       "      <td>23.53</td>\n",
       "    </tr>\n",
       "    <tr>\n",
       "      <td>9</td>\n",
       "      <td>9</td>\n",
       "      <td>21</td>\n",
       "      <td>7</td>\n",
       "      <td>28</td>\n",
       "      <td>25.00</td>\n",
       "    </tr>\n",
       "    <tr>\n",
       "      <td>10</td>\n",
       "      <td>10</td>\n",
       "      <td>17</td>\n",
       "      <td>6</td>\n",
       "      <td>23</td>\n",
       "      <td>26.09</td>\n",
       "    </tr>\n",
       "    <tr>\n",
       "      <td>11</td>\n",
       "      <td>11</td>\n",
       "      <td>12</td>\n",
       "      <td>3</td>\n",
       "      <td>15</td>\n",
       "      <td>20.00</td>\n",
       "    </tr>\n",
       "    <tr>\n",
       "      <td>12</td>\n",
       "      <td>12</td>\n",
       "      <td>4</td>\n",
       "      <td>6</td>\n",
       "      <td>10</td>\n",
       "      <td>60.00</td>\n",
       "    </tr>\n",
       "    <tr>\n",
       "      <td>13</td>\n",
       "      <td>13</td>\n",
       "      <td>6</td>\n",
       "      <td>1</td>\n",
       "      <td>7</td>\n",
       "      <td>14.29</td>\n",
       "    </tr>\n",
       "    <tr>\n",
       "      <td>14</td>\n",
       "      <td>14</td>\n",
       "      <td>1</td>\n",
       "      <td>0</td>\n",
       "      <td>1</td>\n",
       "      <td>0.00</td>\n",
       "    </tr>\n",
       "    <tr>\n",
       "      <td>15</td>\n",
       "      <td>15</td>\n",
       "      <td>2</td>\n",
       "      <td>2</td>\n",
       "      <td>4</td>\n",
       "      <td>50.00</td>\n",
       "    </tr>\n",
       "    <tr>\n",
       "      <td>16</td>\n",
       "      <td>16</td>\n",
       "      <td>2</td>\n",
       "      <td>0</td>\n",
       "      <td>2</td>\n",
       "      <td>0.00</td>\n",
       "    </tr>\n",
       "    <tr>\n",
       "      <td>17</td>\n",
       "      <td>17</td>\n",
       "      <td>1</td>\n",
       "      <td>0</td>\n",
       "      <td>1</td>\n",
       "      <td>0.00</td>\n",
       "    </tr>\n",
       "    <tr>\n",
       "      <td>18</td>\n",
       "      <td>18</td>\n",
       "      <td>3</td>\n",
       "      <td>0</td>\n",
       "      <td>3</td>\n",
       "      <td>0.00</td>\n",
       "    </tr>\n",
       "    <tr>\n",
       "      <td>19</td>\n",
       "      <td>19</td>\n",
       "      <td>0</td>\n",
       "      <td>2</td>\n",
       "      <td>2</td>\n",
       "      <td>100.00</td>\n",
       "    </tr>\n",
       "    <tr>\n",
       "      <td>20</td>\n",
       "      <td>20</td>\n",
       "      <td>0</td>\n",
       "      <td>1</td>\n",
       "      <td>1</td>\n",
       "      <td>100.00</td>\n",
       "    </tr>\n",
       "    <tr>\n",
       "      <td>21</td>\n",
       "      <td>21</td>\n",
       "      <td>1</td>\n",
       "      <td>0</td>\n",
       "      <td>1</td>\n",
       "      <td>0.00</td>\n",
       "    </tr>\n",
       "    <tr>\n",
       "      <td>22</td>\n",
       "      <td>34</td>\n",
       "      <td>1</td>\n",
       "      <td>0</td>\n",
       "      <td>1</td>\n",
       "      <td>0.00</td>\n",
       "    </tr>\n",
       "    <tr>\n",
       "      <td>23</td>\n",
       "      <td>40</td>\n",
       "      <td>0</td>\n",
       "      <td>1</td>\n",
       "      <td>1</td>\n",
       "      <td>100.00</td>\n",
       "    </tr>\n",
       "    <tr>\n",
       "      <td>24</td>\n",
       "      <td>49</td>\n",
       "      <td>1</td>\n",
       "      <td>0</td>\n",
       "      <td>1</td>\n",
       "      <td>0.00</td>\n",
       "    </tr>\n",
       "    <tr>\n",
       "      <td>25</td>\n",
       "      <td>63</td>\n",
       "      <td>1</td>\n",
       "      <td>0</td>\n",
       "      <td>1</td>\n",
       "      <td>0.00</td>\n",
       "    </tr>\n",
       "    <tr>\n",
       "      <td>26</td>\n",
       "      <td>86</td>\n",
       "      <td>0</td>\n",
       "      <td>1</td>\n",
       "      <td>1</td>\n",
       "      <td>100.00</td>\n",
       "    </tr>\n",
       "  </tbody>\n",
       "</table>\n",
       "</div>"
      ],
      "text/plain": [
       "    pub_rec    paga  no paga   total  porcentaje_impago\n",
       "0         0  281948    93519  375467              24.91\n",
       "1         1   53126    19036   72162              26.38\n",
       "2         2    7022     2731    9753              28.00\n",
       "3         3    2074      801    2875              27.86\n",
       "4         4     657      313     970              32.27\n",
       "5         5     325      125     450              27.78\n",
       "6         6     163       77     240              32.08\n",
       "7         7      80       23     103              22.33\n",
       "8         8      52       16      68              23.53\n",
       "9         9      21        7      28              25.00\n",
       "10       10      17        6      23              26.09\n",
       "11       11      12        3      15              20.00\n",
       "12       12       4        6      10              60.00\n",
       "13       13       6        1       7              14.29\n",
       "14       14       1        0       1               0.00\n",
       "15       15       2        2       4              50.00\n",
       "16       16       2        0       2               0.00\n",
       "17       17       1        0       1               0.00\n",
       "18       18       3        0       3               0.00\n",
       "19       19       0        2       2             100.00\n",
       "20       20       0        1       1             100.00\n",
       "21       21       1        0       1               0.00\n",
       "22       34       1        0       1               0.00\n",
       "23       40       0        1       1             100.00\n",
       "24       49       1        0       1               0.00\n",
       "25       63       1        0       1               0.00\n",
       "26       86       0        1       1             100.00"
      ]
     },
     "execution_count": 168,
     "metadata": {},
     "output_type": "execute_result"
    }
   ],
   "source": [
    "registros_publicos = tabla_impagos(datos, 'pub_rec')\n",
    "registros_publicos"
   ]
  },
  {
   "cell_type": "code",
   "execution_count": 169,
   "metadata": {
    "scrolled": false
   },
   "outputs": [
    {
     "data": {
      "text/html": [
       "<div>\n",
       "<style scoped>\n",
       "    .dataframe tbody tr th:only-of-type {\n",
       "        vertical-align: middle;\n",
       "    }\n",
       "\n",
       "    .dataframe tbody tr th {\n",
       "        vertical-align: top;\n",
       "    }\n",
       "\n",
       "    .dataframe thead th {\n",
       "        text-align: right;\n",
       "    }\n",
       "</style>\n",
       "<table border=\"1\" class=\"dataframe\">\n",
       "  <thead>\n",
       "    <tr style=\"text-align: right;\">\n",
       "      <th></th>\n",
       "      <th>pub_rec_bankruptcies</th>\n",
       "      <th>paga</th>\n",
       "      <th>no paga</th>\n",
       "      <th>total</th>\n",
       "      <th>porcentaje_impago</th>\n",
       "    </tr>\n",
       "  </thead>\n",
       "  <tbody>\n",
       "    <tr>\n",
       "      <td>0</td>\n",
       "      <td>0</td>\n",
       "      <td>299208</td>\n",
       "      <td>100289</td>\n",
       "      <td>399497</td>\n",
       "      <td>25.10</td>\n",
       "    </tr>\n",
       "    <tr>\n",
       "      <td>1</td>\n",
       "      <td>1</td>\n",
       "      <td>43378</td>\n",
       "      <td>15188</td>\n",
       "      <td>58566</td>\n",
       "      <td>25.93</td>\n",
       "    </tr>\n",
       "    <tr>\n",
       "      <td>2</td>\n",
       "      <td>2</td>\n",
       "      <td>2289</td>\n",
       "      <td>940</td>\n",
       "      <td>3229</td>\n",
       "      <td>29.11</td>\n",
       "    </tr>\n",
       "    <tr>\n",
       "      <td>3</td>\n",
       "      <td>3</td>\n",
       "      <td>479</td>\n",
       "      <td>175</td>\n",
       "      <td>654</td>\n",
       "      <td>26.76</td>\n",
       "    </tr>\n",
       "    <tr>\n",
       "      <td>4</td>\n",
       "      <td>4</td>\n",
       "      <td>102</td>\n",
       "      <td>54</td>\n",
       "      <td>156</td>\n",
       "      <td>34.62</td>\n",
       "    </tr>\n",
       "    <tr>\n",
       "      <td>5</td>\n",
       "      <td>5</td>\n",
       "      <td>42</td>\n",
       "      <td>14</td>\n",
       "      <td>56</td>\n",
       "      <td>25.00</td>\n",
       "    </tr>\n",
       "    <tr>\n",
       "      <td>6</td>\n",
       "      <td>6</td>\n",
       "      <td>10</td>\n",
       "      <td>5</td>\n",
       "      <td>15</td>\n",
       "      <td>33.33</td>\n",
       "    </tr>\n",
       "    <tr>\n",
       "      <td>7</td>\n",
       "      <td>7</td>\n",
       "      <td>10</td>\n",
       "      <td>3</td>\n",
       "      <td>13</td>\n",
       "      <td>23.08</td>\n",
       "    </tr>\n",
       "    <tr>\n",
       "      <td>8</td>\n",
       "      <td>8</td>\n",
       "      <td>0</td>\n",
       "      <td>2</td>\n",
       "      <td>2</td>\n",
       "      <td>100.00</td>\n",
       "    </tr>\n",
       "    <tr>\n",
       "      <td>9</td>\n",
       "      <td>9</td>\n",
       "      <td>1</td>\n",
       "      <td>0</td>\n",
       "      <td>1</td>\n",
       "      <td>0.00</td>\n",
       "    </tr>\n",
       "    <tr>\n",
       "      <td>10</td>\n",
       "      <td>11</td>\n",
       "      <td>0</td>\n",
       "      <td>1</td>\n",
       "      <td>1</td>\n",
       "      <td>100.00</td>\n",
       "    </tr>\n",
       "    <tr>\n",
       "      <td>11</td>\n",
       "      <td>12</td>\n",
       "      <td>1</td>\n",
       "      <td>0</td>\n",
       "      <td>1</td>\n",
       "      <td>0.00</td>\n",
       "    </tr>\n",
       "  </tbody>\n",
       "</table>\n",
       "</div>"
      ],
      "text/plain": [
       "    pub_rec_bankruptcies    paga  no paga   total  porcentaje_impago\n",
       "0                      0  299208   100289  399497              25.10\n",
       "1                      1   43378    15188   58566              25.93\n",
       "2                      2    2289      940    3229              29.11\n",
       "3                      3     479      175     654              26.76\n",
       "4                      4     102       54     156              34.62\n",
       "5                      5      42       14      56              25.00\n",
       "6                      6      10        5      15              33.33\n",
       "7                      7      10        3      13              23.08\n",
       "8                      8       0        2       2             100.00\n",
       "9                      9       1        0       1               0.00\n",
       "10                    11       0        1       1             100.00\n",
       "11                    12       1        0       1               0.00"
      ]
     },
     "execution_count": 169,
     "metadata": {},
     "output_type": "execute_result"
    }
   ],
   "source": [
    "bancarrotas = tabla_impagos(datos, 'pub_rec_bankruptcies')\n",
    "bancarrotas"
   ]
  },
  {
   "cell_type": "markdown",
   "metadata": {},
   "source": [
    "Obtenemos los gráficos utilizando la función previamente declarada"
   ]
  },
  {
   "cell_type": "code",
   "execution_count": 215,
   "metadata": {},
   "outputs": [
    {
     "data": {
      "image/png": "[encoded data removed]",
      "text/plain": [
       "<Figure size 864x504 with 1 Axes>"
      ]
     },
     "metadata": {},
     "output_type": "display_data"
    }
   ],
   "source": [
    "barras_porcentuales(datos=registros_publicos, \n",
    "                    eje_x='pub_rec', \n",
    "                    titulo='Tasa de impago por número de registros en el registro público',\n",
    "                    etiqueta_x='Registros públicos')"
   ]
  },
  {
   "cell_type": "markdown",
   "metadata": {},
   "source": [
    "Exceptuando el caso de los 13 registros públicos, se puede apreciar como a partir de 12, el impago se disapra. Puede ser interesante añadir una variable que codifique si hay más de 12 registros públicos o no en la fase de ingeniería de variables. Hacemos el mismo gráfico con las bancarrotas"
   ]
  },
  {
   "cell_type": "code",
   "execution_count": 216,
   "metadata": {},
   "outputs": [
    {
     "data": {
      "image/png": "[encoded data removed]",
      "text/plain": [
       "<Figure size 864x504 with 1 Axes>"
      ]
     },
     "metadata": {},
     "output_type": "display_data"
    }
   ],
   "source": [
    "barras_porcentuales(datos=bancarrotas, \n",
    "                    eje_x='pub_rec_bankruptcies', \n",
    "                    titulo='Tasa de impago por número de bancarrotas en el registro público',\n",
    "                    etiqueta_x='bancarrotas')"
   ]
  },
  {
   "cell_type": "markdown",
   "metadata": {},
   "source": [
    "Igual que con el número de registros públicos, sería interesante crear una nueva variable que discrimine si el prestatario tiene mas de 4 quiebras. Sería interesante añadir pesos, en función de la frecuencia en el dataset"
   ]
  },
  {
   "cell_type": "markdown",
   "metadata": {},
   "source": [
    "### Estado de verificacion "
   ]
  },
  {
   "cell_type": "code",
   "execution_count": 188,
   "metadata": {},
   "outputs": [
    {
     "data": {
      "text/html": [
       "<div>\n",
       "<style scoped>\n",
       "    .dataframe tbody tr th:only-of-type {\n",
       "        vertical-align: middle;\n",
       "    }\n",
       "\n",
       "    .dataframe tbody tr th {\n",
       "        vertical-align: top;\n",
       "    }\n",
       "\n",
       "    .dataframe thead th {\n",
       "        text-align: right;\n",
       "    }\n",
       "</style>\n",
       "<table border=\"1\" class=\"dataframe\">\n",
       "  <thead>\n",
       "    <tr style=\"text-align: right;\">\n",
       "      <th></th>\n",
       "      <th>verification_status</th>\n",
       "      <th>paga</th>\n",
       "      <th>no paga</th>\n",
       "      <th>total</th>\n",
       "      <th>porcentaje_impago</th>\n",
       "    </tr>\n",
       "  </thead>\n",
       "  <tbody>\n",
       "    <tr>\n",
       "      <td>0</td>\n",
       "      <td>Not Verified</td>\n",
       "      <td>110346</td>\n",
       "      <td>25138</td>\n",
       "      <td>135484</td>\n",
       "      <td>18.55</td>\n",
       "    </tr>\n",
       "    <tr>\n",
       "      <td>1</td>\n",
       "      <td>Source Verified</td>\n",
       "      <td>139793</td>\n",
       "      <td>50822</td>\n",
       "      <td>190615</td>\n",
       "      <td>26.66</td>\n",
       "    </tr>\n",
       "    <tr>\n",
       "      <td>2</td>\n",
       "      <td>Verified</td>\n",
       "      <td>95381</td>\n",
       "      <td>40711</td>\n",
       "      <td>136092</td>\n",
       "      <td>29.91</td>\n",
       "    </tr>\n",
       "  </tbody>\n",
       "</table>\n",
       "</div>"
      ],
      "text/plain": [
       "  verification_status    paga  no paga   total  porcentaje_impago\n",
       "0        Not Verified  110346    25138  135484              18.55\n",
       "1     Source Verified  139793    50822  190615              26.66\n",
       "2            Verified   95381    40711  136092              29.91"
      ]
     },
     "execution_count": 188,
     "metadata": {},
     "output_type": "execute_result"
    }
   ],
   "source": [
    "estado = tabla_impagos(datos, 'verification_status')\n",
    "estado"
   ]
  },
  {
   "cell_type": "code",
   "execution_count": 217,
   "metadata": {},
   "outputs": [
    {
     "data": {
      "image/png": "[encoded data removed]",
      "text/plain": [
       "<Figure size 864x504 with 1 Axes>"
      ]
     },
     "metadata": {},
     "output_type": "display_data"
    }
   ],
   "source": [
    "barras_porcentuales(datos=estado,\n",
    "                    eje_x='verification_status',\n",
    "                    titulo='Porcentaje de impago por estado de verificación',\n",
    "                    etiqueta_x='Estado de verificación')"
   ]
  },
  {
   "cell_type": "markdown",
   "metadata": {},
   "source": [
    "### Columnas FICO y grade"
   ]
  },
  {
   "cell_type": "markdown",
   "metadata": {},
   "source": [
    "Calculamos la tasa de impago por la nota"
   ]
  },
  {
   "cell_type": "code",
   "execution_count": 193,
   "metadata": {},
   "outputs": [
    {
     "data": {
      "text/html": [
       "<div>\n",
       "<style scoped>\n",
       "    .dataframe tbody tr th:only-of-type {\n",
       "        vertical-align: middle;\n",
       "    }\n",
       "\n",
       "    .dataframe tbody tr th {\n",
       "        vertical-align: top;\n",
       "    }\n",
       "\n",
       "    .dataframe thead th {\n",
       "        text-align: right;\n",
       "    }\n",
       "</style>\n",
       "<table border=\"1\" class=\"dataframe\">\n",
       "  <thead>\n",
       "    <tr style=\"text-align: right;\">\n",
       "      <th></th>\n",
       "      <th>grade</th>\n",
       "      <th>paga</th>\n",
       "      <th>no paga</th>\n",
       "      <th>total</th>\n",
       "      <th>porcentaje_impago</th>\n",
       "    </tr>\n",
       "  </thead>\n",
       "  <tbody>\n",
       "    <tr>\n",
       "      <td>0</td>\n",
       "      <td>A</td>\n",
       "      <td>68708</td>\n",
       "      <td>5935</td>\n",
       "      <td>74643</td>\n",
       "      <td>7.95</td>\n",
       "    </tr>\n",
       "    <tr>\n",
       "      <td>1</td>\n",
       "      <td>B</td>\n",
       "      <td>102359</td>\n",
       "      <td>20644</td>\n",
       "      <td>123003</td>\n",
       "      <td>16.78</td>\n",
       "    </tr>\n",
       "    <tr>\n",
       "      <td>2</td>\n",
       "      <td>C</td>\n",
       "      <td>95699</td>\n",
       "      <td>35700</td>\n",
       "      <td>131399</td>\n",
       "      <td>27.17</td>\n",
       "    </tr>\n",
       "    <tr>\n",
       "      <td>3</td>\n",
       "      <td>D</td>\n",
       "      <td>48550</td>\n",
       "      <td>27784</td>\n",
       "      <td>76334</td>\n",
       "      <td>36.40</td>\n",
       "    </tr>\n",
       "    <tr>\n",
       "      <td>4</td>\n",
       "      <td>E</td>\n",
       "      <td>22165</td>\n",
       "      <td>18143</td>\n",
       "      <td>40308</td>\n",
       "      <td>45.01</td>\n",
       "    </tr>\n",
       "    <tr>\n",
       "      <td>5</td>\n",
       "      <td>F</td>\n",
       "      <td>6381</td>\n",
       "      <td>6476</td>\n",
       "      <td>12857</td>\n",
       "      <td>50.37</td>\n",
       "    </tr>\n",
       "    <tr>\n",
       "      <td>6</td>\n",
       "      <td>G</td>\n",
       "      <td>1658</td>\n",
       "      <td>1989</td>\n",
       "      <td>3647</td>\n",
       "      <td>54.54</td>\n",
       "    </tr>\n",
       "  </tbody>\n",
       "</table>\n",
       "</div>"
      ],
      "text/plain": [
       "  grade    paga  no paga   total  porcentaje_impago\n",
       "0     A   68708     5935   74643               7.95\n",
       "1     B  102359    20644  123003              16.78\n",
       "2     C   95699    35700  131399              27.17\n",
       "3     D   48550    27784   76334              36.40\n",
       "4     E   22165    18143   40308              45.01\n",
       "5     F    6381     6476   12857              50.37\n",
       "6     G    1658     1989    3647              54.54"
      ]
     },
     "execution_count": 193,
     "metadata": {},
     "output_type": "execute_result"
    }
   ],
   "source": [
    "impago_notas = tabla_impagos(datos, 'grade')\n",
    "impago_notas"
   ]
  },
  {
   "cell_type": "markdown",
   "metadata": {},
   "source": [
    "Y su representación gráfica "
   ]
  },
  {
   "cell_type": "code",
   "execution_count": 218,
   "metadata": {},
   "outputs": [
    {
     "data": {
      "image/png": "[encoded data removed]",
      "text/plain": [
       "<Figure size 864x504 with 1 Axes>"
      ]
     },
     "metadata": {},
     "output_type": "display_data"
    }
   ],
   "source": [
    "barras_porcentuales(datos=impago_notas, \n",
    "                    eje_x='grade',\n",
    "                    titulo='Porcentaje de impago y nota crediticia',\n",
    "                    etiqueta_x='Nota')"
   ]
  },
  {
   "cell_type": "markdown",
   "metadata": {},
   "source": [
    "Esta variable está altamente relacionada con la tasa de impago. Vemos como a peores calificaciones, la tasa se eleva en gran medida. Se incluirá en el modelo "
   ]
  },
  {
   "cell_type": "markdown",
   "metadata": {},
   "source": [
    "### Préstamo conjunto "
   ]
  },
  {
   "cell_type": "markdown",
   "metadata": {},
   "source": [
    "Cabría esperar que en los préstamos conjuntos, el porcentaje de impago sea menor, puesto que el riesgo se reparte entre las partes."
   ]
  },
  {
   "cell_type": "code",
   "execution_count": 225,
   "metadata": {},
   "outputs": [
    {
     "data": {
      "text/html": [
       "<div>\n",
       "<style scoped>\n",
       "    .dataframe tbody tr th:only-of-type {\n",
       "        vertical-align: middle;\n",
       "    }\n",
       "\n",
       "    .dataframe tbody tr th {\n",
       "        vertical-align: top;\n",
       "    }\n",
       "\n",
       "    .dataframe thead th {\n",
       "        text-align: right;\n",
       "    }\n",
       "</style>\n",
       "<table border=\"1\" class=\"dataframe\">\n",
       "  <thead>\n",
       "    <tr style=\"text-align: right;\">\n",
       "      <th></th>\n",
       "      <th>application_type</th>\n",
       "      <th>paga</th>\n",
       "      <th>no paga</th>\n",
       "      <th>total</th>\n",
       "      <th>porcentaje_impago</th>\n",
       "    </tr>\n",
       "  </thead>\n",
       "  <tbody>\n",
       "    <tr>\n",
       "      <td>0</td>\n",
       "      <td>Individual</td>\n",
       "      <td>344607</td>\n",
       "      <td>115934</td>\n",
       "      <td>460541</td>\n",
       "      <td>25.17</td>\n",
       "    </tr>\n",
       "    <tr>\n",
       "      <td>1</td>\n",
       "      <td>Joint App</td>\n",
       "      <td>913</td>\n",
       "      <td>737</td>\n",
       "      <td>1650</td>\n",
       "      <td>44.67</td>\n",
       "    </tr>\n",
       "  </tbody>\n",
       "</table>\n",
       "</div>"
      ],
      "text/plain": [
       "  application_type    paga  no paga   total  porcentaje_impago\n",
       "0       Individual  344607   115934  460541              25.17\n",
       "1        Joint App     913      737    1650              44.67"
      ]
     },
     "execution_count": 225,
     "metadata": {},
     "output_type": "execute_result"
    }
   ],
   "source": [
    "prestamos_conjuntos = tabla_impagos(datos, 'application_type')\n",
    "prestamos_conjuntos"
   ]
  },
  {
   "cell_type": "code",
   "execution_count": 226,
   "metadata": {
    "scrolled": false
   },
   "outputs": [
    {
     "data": {
      "image/png": "[encoded data removed]",
      "text/plain": [
       "<Figure size 864x504 with 1 Axes>"
      ]
     },
     "metadata": {},
     "output_type": "display_data"
    }
   ],
   "source": [
    "barras_porcentuales(datos=prestamos_conjuntos, \n",
    "                    eje_x='application_type',\n",
    "                    titulo='Porcentaje de impago por tipo de aplicación',\n",
    "                    etiqueta_x='Tipo de aplicación')"
   ]
  },
  {
   "cell_type": "markdown",
   "metadata": {},
   "source": [
    "## Análisis notas fico"
   ]
  },
  {
   "cell_type": "markdown",
   "metadata": {},
   "source": [
    "El análisis de estas variables se reserva para la parte de ingeniería de variables, puesto que va a haber que transformarla con toda seguridad"
   ]
  },
  {
   "cell_type": "markdown",
   "metadata": {},
   "source": [
    "## Guardamos los datos limpios"
   ]
  },
  {
   "cell_type": "code",
   "execution_count": 22,
   "metadata": {},
   "outputs": [],
   "source": [
    "datos.drop(['emp_title', 'title'], axis=1, inplace=True) # quitamos las redundantes"
   ]
  },
  {
   "cell_type": "code",
   "execution_count": 23,
   "metadata": {},
   "outputs": [],
   "source": [
    "# Guardamos los datos pre procesados para la ingeniería de variables \n",
    "datos.to_csv('../data/intermediate/pre_clean_data.csv', index=False)"
   ]
  }
 ],
 "metadata": {
  "kernelspec": {
   "display_name": "Python 3",
   "language": "python",
   "name": "python3"
  },
  "language_info": {
   "codemirror_mode": {
    "name": "ipython",
    "version": 3
   },
   "file_extension": ".py",
   "mimetype": "text/x-python",
   "name": "python",
   "nbconvert_exporter": "python",
   "pygments_lexer": "ipython3",
   "version": "3.7.4"
  }
 },
 "nbformat": 4,
 "nbformat_minor": 2
}
