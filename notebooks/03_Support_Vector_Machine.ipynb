{
 "cells": [
  {
   "cell_type": "markdown",
   "metadata": {},
   "source": [
    "### Autores:  \n",
    "Blanco García, Gabriel: gabriel.blanco@cunef.edu  \n",
    "Ferrín Meilán, Michelle: michelle.ferrin@cunef.edu\n",
    "\n",
    "## Colegio Universitario de Estudios Financieros\n",
    "### Máster en Data Science para Finanzas\n",
    "Madrid, diciembre de 2020"
   ]
  },
  {
   "cell_type": "markdown",
   "metadata": {},
   "source": [
    "# Support Vector Machine"
   ]
  },
  {
   "cell_type": "markdown",
   "metadata": {},
   "source": [
    "La idea original de estos modelos parte del clasificador de máximo margen. Para estos clasificadores, surge una sofisticación, conocida como Support Vector Classifiers, para mejorar la clasificación en casos en los que el clasificador marginal es insufuciente.   \n",
    "\n",
    "Posteriormente, para afrontar problemas de difícil separabilidad, surgen los Support Vector Machine. Estos modelos emplean una función kernel, que normalmente es de tipo lineal, polinomial o radial, para calcular las posiciones que tomarían las observaciones de un espacio n-dimensional en el resultante de aplicar la transformcaión del kernel.\n",
    "\n",
    "La clave está en que el espacio dimensional no se llega a transformar, puesto que esto generaría problemas de cómputo. Esto es conocido también como el kernel trick. Se calculan las posiciones en dicho espacio, y se separan las clases mediante un hiperplano. De este modo, un problema no separable se puede trasnformar en separable. Estos modelos  permiten cierto grado de error de clasificación en el entrenamiento para poder mejorar las predicciones  \n",
    "\n",
    "Los principales parámetros del SVM son C y gamma"
   ]
  },
  {
   "cell_type": "markdown",
   "metadata": {},
   "source": [
    "### Parámetro C\n",
    "Actúa como parámetro de regularización del modelo. Controla el trade off entre la correcta clasificación de los elementos en el entrenamiento y la decisión de la maximización del margen. \n",
    "Para valores grandes de C, se aceptará un valor de margen pequeño si se casifican mejor las observaciones en train. Valores pequeños permitiran un margen mas grande, com una función de decisión más simple, a costa de menor precisión"
   ]
  },
  {
   "cell_type": "markdown",
   "metadata": {},
   "source": [
    "###  Parámetro Gamma\n",
    "Es el parámetro que controla la curvatura de la frontera de decisión, se emplea cuando se usa el kernel radial"
   ]
  },
  {
   "cell_type": "markdown",
   "metadata": {},
   "source": [
    "A continuación construimos distintos SVM's. No empleamos validación cruzada porque el tiempo de cómputo se extiende demasiado, pero sería la mejor manera de hacerlo."
   ]
  },
  {
   "cell_type": "code",
   "execution_count": 2,
   "metadata": {},
   "outputs": [],
   "source": [
    "# Manipulacion\n",
    "import pandas as pd\n",
    "import numpy as np\n",
    "\n",
    "# Pipelines\n",
    "from sklearn.pipeline import Pipeline\n",
    "from sklearn.preprocessing import StandardScaler\n",
    "from sklearn.impute import SimpleImputer\n",
    "from sklearn.preprocessing import OneHotEncoder\n",
    "from sklearn.compose import ColumnTransformer\n",
    "\n",
    "# Modelos\n",
    "from sklearn.svm import SVC\n",
    "from sklearn.svm import LinearSVC # Support Vector Machine\n",
    "\n",
    "# Evaluación preliminar del modelo \n",
    "from sklearn import metrics \n",
    "\n",
    "# Cargar pipelines\n",
    "import pickle \n",
    "\n",
    "# Ocultar warnings\n",
    "import warnings\n",
    "warnings.filterwarnings('ignore')\n",
    "\n",
    "# Guardar los modelos\n",
    "%run ../src/operar_modelos.ipynb"
   ]
  },
  {
   "cell_type": "markdown",
   "metadata": {},
   "source": [
    "Leemos los datos"
   ]
  },
  {
   "cell_type": "code",
   "execution_count": 3,
   "metadata": {},
   "outputs": [],
   "source": [
    "X_train = pd.read_csv('../data/train/X_train.csv', engine='python')\n",
    "y_train = pd.read_csv('../data/train/y_train.csv', engine='python')\n",
    "\n",
    "X_test = pd.read_csv('../data/test/X_test.csv', engine='python')\n",
    "y_test = pd.read_csv('../data/test/y_test.csv', engine='python')"
   ]
  },
  {
   "cell_type": "markdown",
   "metadata": {},
   "source": [
    "Cargamos los pipelines previamente guardados. Para ello, definimos una función, puesto que vamos a cargarlos en múltiples  notebooks"
   ]
  },
  {
   "cell_type": "code",
   "execution_count": 35,
   "metadata": {},
   "outputs": [],
   "source": [
    "def cargar_pipelines():\n",
    "    '''\n",
    "    Esta función no lleva argumentos, porque hace siempre lo mismo, cargar \n",
    "    los Pipelines guardados en su carpeta. Es necesario asignar el resultado \n",
    "    de la función a un objeto para poder utilizarlo con los modelos.\n",
    "    \n",
    "    '''\n",
    "    preprocesador = pickle.load(open('../pipelines/preprocesador.sav', 'rb'))\n",
    "    \n",
    "    return preprocesador"
   ]
  },
  {
   "cell_type": "code",
   "execution_count": 37,
   "metadata": {},
   "outputs": [],
   "source": [
    "preprocesador = cargar_pipelines()"
   ]
  },
  {
   "cell_type": "markdown",
   "metadata": {},
   "source": [
    "Generamos y entrenamos el SVM con kernel radial"
   ]
  },
  {
   "cell_type": "code",
   "execution_count": 24,
   "metadata": {},
   "outputs": [],
   "source": [
    "svm = Pipeline(steps=[\n",
    "    ('preprocesado', preprocesador),\n",
    "    \n",
    "    ('clasificador', SVC(random_state=1234,\n",
    "                         kernel='rbf', # kernel radial\n",
    "                         max_iter=3000))]) # límite 3000 iteraciones"
   ]
  },
  {
   "cell_type": "code",
   "execution_count": 25,
   "metadata": {
    "scrolled": false
   },
   "outputs": [
    {
     "data": {
      "text/plain": [
       "Pipeline(steps=[('preprocesado',\n",
       "                 ColumnTransformer(transformers=[('numericas',\n",
       "                                                  Pipeline(steps=[('imputador',\n",
       "                                                                   SimpleImputer(strategy='median')),\n",
       "                                                                  ('escalador',\n",
       "                                                                   StandardScaler())]),\n",
       "                                                  Index(['loan_amnt', 'int_rate', 'annual_inc', 'dti', 'annual_inc_joint',\n",
       "       'dti_joint', 'mort_acc'],\n",
       "      dtype='object')),\n",
       "                                                 ('categoricas',\n",
       "                                                  Pipeline(steps=[('imputador',\n",
       "                                                                   SimpleImputer(fill_value='perdido',\n",
       "                                                                                 strategy='constant')),\n",
       "                                                                  ('onehot',\n",
       "                                                                   OneHotEncoder(handle_unknown='ignore'))]),\n",
       "                                                  Index(['term', 'grade', 'emp_length', 'home_ownership', 'purpose', 'pub_rec',\n",
       "       'application_type', 'pub_rec_bankruptcies', 'rating_fico'],\n",
       "      dtype='object'))])),\n",
       "                ('clasificador', SVC(max_iter=3000, random_state=1234))])"
      ]
     },
     "execution_count": 25,
     "metadata": {},
     "output_type": "execute_result"
    }
   ],
   "source": [
    "svm.fit(X_train, y_train)"
   ]
  },
  {
   "cell_type": "code",
   "execution_count": 26,
   "metadata": {},
   "outputs": [
    {
     "data": {
      "text/plain": [
       "0.685785787951564"
      ]
     },
     "execution_count": 26,
     "metadata": {},
     "output_type": "execute_result"
    }
   ],
   "source": [
    "svm.score(X_train, y_train) # 68.57% en train"
   ]
  },
  {
   "cell_type": "code",
   "execution_count": 29,
   "metadata": {},
   "outputs": [
    {
     "data": {
      "text/plain": [
       "0.6836183861789937"
      ]
     },
     "execution_count": 29,
     "metadata": {},
     "output_type": "execute_result"
    }
   ],
   "source": [
    "svm.score(X_test, y_test) # 68.36% en train"
   ]
  },
  {
   "cell_type": "markdown",
   "metadata": {},
   "source": [
    "Guardamos el modelo, pese a ser un desastre en términos de precisión."
   ]
  },
  {
   "cell_type": "code",
   "execution_count": null,
   "metadata": {},
   "outputs": [],
   "source": [
    "guardar_modelo(svm, '../models/trained_models/svm_radial.sav')"
   ]
  },
  {
   "cell_type": "markdown",
   "metadata": {},
   "source": [
    "Como deja bastante que desear, probamos el Linear SVC"
   ]
  },
  {
   "cell_type": "code",
   "execution_count": 31,
   "metadata": {},
   "outputs": [],
   "source": [
    "linear_svc = Pipeline(steps=[\n",
    "    ('preprocesado', preprocesador),\n",
    "    \n",
    "    ('clasificador', LinearSVC(random_state=1234,\n",
    "                               C=1.5, # parametro de regularizacion\n",
    "                               max_iter=3000))])"
   ]
  },
  {
   "cell_type": "code",
   "execution_count": 32,
   "metadata": {
    "scrolled": true
   },
   "outputs": [
    {
     "data": {
      "text/plain": [
       "Pipeline(steps=[('preprocesado',\n",
       "                 ColumnTransformer(transformers=[('numericas',\n",
       "                                                  Pipeline(steps=[('imputador',\n",
       "                                                                   SimpleImputer(strategy='median')),\n",
       "                                                                  ('escalador',\n",
       "                                                                   StandardScaler())]),\n",
       "                                                  Index(['loan_amnt', 'int_rate', 'annual_inc', 'dti', 'annual_inc_joint',\n",
       "       'dti_joint', 'mort_acc'],\n",
       "      dtype='object')),\n",
       "                                                 ('categoricas',\n",
       "                                                  Pipeline(steps=[('imputador',\n",
       "                                                                   SimpleImputer(fill_value='perdido',\n",
       "                                                                                 strategy='constant')),\n",
       "                                                                  ('onehot',\n",
       "                                                                   OneHotEncoder(handle_unknown='ignore'))]),\n",
       "                                                  Index(['term', 'grade', 'emp_length', 'home_ownership', 'purpose', 'pub_rec',\n",
       "       'application_type', 'pub_rec_bankruptcies', 'rating_fico'],\n",
       "      dtype='object'))])),\n",
       "                ('clasificador',\n",
       "                 LinearSVC(C=1.5, max_iter=3000, random_state=1234))])"
      ]
     },
     "execution_count": 32,
     "metadata": {},
     "output_type": "execute_result"
    }
   ],
   "source": [
    "linear_svc.fit(X_train, y_train)"
   ]
  },
  {
   "cell_type": "code",
   "execution_count": 7,
   "metadata": {},
   "outputs": [
    {
     "data": {
      "text/plain": [
       "0.7861810078106406"
      ]
     },
     "execution_count": 7,
     "metadata": {},
     "output_type": "execute_result"
    }
   ],
   "source": [
    "linear_svc.score(X_train, y_train) # 78.61%"
   ]
  },
  {
   "cell_type": "code",
   "execution_count": 33,
   "metadata": {},
   "outputs": [
    {
     "data": {
      "text/plain": [
       "0.7844416317787947"
      ]
     },
     "execution_count": 33,
     "metadata": {},
     "output_type": "execute_result"
    }
   ],
   "source": [
    "linear_svc.score(X_test, y_test) # 78.44% "
   ]
  },
  {
   "cell_type": "markdown",
   "metadata": {},
   "source": [
    "La precisión cae algo en test, pero no parece que sea debido a overfitting. Este modelo es bastante mejor que el radial, en terminos de accuracy. Habrá que ver su matriz de confusión normalizada, junto a la del restode modelos, dentro del notebook de selección de modelos"
   ]
  },
  {
   "cell_type": "markdown",
   "metadata": {},
   "source": [
    "Guardamos el modelo"
   ]
  },
  {
   "cell_type": "code",
   "execution_count": null,
   "metadata": {},
   "outputs": [],
   "source": [
    "guardar_modelo(linear_svc, '../models/trained_models/SVM_Lineal_Final.sav')"
   ]
  }
 ],
 "metadata": {
  "kernelspec": {
   "display_name": "Python 3",
   "language": "python",
   "name": "python3"
  },
  "language_info": {
   "codemirror_mode": {
    "name": "ipython",
    "version": 3
   },
   "file_extension": ".py",
   "mimetype": "text/x-python",
   "name": "python",
   "nbconvert_exporter": "python",
   "pygments_lexer": "ipython3",
   "version": "3.7.4"
  }
 },
 "nbformat": 4,
 "nbformat_minor": 2
}
