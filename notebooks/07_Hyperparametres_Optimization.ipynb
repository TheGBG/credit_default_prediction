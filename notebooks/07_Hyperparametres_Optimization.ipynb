{
 "cells": [
  {
   "cell_type": "markdown",
   "metadata": {},
   "source": [
    "### Autores:  \n",
    "Blanco García, Gabriel: gabriel.blanco@cunef.edu  \n",
    "Ferrín Meilán, Michelle: michelle.ferrin@cunef.edu\n",
    "\n",
    "## Colegio Universitario de Estudios Financieros\n",
    "### Máster en Data Science para Finanzas\n",
    "Madrid, diciembre de 2020"
   ]
  },
  {
   "cell_type": "markdown",
   "metadata": {},
   "source": [
    "# Optimización de hiperparámetros: XGBoost"
   ]
  },
  {
   "cell_type": "markdown",
   "metadata": {},
   "source": [
    "Los hiperparámetros de un modelo son aquellos parámetros que controlan aspectos relativos a la manera en que se entrena el modelo, como por ejemplo el número de estimadores, la función de coste que se utiliza para calcular el error, etc. La optimización de hiperparámetros consiste en probar distitnas combinaciones de hiperparámetros sobre un mismo modelo, y comparar los resultados con el fin de elegir una configuración que mejore los resultados originales."
   ]
  },
  {
   "cell_type": "markdown",
   "metadata": {},
   "source": [
    "El procedimiento es el siguiente: se construye una tabla o \"grid\" que contenga todos los parámetros que queremos probar y se ejecuta el modelo probando distintas combinaciones. Hay dos enfoques principales, la búsqueda grid y la búsqueda aleatoria.  \n",
    "\n",
    "En la búsqueda grid, dependiento del número de iteraciones que se utilicen, se exploran __muchas__ combinaciones de hiperparámetros, algo que aumenta la precisión de los resultados pero dispara el coste computacional.  \n",
    "\n",
    "Por el contrario, en la búsqueda aleatoria, se elige un número de combinaciones al azar, y se prueban. No se explorar todas las posibilidades, lo que reduce la calidad de los resultados, pero acorta el tiempo de ejecución.  \n",
    "\n",
    "De igual manera que existe el trade-off entre sesgo y varianza en los modelos, en Machine Learning también existe el trade-off entre calidad de los resultados y coste computacional asociado. En este trabajo implementamos la segunda opción, la búsqueda aleatoria. Existen otras formas más avanzadas de optimizar hiperparámetros, como la bayesiana, pero que hemos descartado por no extender demasiado el proceso "
   ]
  },
  {
   "cell_type": "markdown",
   "metadata": {},
   "source": [
    "Llevamos a cabo distintas optimizaciones, de menor a mayor carga. Para ello, utilizamos el 20% de los datos que hemos reservado como conjunto de validación"
   ]
  },
  {
   "cell_type": "code",
   "execution_count": 1,
   "metadata": {},
   "outputs": [],
   "source": [
    "# Manipulacion\n",
    "import pandas as pd\n",
    "import numpy as np\n",
    "\n",
    "# Visualización\n",
    "import seaborn as sns\n",
    "import matplotlib.pyplot as plt\n",
    "from sklearn.metrics import roc_auc_score\n",
    "import scikitplot as skplt\n",
    "\n",
    "# Pipelines\n",
    "from sklearn.pipeline import Pipeline\n",
    "from sklearn.preprocessing import StandardScaler\n",
    "from sklearn.impute import SimpleImputer\n",
    "from sklearn.preprocessing import OneHotEncoder\n",
    "from sklearn.compose import ColumnTransformer\n",
    "\n",
    "# El modelo\n",
    "from sklearn.ensemble import GradientBoostingClassifier \n",
    "\n",
    "# La búsqueda aleatoria con validación cruzada\n",
    "from sklearn.model_selection import  RandomizedSearchCV  \n",
    "\n",
    "# Evaluación de modelo\n",
    "from sklearn import metrics \n",
    "\n",
    "# Guardar el modelo\n",
    "import pickle \n",
    "\n",
    "# Métricas\n",
    "from sklearn.metrics import classification_report\n",
    "from sklearn.metrics import confusion_matrix\n",
    "\n",
    "# Guardar y cargar modelos, cargar pipelines \n",
    "%run ../src/operar_modelos.ipynb\n",
    "%run ../src/lectura_y_preprocesado.ipynb\n",
    "%run ../src/plots_metricas.ipynb\n",
    "\n",
    "# Ocultar warnings\n",
    "import warnings\n",
    "warnings.filterwarnings('ignore')"
   ]
  },
  {
   "cell_type": "markdown",
   "metadata": {},
   "source": [
    "Cargamos los datos de validación y test"
   ]
  },
  {
   "cell_type": "code",
   "execution_count": 3,
   "metadata": {},
   "outputs": [],
   "source": [
    "X_validation = pd.read_csv('../data/validation/X_validation.csv', engine='python')\n",
    "y_validation = pd.read_csv('../data/validation/y_validation.csv', engine='python')"
   ]
  },
  {
   "cell_type": "code",
   "execution_count": 4,
   "metadata": {},
   "outputs": [],
   "source": [
    "X_test = pd.read_csv('../data/test/X_test.csv', engine='python')\n",
    "y_test = pd.read_csv('../data/test/y_test.csv', engine='python')"
   ]
  },
  {
   "cell_type": "markdown",
   "metadata": {},
   "source": [
    "Cargamos el modelo ganador, el XGBoost"
   ]
  },
  {
   "cell_type": "code",
   "execution_count": 5,
   "metadata": {},
   "outputs": [],
   "source": [
    "XGBoost = cargar_modelo('../models/trained_models/XGBoost.sav')"
   ]
  },
  {
   "cell_type": "markdown",
   "metadata": {},
   "source": [
    "Llevamos a cabo varias optimizaciones. La primera optimización es bastante simple, validación cruzada con 3 folds, 4 posibles modelos, en total 12 ajustes"
   ]
  },
  {
   "cell_type": "markdown",
   "metadata": {},
   "source": [
    "### Primera optimización"
   ]
  },
  {
   "cell_type": "markdown",
   "metadata": {},
   "source": [
    "Definimos los hiperparámetros: distintos números de estimadores, y distintos critérios de cálculo del número de variales consideradas para la división de cada rama"
   ]
  },
  {
   "cell_type": "code",
   "execution_count": 6,
   "metadata": {},
   "outputs": [],
   "source": [
    "hiperparametros = {\n",
    "    'clasificador__max_features': ['auto', 'sqrt', 'log2'],\n",
    "    'clasificador__n_estimators': [250, 500]}"
   ]
  },
  {
   "cell_type": "markdown",
   "metadata": {},
   "source": [
    "Construimos el primer objeto de optimización"
   ]
  },
  {
   "cell_type": "code",
   "execution_count": 11,
   "metadata": {},
   "outputs": [],
   "source": [
    "Optimized_XGBoost = RandomizedSearchCV(XGBoost, # el modelo cargado, sin parámetros \n",
    "                                       hiperparametros, # los hiperparámetros definidos arriba\n",
    "                                       cv=3,  # solo 3 folds\n",
    "                                       n_iter=4, # 4 combinaciones\n",
    "                                       verbose=1, # para que vaya informando del proceso \n",
    "                                       random_state=1234, # asegura la reproductibilidad \n",
    "                                       n_jobs=3) # 3 nucleos trabajando"
   ]
  },
  {
   "cell_type": "markdown",
   "metadata": {},
   "source": [
    "El argumento `verbose` proporciona información útil acerca del proceso. Cuanto mayor sea su número, más mensajes dará."
   ]
  },
  {
   "cell_type": "markdown",
   "metadata": {},
   "source": [
    "Lanzamos el modelo sobre los datos de validación"
   ]
  },
  {
   "cell_type": "code",
   "execution_count": 12,
   "metadata": {
    "scrolled": false
   },
   "outputs": [
    {
     "name": "stdout",
     "output_type": "stream",
     "text": [
      "Fitting 3 folds for each of 4 candidates, totalling 12 fits\n"
     ]
    },
    {
     "name": "stderr",
     "output_type": "stream",
     "text": [
      "[Parallel(n_jobs=3)]: Using backend LokyBackend with 3 concurrent workers.\n",
      "[Parallel(n_jobs=3)]: Done  12 out of  12 | elapsed:  4.3min finished\n"
     ]
    },
    {
     "data": {
      "text/plain": [
       "RandomizedSearchCV(cv=3,\n",
       "                   estimator=Pipeline(steps=[('preprocesador',\n",
       "                                              ColumnTransformer(transformers=[('numericas',\n",
       "                                                                               Pipeline(steps=[('imputador',\n",
       "                                                                                                SimpleImputer(strategy='median')),\n",
       "                                                                                               ('escalador',\n",
       "                                                                                                StandardScaler())]),\n",
       "                                                                               Index(['loan_amnt', 'int_rate', 'annual_inc', 'dti', 'annual_inc_joint',\n",
       "       'dti_joint', 'mort_acc'],\n",
       "      dtype='object')),\n",
       "                                                                              ('categoricas',\n",
       "                                                                               Pipeline(steps=[('...\n",
       "                                                                               Index(['term', 'grade', 'emp_length', 'home_ownership', 'purpose', 'pub_rec',\n",
       "       'application_type', 'pub_rec_bankruptcies', 'rating_fico'],\n",
       "      dtype='object'))])),\n",
       "                                             ('clasificador',\n",
       "                                              GradientBoostingClassifier(random_state=1234))]),\n",
       "                   n_iter=4, n_jobs=3,\n",
       "                   param_distributions={'clasificador__max_features': ['auto',\n",
       "                                                                       'sqrt',\n",
       "                                                                       'log2'],\n",
       "                                        'clasificador__n_estimators': [250,\n",
       "                                                                       500]},\n",
       "                   random_state=1234, verbose=1)"
      ]
     },
     "execution_count": 12,
     "metadata": {},
     "output_type": "execute_result"
    }
   ],
   "source": [
    "Optimized_XGBoost.fit(X_validation, y_validation)"
   ]
  },
  {
   "cell_type": "code",
   "execution_count": 16,
   "metadata": {},
   "outputs": [
    {
     "data": {
      "text/plain": [
       "0.78607283474927"
      ]
     },
     "execution_count": 16,
     "metadata": {},
     "output_type": "execute_result"
    }
   ],
   "source": [
    "Optimized_XGBoost.best_score_"
   ]
  },
  {
   "cell_type": "markdown",
   "metadata": {},
   "source": [
    "Podemos obetner los parámetros del mejor modelo"
   ]
  },
  {
   "cell_type": "code",
   "execution_count": 17,
   "metadata": {},
   "outputs": [
    {
     "data": {
      "text/plain": [
       "{'clasificador__n_estimators': 500, 'clasificador__max_features': 'log2'}"
      ]
     },
     "execution_count": 17,
     "metadata": {},
     "output_type": "execute_result"
    }
   ],
   "source": [
    "Optimized_XGBoost.best_params_"
   ]
  },
  {
   "cell_type": "markdown",
   "metadata": {},
   "source": [
    "Y el accuracy"
   ]
  },
  {
   "cell_type": "code",
   "execution_count": 21,
   "metadata": {},
   "outputs": [
    {
     "data": {
      "text/plain": [
       "0.7878276485033373"
      ]
     },
     "execution_count": 21,
     "metadata": {},
     "output_type": "execute_result"
    }
   ],
   "source": [
    "Optimized_XGBoost.best_estimator_.score(X_test, y_test)"
   ]
  },
  {
   "cell_type": "markdown",
   "metadata": {},
   "source": [
    "La precisión del XGBoost sin optimizar los hiperparámetros era de 78.8%. Guardamos este modelo y probamos optimizaciones más largas."
   ]
  },
  {
   "cell_type": "code",
   "execution_count": 26,
   "metadata": {},
   "outputs": [],
   "source": [
    "guardar_modelo(Optimized_XGBoost.best_estimator_, '../models/trained_models/Optimized_XGBoost.sav')"
   ]
  },
  {
   "cell_type": "markdown",
   "metadata": {},
   "source": [
    "### Segunda optimización"
   ]
  },
  {
   "cell_type": "markdown",
   "metadata": {},
   "source": [
    "Añadimos la posibilidad de utilizar distintas funciones de pérdida"
   ]
  },
  {
   "cell_type": "code",
   "execution_count": 27,
   "metadata": {},
   "outputs": [],
   "source": [
    "hiperparametros = {\n",
    "    'clasificador__loss': ['deviance', 'exponential'],\n",
    "    'clasificador__max_features': ['auto', 'sqrt', 'log2'],\n",
    "    'clasificador__n_estimators': [250, 500, 750]}"
   ]
  },
  {
   "cell_type": "code",
   "execution_count": 29,
   "metadata": {},
   "outputs": [],
   "source": [
    "Optimized_XGBoost_V2 = RandomizedSearchCV(XGBoost, # el modelo cargado, sin parámetros \n",
    "                                       hiperparametros, # los hiperparámetros definidos arriba\n",
    "                                       cv=3,  # solo 3 folds\n",
    "                                       n_iter=5, # 5 combinaciones\n",
    "                                       verbose=1, # para que vaya informando del proceso \n",
    "                                       random_state=1234, # asegura la reproductibilidad \n",
    "                                       n_jobs=3) # 3 nucleos trabajando"
   ]
  },
  {
   "cell_type": "code",
   "execution_count": 30,
   "metadata": {},
   "outputs": [
    {
     "name": "stdout",
     "output_type": "stream",
     "text": [
      "Fitting 3 folds for each of 5 candidates, totalling 15 fits\n"
     ]
    },
    {
     "name": "stderr",
     "output_type": "stream",
     "text": [
      "[Parallel(n_jobs=3)]: Using backend LokyBackend with 3 concurrent workers.\n",
      "[Parallel(n_jobs=3)]: Done  15 out of  15 | elapsed:  7.6min finished\n"
     ]
    },
    {
     "data": {
      "text/plain": [
       "RandomizedSearchCV(cv=3,\n",
       "                   estimator=Pipeline(steps=[('preprocesador',\n",
       "                                              ColumnTransformer(transformers=[('numericas',\n",
       "                                                                               Pipeline(steps=[('imputador',\n",
       "                                                                                                SimpleImputer(strategy='median')),\n",
       "                                                                                               ('escalador',\n",
       "                                                                                                StandardScaler())]),\n",
       "                                                                               Index(['loan_amnt', 'int_rate', 'annual_inc', 'dti', 'annual_inc_joint',\n",
       "       'dti_joint', 'mort_acc'],\n",
       "      dtype='object')),\n",
       "                                                                              ('categoricas',\n",
       "                                                                               Pipeline(steps=[('...\n",
       "       'application_type', 'pub_rec_bankruptcies', 'rating_fico'],\n",
       "      dtype='object'))])),\n",
       "                                             ('clasificador',\n",
       "                                              GradientBoostingClassifier(random_state=1234))]),\n",
       "                   n_iter=5, n_jobs=3,\n",
       "                   param_distributions={'clasificador__loss': ['deviance',\n",
       "                                                               'exponential'],\n",
       "                                        'clasificador__max_features': ['auto',\n",
       "                                                                       'sqrt',\n",
       "                                                                       'log2'],\n",
       "                                        'clasificador__n_estimators': [250, 500,\n",
       "                                                                       750]},\n",
       "                   random_state=1234, verbose=1)"
      ]
     },
     "execution_count": 30,
     "metadata": {},
     "output_type": "execute_result"
    }
   ],
   "source": [
    "Optimized_XGBoost_V2.fit(X_validation, y_validation)"
   ]
  },
  {
   "cell_type": "code",
   "execution_count": 32,
   "metadata": {
    "scrolled": false
   },
   "outputs": [
    {
     "data": {
      "text/plain": [
       "0.7878925561721785"
      ]
     },
     "execution_count": 32,
     "metadata": {},
     "output_type": "execute_result"
    }
   ],
   "source": [
    "Optimized_XGBoost_V2.best_estimator_.score(X_test, y_test) # 78.79%, ligeramente mejor"
   ]
  },
  {
   "cell_type": "markdown",
   "metadata": {},
   "source": [
    "La precisión es algo mejor que en la primera optimización, pero sigue siendo menor que el XGBoost base"
   ]
  },
  {
   "cell_type": "code",
   "execution_count": 33,
   "metadata": {
    "scrolled": false
   },
   "outputs": [
    {
     "data": {
      "text/plain": [
       "{'clasificador__n_estimators': 750,\n",
       " 'clasificador__max_features': 'log2',\n",
       " 'clasificador__loss': 'exponential'}"
      ]
     },
     "execution_count": 33,
     "metadata": {},
     "output_type": "execute_result"
    }
   ],
   "source": [
    "Optimized_XGBoost_V2.best_params_ # Estos son los parámetros del mejor modelo del segundo intento"
   ]
  },
  {
   "cell_type": "markdown",
   "metadata": {},
   "source": [
    "Guardamos el modelo y probamos con más parámetros"
   ]
  },
  {
   "cell_type": "code",
   "execution_count": 34,
   "metadata": {},
   "outputs": [],
   "source": [
    "guardar_modelo(Optimized_XGBoost_V2.best_estimator_, '../models/trained_models/Optimized_XGBoost_V2.sav')"
   ]
  },
  {
   "cell_type": "markdown",
   "metadata": {},
   "source": [
    "### Tercera optimización"
   ]
  },
  {
   "cell_type": "markdown",
   "metadata": {},
   "source": [
    "Es similar a la anterior, pero añadimos la posibilidad de que usen más estimadores, 1000 y 1500. "
   ]
  },
  {
   "cell_type": "code",
   "execution_count": 5,
   "metadata": {},
   "outputs": [],
   "source": [
    "hiperparametros = {\n",
    "    'clasificador__loss': ['deviance', 'exponential'],\n",
    "    'clasificador__max_features': ['auto', 'sqrt', 'log2'],\n",
    "    'clasificador__n_estimators': [500, 750, 1000, 1500]}"
   ]
  },
  {
   "cell_type": "code",
   "execution_count": 6,
   "metadata": {},
   "outputs": [],
   "source": [
    "Optimized_XGBoost_V3 = RandomizedSearchCV(XGBoost, # el modelo cargado, sin parámetros \n",
    "                                       hiperparametros, # los hiperparámetros definidos arriba\n",
    "                                       cv=3,  # solo 3 folds\n",
    "                                       n_iter=7, #  7 combinaciones\n",
    "                                       verbose=1.5, # para que vaya informando del proceso \n",
    "                                       random_state=1234, # asegura la reproductibilidad \n",
    "                                       n_jobs=3) # 3 nucleos trabajando"
   ]
  },
  {
   "cell_type": "code",
   "execution_count": 7,
   "metadata": {
    "scrolled": false
   },
   "outputs": [
    {
     "name": "stdout",
     "output_type": "stream",
     "text": [
      "Fitting 3 folds for each of 7 candidates, totalling 21 fits\n"
     ]
    },
    {
     "name": "stderr",
     "output_type": "stream",
     "text": [
      "[Parallel(n_jobs=3)]: Using backend LokyBackend with 3 concurrent workers.\n",
      "[Parallel(n_jobs=3)]: Done  21 out of  21 | elapsed: 19.0min finished\n"
     ]
    },
    {
     "data": {
      "text/plain": [
       "RandomizedSearchCV(cv=3,\n",
       "                   estimator=Pipeline(steps=[('preprocesador',\n",
       "                                              ColumnTransformer(transformers=[('numericas',\n",
       "                                                                               Pipeline(steps=[('imputador',\n",
       "                                                                                                SimpleImputer(strategy='median')),\n",
       "                                                                                               ('escalador',\n",
       "                                                                                                StandardScaler())]),\n",
       "                                                                               Index(['loan_amnt', 'int_rate', 'annual_inc', 'dti', 'annual_inc_joint',\n",
       "       'dti_joint', 'mort_acc'],\n",
       "      dtype='object')),\n",
       "                                                                              ('categoricas',\n",
       "                                                                               Pipeline(steps=[('...\n",
       "       'application_type', 'pub_rec_bankruptcies', 'rating_fico'],\n",
       "      dtype='object'))])),\n",
       "                                             ('clasificador',\n",
       "                                              GradientBoostingClassifier(random_state=1234))]),\n",
       "                   n_iter=7, n_jobs=3,\n",
       "                   param_distributions={'clasificador__loss': ['deviance',\n",
       "                                                               'exponential'],\n",
       "                                        'clasificador__max_features': ['auto',\n",
       "                                                                       'sqrt',\n",
       "                                                                       'log2'],\n",
       "                                        'clasificador__n_estimators': [500, 750,\n",
       "                                                                       1000,\n",
       "                                                                       1500]},\n",
       "                   random_state=1234, verbose=1.5)"
      ]
     },
     "execution_count": 7,
     "metadata": {},
     "output_type": "execute_result"
    }
   ],
   "source": [
    "Optimized_XGBoost_V3.fit(X_validation, y_validation)"
   ]
  },
  {
   "cell_type": "code",
   "execution_count": 9,
   "metadata": {},
   "outputs": [
    {
     "data": {
      "text/plain": [
       "0.7877735587793031"
      ]
     },
     "execution_count": 9,
     "metadata": {},
     "output_type": "execute_result"
    }
   ],
   "source": [
    "Optimized_XGBoost_V3.best_estimator_.score(X_test, y_test) # 78.77%, peor "
   ]
  },
  {
   "cell_type": "markdown",
   "metadata": {},
   "source": [
    "Parámetros del mejor modelo"
   ]
  },
  {
   "cell_type": "code",
   "execution_count": 10,
   "metadata": {
    "scrolled": true
   },
   "outputs": [
    {
     "data": {
      "text/plain": [
       "{'clasificador__n_estimators': 500,\n",
       " 'clasificador__max_features': 'sqrt',\n",
       " 'clasificador__loss': 'exponential'}"
      ]
     },
     "execution_count": 10,
     "metadata": {},
     "output_type": "execute_result"
    }
   ],
   "source": [
    "Optimized_XGBoost_V3.best_params_"
   ]
  },
  {
   "cell_type": "markdown",
   "metadata": {},
   "source": [
    "Guardamos el modelo"
   ]
  },
  {
   "cell_type": "code",
   "execution_count": 11,
   "metadata": {},
   "outputs": [],
   "source": [
    "guardar_modelo(Optimized_XGBoost_V3, '../models/trained_models/Optimized_XGBoost_V3.sav')"
   ]
  },
  {
   "cell_type": "markdown",
   "metadata": {},
   "source": [
    "# Última optimización"
   ]
  },
  {
   "cell_type": "markdown",
   "metadata": {},
   "source": [
    "Hacemos una última optimización, poniendo más profundidad a los árboles. No incluimos el deviance, porque el exponential es el que ha ganado en los otros intentos. Se excluye \"auto\" de los posibles hiperparámetros para calcular el número de variables por el mismo motivo."
   ]
  },
  {
   "cell_type": "code",
   "execution_count": 93,
   "metadata": {},
   "outputs": [],
   "source": [
    "hiperparametros = {\n",
    "    'clasificador__loss': ['exponential'],\n",
    "    'clasificador__max_features': ['sqrt', 'log2'],\n",
    "    'clasificador__n_estimators': [500, 750, 1000],\n",
    "    'clasificador__max_depth': [4, 5, 6, 7, 9]} "
   ]
  },
  {
   "cell_type": "code",
   "execution_count": 95,
   "metadata": {},
   "outputs": [],
   "source": [
    "Optimized_XGBoost_V5_CV_10 = RandomizedSearchCV(XGBoost, # el modelo cargado, sin parámetros \n",
    "                                       hiperparametros, # los hiperparámetros definidos arriba\n",
    "                                       cv=10,  # 10 folds\n",
    "                                       n_iter=10, #  10 combinaciones, es el valor por defecto, pero lo ponemos por enfatizar\n",
    "                                       verbose=1.5, # para que vaya informando del proceso \n",
    "                                       random_state=1234, # asegura la reproductibilidad \n",
    "                                       n_jobs=3) # 3 nucleos trabajando"
   ]
  },
  {
   "cell_type": "code",
   "execution_count": 97,
   "metadata": {},
   "outputs": [
    {
     "name": "stdout",
     "output_type": "stream",
     "text": [
      "Fitting 10 folds for each of 10 candidates, totalling 100 fits\n"
     ]
    },
    {
     "name": "stderr",
     "output_type": "stream",
     "text": [
      "[Parallel(n_jobs=3)]: Using backend LokyBackend with 3 concurrent workers.\n",
      "[Parallel(n_jobs=3)]: Done  40 tasks      | elapsed: 23.1min\n",
      "[Parallel(n_jobs=3)]: Done 100 out of 100 | elapsed: 72.1min finished\n"
     ]
    },
    {
     "data": {
      "text/plain": [
       "RandomizedSearchCV(cv=10,\n",
       "                   estimator=Pipeline(steps=[('preprocesador',\n",
       "                                              ColumnTransformer(transformers=[('numericas',\n",
       "                                                                               Pipeline(steps=[('imputador',\n",
       "                                                                                                SimpleImputer(strategy='median')),\n",
       "                                                                                               ('escalador',\n",
       "                                                                                                StandardScaler())]),\n",
       "                                                                               Index(['loan_amnt', 'int_rate', 'annual_inc', 'dti', 'annual_inc_joint',\n",
       "       'dti_joint', 'mort_acc'],\n",
       "      dtype='object')),\n",
       "                                                                              ('categoricas',\n",
       "                                                                               Pipeline(steps=[(...\n",
       "       'application_type', 'pub_rec_bankruptcies', 'rating_fico'],\n",
       "      dtype='object'))])),\n",
       "                                             ('clasificador',\n",
       "                                              GradientBoostingClassifier(random_state=1234))]),\n",
       "                   n_jobs=3,\n",
       "                   param_distributions={'clasificador__loss': ['exponential'],\n",
       "                                        'clasificador__max_depth': [4, 5, 6, 7,\n",
       "                                                                    9],\n",
       "                                        'clasificador__max_features': ['sqrt',\n",
       "                                                                       'log2'],\n",
       "                                        'clasificador__n_estimators': [500, 750,\n",
       "                                                                       1000]},\n",
       "                   random_state=1234, verbose=1.5)"
      ]
     },
     "execution_count": 97,
     "metadata": {},
     "output_type": "execute_result"
    }
   ],
   "source": [
    "Optimized_XGBoost_V5_CV_10.fit(X_validation, y_validation)"
   ]
  },
  {
   "cell_type": "code",
   "execution_count": 98,
   "metadata": {},
   "outputs": [
    {
     "data": {
      "text/plain": [
       "{'clasificador__n_estimators': 500,\n",
       " 'clasificador__max_features': 'log2',\n",
       " 'clasificador__max_depth': 4,\n",
       " 'clasificador__loss': 'exponential'}"
      ]
     },
     "execution_count": 98,
     "metadata": {},
     "output_type": "execute_result"
    }
   ],
   "source": [
    "Optimized_XGBoost_V5_CV_10.best_params_ # Sigue saliendo el mismo modelo que el V4"
   ]
  },
  {
   "cell_type": "code",
   "execution_count": 100,
   "metadata": {},
   "outputs": [
    {
     "data": {
      "text/plain": [
       "0.7881954586267701"
      ]
     },
     "execution_count": 100,
     "metadata": {},
     "output_type": "execute_result"
    }
   ],
   "source": [
    "Optimized_XGBoost_V5_CV_10.best_estimator_.score(X_test, y_test)"
   ]
  },
  {
   "cell_type": "markdown",
   "metadata": {},
   "source": [
    "Guardamos el modelo"
   ]
  },
  {
   "cell_type": "code",
   "execution_count": 122,
   "metadata": {},
   "outputs": [],
   "source": [
    "guardar_modelo(Optimized_XGBoost_V5_CV_10, '../models/trained_models/Best_XGBoost.sav')"
   ]
  },
  {
   "cell_type": "markdown",
   "metadata": {},
   "source": [
    "### Resultado de la optimización "
   ]
  },
  {
   "cell_type": "markdown",
   "metadata": {},
   "source": [
    "Evaluamos el modelo optimizado y lo comparamos con el XGBoost sin optimizar. Cargamos ambos modelos, porque este notebook no se terminó en la misma sesión"
   ]
  },
  {
   "cell_type": "code",
   "execution_count": 6,
   "metadata": {},
   "outputs": [],
   "source": [
    "XGBoost = cargar_modelo('../models/trained_models/XGBoost.sav')"
   ]
  },
  {
   "cell_type": "code",
   "execution_count": 8,
   "metadata": {},
   "outputs": [],
   "source": [
    "Optimized_XGBoost = cargar_modelo('../models/trained_models/Best_XGBoost.sav') "
   ]
  },
  {
   "cell_type": "markdown",
   "metadata": {},
   "source": [
    "### XGBoost optimizado"
   ]
  },
  {
   "cell_type": "markdown",
   "metadata": {},
   "source": [
    "Calculamos su accuracy, AUC y tasa de falsos positivos y la comparamos con el XGBoost normal"
   ]
  },
  {
   "cell_type": "code",
   "execution_count": 9,
   "metadata": {},
   "outputs": [
    {
     "data": {
      "text/plain": [
       "0.7881954586267701"
      ]
     },
     "execution_count": 9,
     "metadata": {},
     "output_type": "execute_result"
    }
   ],
   "source": [
    "accuracy(Optimized_XGBoost)"
   ]
  },
  {
   "cell_type": "code",
   "execution_count": 10,
   "metadata": {
    "scrolled": false
   },
   "outputs": [
    {
     "data": {
      "image/png": "[encoded data removed]",
      "text/plain": [
       "<Figure size 864x504 with 1 Axes>"
      ]
     },
     "metadata": {
      "needs_background": "light"
     },
     "output_type": "display_data"
    }
   ],
   "source": [
    "grafico_roc(Optimized_XGBoost, 'Curvas ROC XGBoost optimizado')"
   ]
  },
  {
   "cell_type": "code",
   "execution_count": 11,
   "metadata": {},
   "outputs": [
    {
     "data": {
      "image/png": "[encoded data removed]",
      "text/plain": [
       "<Figure size 864x504 with 2 Axes>"
      ]
     },
     "metadata": {
      "needs_background": "light"
     },
     "output_type": "display_data"
    }
   ],
   "source": [
    "plot_matriz_confusion(Optimized_XGBoost, 'Matriz de confusión: XGBoost optimizado')"
   ]
  },
  {
   "cell_type": "markdown",
   "metadata": {},
   "source": [
    "### Comparación con el XGBoost sin optimizar "
   ]
  },
  {
   "cell_type": "markdown",
   "metadata": {},
   "source": [
    "Construimos la tabla"
   ]
  },
  {
   "cell_type": "code",
   "execution_count": 12,
   "metadata": {},
   "outputs": [
    {
     "data": {
      "text/html": [
       "<div>\n",
       "<style scoped>\n",
       "    .dataframe tbody tr th:only-of-type {\n",
       "        vertical-align: middle;\n",
       "    }\n",
       "\n",
       "    .dataframe tbody tr th {\n",
       "        vertical-align: top;\n",
       "    }\n",
       "\n",
       "    .dataframe thead th {\n",
       "        text-align: right;\n",
       "    }\n",
       "</style>\n",
       "<table border=\"1\" class=\"dataframe\">\n",
       "  <thead>\n",
       "    <tr style=\"text-align: right;\">\n",
       "      <th></th>\n",
       "      <th>Modelo</th>\n",
       "      <th>Accuracy</th>\n",
       "      <th>Área bajo la curva ROC</th>\n",
       "      <th>Tasa de falsos positivos</th>\n",
       "    </tr>\n",
       "  </thead>\n",
       "  <tbody>\n",
       "    <tr>\n",
       "      <td>0</td>\n",
       "      <td>XGBoost base</td>\n",
       "      <td>78.8152%</td>\n",
       "      <td>0.75</td>\n",
       "      <td>18.82%</td>\n",
       "    </tr>\n",
       "    <tr>\n",
       "      <td>1</td>\n",
       "      <td>XGBoost optimizado</td>\n",
       "      <td>78.8195%</td>\n",
       "      <td>0.76</td>\n",
       "      <td>18.69%</td>\n",
       "    </tr>\n",
       "  </tbody>\n",
       "</table>\n",
       "</div>"
      ],
      "text/plain": [
       "               Modelo  Accuracy Área bajo la curva ROC  \\\n",
       "0        XGBoost base  78.8152%                   0.75   \n",
       "1  XGBoost optimizado  78.8195%                   0.76   \n",
       "\n",
       "  Tasa de falsos positivos  \n",
       "0                   18.82%  \n",
       "1                   18.69%  "
      ]
     },
     "execution_count": 12,
     "metadata": {},
     "output_type": "execute_result"
    }
   ],
   "source": [
    "datos_performance_modelos = {'Modelo': ['XGBoost base', 'XGBoost optimizado'],\n",
    "                             \n",
    "                             'Accuracy': ['78.8152%', '78.8195%'],\n",
    "                             \n",
    "                             'Área bajo la curva ROC': ['0.75', '0.76'],\n",
    "                             \n",
    "                             'Tasa de falsos positivos': ['18.82%', '18.69%']}\n",
    "\n",
    "resumen_performance = pd.DataFrame(datos_performance_modelos, columns=['Modelo', \n",
    "                                                                       'Accuracy', \n",
    "                                                                       'Área bajo la curva ROC',\n",
    "                                                                       'Tasa de falsos positivos'])\n",
    "\n",
    "resumen_performance"
   ]
  },
  {
   "cell_type": "markdown",
   "metadata": {},
   "source": [
    "Tal como se puede observar, la mejora en accuracy no es sustancial, aunque el modelo optimizado es más preciso. El área bajo la curva ROC aumenta ligeramente, de 0.75 a 0.76. Lo más interesante es que este modelo consigue rebajar la tasa de falsos positivos en un 1.3%, de un total de 17.396 a 17.281, lo que supone un total de 115 créditos impagados bien clasificados, algo que se traduce en menos pérdida para la empresa. Las comparaciones son posibles porque las métricas de ambos modelos se calculan sobre el mismo conjunto, sobre el de test"
   ]
  },
  {
   "cell_type": "markdown",
   "metadata": {},
   "source": [
    "Finalmente, en el siguiente notebook se examinan más a fondo los resultados del modelo optimizado y se valoran más métricas. Este es el modelo que se pondrá en prodcucción."
   ]
  }
 ],
 "metadata": {
  "kernelspec": {
   "display_name": "Python 3",
   "language": "python",
   "name": "python3"
  },
  "language_info": {
   "codemirror_mode": {
    "name": "ipython",
    "version": 3
   },
   "file_extension": ".py",
   "mimetype": "text/x-python",
   "name": "python",
   "nbconvert_exporter": "python",
   "pygments_lexer": "ipython3",
   "version": "3.7.4"
  }
 },
 "nbformat": 4,
 "nbformat_minor": 2
}
